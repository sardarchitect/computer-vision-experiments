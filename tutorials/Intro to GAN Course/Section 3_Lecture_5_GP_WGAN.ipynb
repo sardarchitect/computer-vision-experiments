{
 "cells": [
  {
   "cell_type": "markdown",
   "metadata": {
    "colab_type": "text",
    "id": "IrWi6wqEdR_f"
   },
   "source": [
    "### Lecture 5: [Coding Exercise] GP-WGAN"
   ]
  },
  {
   "cell_type": "markdown",
   "metadata": {
    "colab_type": "text",
    "id": "Dk9ERJ3QWAXP"
   },
   "source": [
    "#### GPU Support"
   ]
  },
  {
   "cell_type": "code",
   "execution_count": null,
   "metadata": {
    "colab": {},
    "colab_type": "code",
    "id": "ueHdbROadR_k"
   },
   "outputs": [],
   "source": [
    "import torch\n",
    "import numpy as np\n",
    "from matplotlib import pyplot as plt\n",
    "% matplotlib inline"
   ]
  },
  {
   "cell_type": "code",
   "execution_count": 2,
   "metadata": {
    "colab": {
     "base_uri": "https://localhost:8080/",
     "height": 34
    },
    "colab_type": "code",
    "id": "QBkYuF4xdR_r",
    "outputId": "132601eb-ace0-4460-9771-68bdbf7b252f"
   },
   "outputs": [
    {
     "data": {
      "text/plain": [
       "True"
      ]
     },
     "execution_count": 2,
     "metadata": {
      "tags": []
     },
     "output_type": "execute_result"
    }
   ],
   "source": [
    "torch.cuda.is_available()"
   ]
  },
  {
   "cell_type": "code",
   "execution_count": 3,
   "metadata": {
    "colab": {
     "base_uri": "https://localhost:8080/",
     "height": 34
    },
    "colab_type": "code",
    "id": "eSuNyDA3dR_u",
    "outputId": "f3a177d6-ad68-4616-ae3a-b0174d6dd39e"
   },
   "outputs": [
    {
     "data": {
      "text/plain": [
       "device(type='cuda')"
      ]
     },
     "execution_count": 3,
     "metadata": {
      "tags": []
     },
     "output_type": "execute_result"
    }
   ],
   "source": [
    "device = torch.device('cpu')\n",
    "if torch.cuda.is_available():\n",
    "    device = torch.device('cuda')\n",
    "\n",
    "\n",
    "device"
   ]
  },
  {
   "cell_type": "markdown",
   "metadata": {
    "colab_type": "text",
    "id": "jLcRf8H4WOL1"
   },
   "source": [
    "#### Global Hyper-parameters"
   ]
  },
  {
   "cell_type": "code",
   "execution_count": null,
   "metadata": {
    "colab": {},
    "colab_type": "code",
    "id": "5DTgMuivdR_x"
   },
   "outputs": [],
   "source": [
    "noise_dim = 100\n",
    "num_epochs = 10\n",
    "num_steps = 10\n",
    "learning_rate = 0.0001\n",
    "betas = (0, 0.9)\n",
    "Lambda_value = 10\n",
    "K_steps = 5\n",
    "batch_size = 256"
   ]
  },
  {
   "cell_type": "markdown",
   "metadata": {
    "colab_type": "text",
    "id": "hVPjMuyedR_0"
   },
   "source": [
    "#### Generator Model"
   ]
  },
  {
   "cell_type": "code",
   "execution_count": null,
   "metadata": {
    "colab": {},
    "colab_type": "code",
    "id": "5Rzyl0kJdR_1"
   },
   "outputs": [],
   "source": [
    "class Generator(torch.nn.Module):\n",
    "    \n",
    "    def __init__(self):\n",
    "        \n",
    "        super(Generator, self).__init__()\n",
    "        \n",
    "        self.fcn = torch.nn.Sequential(\n",
    "            # Fully Connected Layer 1\n",
    "            torch.nn.Linear(\n",
    "                in_features=noise_dim,\n",
    "                out_features=240,\n",
    "                bias=True\n",
    "            ),\n",
    "            torch.nn.ReLU(),\n",
    "            torch.nn.Dropout(),\n",
    "            # Fully Connected Layer 2\n",
    "            torch.nn.Linear(\n",
    "                in_features=240,\n",
    "                out_features=240,\n",
    "                bias=True\n",
    "            ),\n",
    "            torch.nn.ReLU(),\n",
    "            torch.nn.Dropout(),\n",
    "            # Fully Connected Layer 3\n",
    "            torch.nn.Linear(\n",
    "                in_features=240,\n",
    "                out_features=240,\n",
    "                bias=True\n",
    "            ),\n",
    "            torch.nn.ReLU(),\n",
    "            torch.nn.Dropout(),\n",
    "            # Fully Connected Layer 4\n",
    "            torch.nn.Linear(\n",
    "                in_features=240,\n",
    "                out_features=784,\n",
    "                bias=True\n",
    "            ),\n",
    "            torch.nn.Sigmoid()\n",
    "        )\n",
    "\n",
    "    def forward(self, batch):\n",
    "        ret = batch.view(batch.size(0), -1)\n",
    "        ret = self.fcn(ret)\n",
    "        return ret"
   ]
  },
  {
   "cell_type": "markdown",
   "metadata": {
    "colab_type": "text",
    "id": "skta1hVfdR_4"
   },
   "source": [
    "#### Maxout Activation\n",
    "\n",
    "##### Source: https://github.com/pytorch/pytorch/issues/805"
   ]
  },
  {
   "cell_type": "code",
   "execution_count": null,
   "metadata": {
    "colab": {},
    "colab_type": "code",
    "id": "KqXvmtOAdR_5"
   },
   "outputs": [],
   "source": [
    "class Maxout(torch.nn.Module):\n",
    "\n",
    "    def __init__(self, num_pieces):\n",
    "\n",
    "        super(Maxout, self).__init__()\n",
    "\n",
    "        self.num_pieces = num_pieces\n",
    "\n",
    "    def forward(self, x):\n",
    "\n",
    "        # x.shape = (batch_size? x 625)\n",
    "\n",
    "        assert x.shape[1] % self.num_pieces == 0  # 625 % 5 = 0\n",
    "\n",
    "        ret = x.view(\n",
    "            *x.shape[:1],  # batch_size\n",
    "            x.shape[1] // self.num_pieces,  # piece-wise linear\n",
    "            self.num_pieces,  # num_pieces\n",
    "            *x.shape[2:]  # remaining dimensions if any\n",
    "        )\n",
    "        \n",
    "        # ret.shape = (batch_size? x 125 x 5)\n",
    "\n",
    "        # https://pytorch.org/docs/stable/torch.html#torch.max        \n",
    "        ret, _ = ret.max(dim=2)\n",
    "\n",
    "        # ret.shape = (batch_size? x 125)\n",
    "\n",
    "        return ret"
   ]
  },
  {
   "cell_type": "markdown",
   "metadata": {
    "colab_type": "text",
    "id": "KsAWIvvgdR_9"
   },
   "source": [
    "#### Discriminator Model"
   ]
  },
  {
   "cell_type": "code",
   "execution_count": null,
   "metadata": {
    "colab": {},
    "colab_type": "code",
    "id": "DnKKVPWydR_-"
   },
   "outputs": [],
   "source": [
    "class Discriminator(torch.nn.Module):\n",
    "    \n",
    "    def __init__(self):\n",
    "        \n",
    "        super(Discriminator, self).__init__()\n",
    "        \n",
    "        self.fcn = torch.nn.Sequential(\n",
    "            # Fully Connected Layer 1\n",
    "            torch.nn.Linear(\n",
    "                in_features=784,\n",
    "                out_features=240,\n",
    "                bias=True\n",
    "            ),\n",
    "            Maxout(5),\n",
    "            # Fully Connected Layer 2\n",
    "            torch.nn.Linear(\n",
    "                in_features=48,\n",
    "                out_features=240,\n",
    "                bias=True\n",
    "            ),\n",
    "            Maxout(5),\n",
    "            # Fully Connected Layer 3\n",
    "            torch.nn.Linear(\n",
    "                in_features=48,\n",
    "                out_features=1,\n",
    "                bias=True\n",
    "            ),\n",
    "            torch.nn.Sigmoid()\n",
    "        )\n",
    "\n",
    "    def forward(self, batch):\n",
    "        inputs = batch.view(batch.size(0), -1)\n",
    "        outputs = self.fcn(inputs)\n",
    "        return outputs"
   ]
  },
  {
   "cell_type": "markdown",
   "metadata": {
    "colab_type": "text",
    "id": "OtyGNu3RdSAB"
   },
   "source": [
    "#### MNIST Dataset"
   ]
  },
  {
   "cell_type": "code",
   "execution_count": null,
   "metadata": {
    "colab": {},
    "colab_type": "code",
    "id": "OOKg-5-7dSAC"
   },
   "outputs": [],
   "source": [
    "import torchvision"
   ]
  },
  {
   "cell_type": "code",
   "execution_count": null,
   "metadata": {
    "colab": {},
    "colab_type": "code",
    "id": "gdpfelxFdSAF"
   },
   "outputs": [],
   "source": [
    "class FlattenTransform:\n",
    "    \n",
    "    def __call__(self, inputs):\n",
    "        return inputs.view(inputs.shape[0], -1)\n",
    "        \n",
    "\n",
    "data_train = torchvision.datasets.MNIST(\n",
    "    './data/mnist',\n",
    "    train=True,\n",
    "    download=True,\n",
    "    transform=torchvision.transforms.Compose([\n",
    "        torchvision.transforms.ToTensor(),\n",
    "        FlattenTransform()\n",
    "    ])\n",
    ")"
   ]
  },
  {
   "cell_type": "code",
   "execution_count": null,
   "metadata": {
    "colab": {},
    "colab_type": "code",
    "id": "gYfjOVJjdSAI"
   },
   "outputs": [],
   "source": [
    "train_loader = torch.utils.data.DataLoader(\n",
    "    data_train,\n",
    "    batch_size=batch_size,\n",
    "    shuffle=True,\n",
    "    num_workers=4\n",
    ")"
   ]
  },
  {
   "cell_type": "markdown",
   "metadata": {
    "colab_type": "text",
    "id": "zc1xDJb_dSAL"
   },
   "source": [
    "#### GAN Optimizer"
   ]
  },
  {
   "cell_type": "code",
   "execution_count": null,
   "metadata": {
    "colab": {},
    "colab_type": "code",
    "id": "IxzdBBrOdSAM"
   },
   "outputs": [],
   "source": [
    "generator = Generator().to(device)\n",
    "discriminator = Discriminator().to(device)\n",
    "\n",
    "\n",
    "discriminator_optimizer = torch.optim.Adam(\n",
    "    discriminator.parameters(),\n",
    "    lr=learning_rate,\n",
    "    betas=betas\n",
    ")\n",
    "\n",
    "generator_optimizer = torch.optim.Adam(\n",
    "    generator.parameters(),\n",
    "    lr=learning_rate,\n",
    "    betas=betas\n",
    ")"
   ]
  },
  {
   "cell_type": "markdown",
   "metadata": {
    "colab_type": "text",
    "id": "8jR_w0eJCnot"
   },
   "source": [
    "#### Gradient Penalty Loss"
   ]
  },
  {
   "cell_type": "code",
   "execution_count": null,
   "metadata": {
    "colab": {},
    "colab_type": "code",
    "id": "6C8SXLWRdSAQ"
   },
   "outputs": [],
   "source": [
    "# Gradient Penalty Loss\n",
    "\n",
    "'''\n",
    "x: real data\n",
    "y: generated data\n",
    "\n",
    "\n",
    "torch.autograd.grad(outputs, inputs, grad_outputs=None, retain_graph=None, create_graph=False, only_inputs=True, allow_unused=False)\n",
    "Computes and returns the sum of gradients of outputs w.r.t. the inputs.\n",
    "'''\n",
    "def calcGradientPenalty(x, y):\n",
    "\n",
    "  # inspect inputs dimensions\n",
    "  # print(x.shape, y.shape)\n",
    "  # torch.Size([64, 1, 784]) torch.Size([64, 784])\n",
    "  # remove the excess dimension\n",
    "  x = torch.squeeze(x, dim=1)\n",
    "  \n",
    "\n",
    "  # combine real and generated images\n",
    "  alpha = torch.rand(x.shape).to(device)\n",
    "  interpolated = alpha * x + (1 - alpha) * y\n",
    "  \n",
    "  # convert combination to torch variable with gradients\n",
    "  var_interpolated = torch.autograd.Variable(\n",
    "      interpolated, requires_grad=True).to(device)\n",
    "\n",
    "  # pass combination to the discriminator\n",
    "  outputs = discriminator(var_interpolated)\n",
    "\n",
    "  # find the gradients of the inputs\n",
    "  gradients = torch.autograd.grad(\n",
    "      outputs=outputs,\n",
    "      inputs=var_interpolated,\n",
    "      grad_outputs=torch.ones_like(outputs).to(device),\n",
    "      retain_graph=True,\n",
    "      create_graph=True,\n",
    "      only_inputs=False,\n",
    "      allow_unused=False\n",
    "  )[0]\n",
    "\n",
    "  # calculate the mean norm of the gradients\n",
    "  grad_norm = gradients.norm(2, dim=1).mean()\n",
    "\n",
    "  # calculate the deviation from the value one\n",
    "  loss = (grad_norm - 1) ** 2\n",
    "\n",
    "  # return the gradient penalty\n",
    "  return loss\n"
   ]
  },
  {
   "cell_type": "markdown",
   "metadata": {
    "colab_type": "text",
    "id": "ziaePR06XFUQ"
   },
   "source": [
    "#### GAN Losss ( Binary Cross Entropy )"
   ]
  },
  {
   "cell_type": "code",
   "execution_count": null,
   "metadata": {
    "colab": {},
    "colab_type": "code",
    "id": "8ePaK1QkdSAS"
   },
   "outputs": [],
   "source": [
    "criterion = torch.nn.BCELoss()"
   ]
  },
  {
   "cell_type": "markdown",
   "metadata": {
    "colab_type": "text",
    "id": "T92lue9adSAc"
   },
   "source": [
    "#### GAN Training"
   ]
  },
  {
   "cell_type": "code",
   "execution_count": 14,
   "metadata": {
    "colab": {
     "base_uri": "https://localhost:8080/",
     "height": 241
    },
    "colab_type": "code",
    "id": "-PuCBC3xdSAi",
    "outputId": "2ecc798e-5b21-4019-b44f-da34b783f528"
   },
   "outputs": [
    {
     "name": "stderr",
     "output_type": "stream",
     "text": [
      "/usr/local/lib/python3.6/dist-packages/torch/autograd/__init__.py:136: UserWarning: only_inputs argument is deprecated and is ignored now (defaults to True). To accumulate gradient for other parts of the graph, please use torch.autograd.backward.\n",
      "  warnings.warn(\"only_inputs argument is deprecated and is ignored now \"\n"
     ]
    },
    {
     "name": "stdout",
     "output_type": "stream",
     "text": [
      "E:0,G:9.894877433776855,D:9.139516830444336\n",
      "E:1,G:10.00295639038086,D:8.933562278747559\n",
      "E:2,G:10.106285095214844,D:8.729666709899902\n",
      "E:3,G:10.208581924438477,D:8.546061515808105\n",
      "E:4,G:10.304879188537598,D:8.3726167678833\n",
      "E:5,G:10.360466003417969,D:8.216313362121582\n",
      "E:6,G:10.398161888122559,D:8.065155029296875\n",
      "E:7,G:10.383990287780762,D:7.90920877456665\n",
      "E:8,G:10.369281768798828,D:7.749558448791504\n",
      "E:9,G:10.2871675491333,D:7.592796325683594\n"
     ]
    }
   ],
   "source": [
    "# valid and fake targets\n",
    "real_labels = torch.ones(batch_size, 1).to(device)\n",
    "fake_labels = torch.zeros(batch_size, 1).to(device)\n",
    "\n",
    "# dataset iterator\n",
    "data_iter = iter(train_loader)\n",
    "\n",
    "# training epochs\n",
    "for epoch in range(num_epochs):\n",
    "\n",
    "  # Train Discriminator\n",
    "  discriminator_loss = 0\n",
    "  for k in range(K_steps):\n",
    "    \n",
    "    # load next mini-batch\n",
    "    images, _ = next(data_iter)\n",
    "\n",
    "    # put on GPU\n",
    "    real_images = images.to(device)\n",
    "\n",
    "    # pass random noise to generator\n",
    "    fake_images = generator(\n",
    "        torch.randn(batch_size, noise_dim).to(device)\n",
    "    )\n",
    "    \n",
    "    # reset discriminator\n",
    "    discriminator_optimizer.zero_grad()\n",
    "\n",
    "    # get discriminator outputs on real and generated images\n",
    "    real_outputs = discriminator(real_images)\n",
    "    fake_outputs = discriminator(fake_images)\n",
    "\n",
    "    # perform GAN criterion\n",
    "    d_x = criterion(real_outputs, real_labels)\n",
    "    d_g_z = criterion(fake_outputs, fake_labels)\n",
    "    gan_loss = d_g_z - d_x\n",
    "\n",
    "    # perform gradient penalty loss\n",
    "    gradient_penalty = calcGradientPenalty(real_images, fake_images)\n",
    "\n",
    "    # calculate total loss\n",
    "    loss = gan_loss + Lambda_value * gradient_penalty\n",
    "\n",
    "    # calculate gradients\n",
    "    loss.backward()\n",
    "\n",
    "    # update weights\n",
    "    discriminator_optimizer.step()\n",
    "\n",
    "    # log step loss\n",
    "    discriminator_loss += loss\n",
    "\n",
    "  # calculate average loss\n",
    "  discriminator_loss /= K_steps\n",
    "\n",
    "\n",
    "  # Train Generator\n",
    "\n",
    "  # load next mini batch\n",
    "  images, _ = next(data_iter)\n",
    "\n",
    "  # put images on GPU\n",
    "  real_images = images.to(device)\n",
    "\n",
    "  # random noise vector\n",
    "  z = torch.randn(batch_size, noise_dim).to(device)\n",
    "\n",
    "  # reset generator\n",
    "  generator.zero_grad()\n",
    "\n",
    "  # generate fake images\n",
    "  fake_images = generator(z)\n",
    "\n",
    "  # get discriminator outputs on fake images\n",
    "  outputs = discriminator(fake_images)\n",
    "\n",
    "  # perform GAN criterion\n",
    "  gan_loss = criterion(outputs, real_labels)\n",
    "\n",
    "  # perform gradient penalty criterion\n",
    "  gradient_penalty = calcGradientPenalty(real_images, fake_images)\n",
    "\n",
    "  # calculate total loss\n",
    "  loss = gan_loss + Lambda_value * gradient_penalty\n",
    "\n",
    "  # calculate gradients\n",
    "  loss.backward()\n",
    "\n",
    "  # update weights\n",
    "  generator_optimizer.step()\n",
    "\n",
    "  # log loss\n",
    "  generator_loss = loss\n",
    "\n",
    "  # Log Results\n",
    "  print(\"E:{},G:{},D:{}\".format(\n",
    "      epoch,\n",
    "      generator_loss,\n",
    "      discriminator_loss\n",
    "  ))"
   ]
  },
  {
   "cell_type": "code",
   "execution_count": 15,
   "metadata": {
    "colab": {
     "base_uri": "https://localhost:8080/",
     "height": 901
    },
    "colab_type": "code",
    "id": "5tO0yTtTdSAm",
    "outputId": "672a3812-6d0a-4471-8b57-c496a07ce144"
   },
   "outputs": [
    {
     "data": {
      "image/png": "[encoded data removed]",
      "text/plain": [
       "<Figure size 1152x1152 with 1 Axes>"
      ]
     },
     "metadata": {
      "tags": []
     },
     "output_type": "display_data"
    }
   ],
   "source": [
    "# Visualize Results\n",
    "test_set = torch.randn(25, noise_dim).to(device)\n",
    "\n",
    "generated = generator(test_set).detach().cpu().view(-1, 1, 28, 28)\n",
    "\n",
    "grid = torchvision.utils.make_grid(\n",
    "    generated,\n",
    "    nrow=5,\n",
    "    padding=10,\n",
    "    pad_value=1\n",
    ")\n",
    "\n",
    "img = np.transpose(\n",
    "    grid.numpy(),\n",
    "    (1, 2, 0)\n",
    ")\n",
    "\n",
    "fig = plt.figure(figsize=(16, 16))\n",
    "plt.axis(\"off\")\n",
    "plt.imshow(img);"
   ]
  },
  {
   "cell_type": "code",
   "execution_count": null,
   "metadata": {
    "colab": {},
    "colab_type": "code",
    "id": "jzUtHs5QdSAu"
   },
   "outputs": [],
   "source": []
  }
 ],
 "metadata": {
  "accelerator": "GPU",
  "colab": {
   "collapsed_sections": [],
   "name": "Section 3 - Lecture 5 - GP-WGAN.ipynb",
   "provenance": []
  },
  "kernelspec": {
   "display_name": "Python 3",
   "language": "python",
   "name": "python3"
  },
  "language_info": {
   "codemirror_mode": {
    "name": "ipython",
    "version": 3
   },
   "file_extension": ".py",
   "mimetype": "text/x-python",
   "name": "python",
   "nbconvert_exporter": "python",
   "pygments_lexer": "ipython3",
   "version": "3.6.8"
  }
 },
 "nbformat": 4,
 "nbformat_minor": 4
}
