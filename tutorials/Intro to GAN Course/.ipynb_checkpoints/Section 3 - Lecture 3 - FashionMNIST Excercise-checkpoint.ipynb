{
 "cells": [
  {
   "cell_type": "markdown",
   "metadata": {},
   "source": [
    "### Lecture 2"
   ]
  },
  {
   "cell_type": "code",
   "execution_count": 1,
   "metadata": {},
   "outputs": [],
   "source": [
    "import torch\n",
    "import numpy as np\n",
    "from matplotlib import pyplot as plt\n",
    "% matplotlib inline"
   ]
  },
  {
   "cell_type": "code",
   "execution_count": 2,
   "metadata": {},
   "outputs": [
    {
     "data": {
      "text/plain": [
       "True"
      ]
     },
     "execution_count": 2,
     "metadata": {},
     "output_type": "execute_result"
    }
   ],
   "source": [
    "torch.cuda.is_available()"
   ]
  },
  {
   "cell_type": "code",
   "execution_count": 3,
   "metadata": {},
   "outputs": [
    {
     "data": {
      "text/plain": [
       "device(type='cuda')"
      ]
     },
     "execution_count": 3,
     "metadata": {},
     "output_type": "execute_result"
    }
   ],
   "source": [
    "device = torch.device('cpu')\n",
    "if torch.cuda.is_available():\n",
    "    device = torch.device('cuda')\n",
    "\n",
    "\n",
    "device"
   ]
  },
  {
   "cell_type": "code",
   "execution_count": 4,
   "metadata": {},
   "outputs": [],
   "source": [
    "noise_dim = 100\n",
    "label_dim = 10"
   ]
  },
  {
   "cell_type": "markdown",
   "metadata": {},
   "source": [
    "#### Generator Model"
   ]
  },
  {
   "cell_type": "code",
   "execution_count": 5,
   "metadata": {},
   "outputs": [],
   "source": [
    "class Generator(torch.nn.Module):\n",
    "    \n",
    "    def __init__(self):\n",
    "        \n",
    "        super(Generator, self).__init__()\n",
    "        \n",
    "        self.fcn = torch.nn.Sequential(\n",
    "            # Fully Connected Layer 1\n",
    "            torch.nn.Linear(\n",
    "                in_features=noise_dim + label_dim,\n",
    "                out_features=240,\n",
    "                bias=True\n",
    "            ),\n",
    "            torch.nn.ReLU(),\n",
    "            torch.nn.Dropout(0.5),\n",
    "            # Fully Connected Layer 2\n",
    "            torch.nn.Linear(\n",
    "                in_features=240,\n",
    "                out_features=240,\n",
    "                bias=True\n",
    "            ),\n",
    "            torch.nn.ReLU(),\n",
    "            torch.nn.Dropout(0.5),\n",
    "            # Fully Connected Layer 3\n",
    "            torch.nn.Linear(\n",
    "                in_features=240,\n",
    "                out_features=240,\n",
    "                bias=True\n",
    "            ),\n",
    "            torch.nn.ReLU(),\n",
    "            torch.nn.Dropout(0.5),\n",
    "            # Fully Connected Layer 4\n",
    "            torch.nn.Linear(\n",
    "                in_features=240,\n",
    "                out_features=240,\n",
    "                bias=True\n",
    "            ),\n",
    "            torch.nn.ReLU(),\n",
    "            torch.nn.Dropout(0.5),\n",
    "            # Fully Connected Layer 5\n",
    "            torch.nn.Linear(\n",
    "                in_features=240,\n",
    "                out_features=240,\n",
    "                bias=True\n",
    "            ),\n",
    "            torch.nn.ReLU(),\n",
    "            torch.nn.Dropout(0.5),\n",
    "            # Fully Connected Layer 6\n",
    "            torch.nn.Linear(\n",
    "                in_features=240,\n",
    "                out_features=784,\n",
    "                bias=True\n",
    "            ),\n",
    "            torch.nn.Sigmoid()\n",
    "        )\n",
    "\n",
    "    def forward(self, batch, labels):\n",
    "        inputs = batch.view(batch.size(0), -1)\n",
    "        ret = torch.cat((inputs, labels), dim=1)\n",
    "        ret = self.fcn(ret)\n",
    "        return ret"
   ]
  },
  {
   "cell_type": "markdown",
   "metadata": {},
   "source": [
    "#### Maxout Activation\n",
    "\n",
    "##### Source: https://github.com/pytorch/pytorch/issues/805"
   ]
  },
  {
   "cell_type": "code",
   "execution_count": 6,
   "metadata": {},
   "outputs": [],
   "source": [
    "class Maxout(torch.nn.Module):\n",
    "\n",
    "    def __init__(self, num_pieces):\n",
    "\n",
    "        super(Maxout, self).__init__()\n",
    "\n",
    "        self.num_pieces = num_pieces\n",
    "\n",
    "    def forward(self, x):\n",
    "\n",
    "        # x.shape = (batch_size? x 625)\n",
    "\n",
    "        assert x.shape[1] % self.num_pieces == 0  # 625 % 5 = 0\n",
    "\n",
    "        ret = x.view(\n",
    "            *x.shape[:1],  # batch_size\n",
    "            x.shape[1] // self.num_pieces,  # piece-wise linear\n",
    "            self.num_pieces,  # num_pieces\n",
    "            *x.shape[2:]  # remaining dimensions if any\n",
    "        )\n",
    "        \n",
    "        # ret.shape = (batch_size? x 125 x 5)\n",
    "\n",
    "        # https://pytorch.org/docs/stable/torch.html#torch.max        \n",
    "        ret, _ = ret.max(dim=2)\n",
    "\n",
    "        # ret.shape = (batch_size? x 125)\n",
    "\n",
    "        return ret"
   ]
  },
  {
   "cell_type": "markdown",
   "metadata": {},
   "source": [
    "#### Discriminator Model"
   ]
  },
  {
   "cell_type": "code",
   "execution_count": 7,
   "metadata": {},
   "outputs": [],
   "source": [
    "class Discriminator(torch.nn.Module):\n",
    "    \n",
    "    def __init__(self):\n",
    "        \n",
    "        super(Discriminator, self).__init__()\n",
    "        \n",
    "        self.fcn = torch.nn.Sequential(\n",
    "            # Fully Connected Layer 1\n",
    "            torch.nn.Linear(\n",
    "                in_features=784 + label_dim,\n",
    "                out_features=240,\n",
    "                bias=True\n",
    "            ),\n",
    "            Maxout(5),\n",
    "            torch.nn.Dropout(0.5),\n",
    "            # Fully Connected Layer 2\n",
    "            torch.nn.Linear(\n",
    "                in_features=48,\n",
    "                out_features=240,\n",
    "                bias=True\n",
    "            ),\n",
    "            Maxout(5),\n",
    "            torch.nn.Dropout(0.5),\n",
    "            # Fully Connected Layer 3\n",
    "            torch.nn.Linear(\n",
    "                in_features=48,\n",
    "                out_features=1,\n",
    "                bias=True\n",
    "            ),\n",
    "            torch.nn.Sigmoid()\n",
    "        )\n",
    "\n",
    "    def forward(self, batch, labels):\n",
    "        ret = batch.view(batch.size(0), -1)\n",
    "        ret = torch.cat((ret, labels), dim=1)\n",
    "        ret = self.fcn(ret)\n",
    "        return ret"
   ]
  },
  {
   "cell_type": "markdown",
   "metadata": {},
   "source": [
    "#### MNIST Dataset"
   ]
  },
  {
   "cell_type": "code",
   "execution_count": 8,
   "metadata": {},
   "outputs": [],
   "source": [
    "import torchvision"
   ]
  },
  {
   "cell_type": "code",
   "execution_count": 9,
   "metadata": {},
   "outputs": [],
   "source": [
    "class FlattenTransform:\n",
    "    \n",
    "    def __call__(self, inputs):\n",
    "        return inputs.view(inputs.shape[0], -1)\n",
    "\n",
    "\n",
    "data_train = torchvision.datasets.FashionMNIST(\n",
    "    './data/fashionMNIST',\n",
    "    train=True,\n",
    "    download=True,\n",
    "    transform=torchvision.transforms.Compose([\n",
    "        torchvision.transforms.ToTensor(),\n",
    "        FlattenTransform()\n",
    "    ])\n",
    ")"
   ]
  },
  {
   "cell_type": "code",
   "execution_count": 10,
   "metadata": {},
   "outputs": [],
   "source": [
    "BATCH_SIZE = 64\n",
    "\n",
    "train_loader = torch.utils.data.DataLoader(\n",
    "    data_train,\n",
    "    batch_size=BATCH_SIZE,\n",
    "    shuffle=True,\n",
    "    num_workers=4\n",
    ")"
   ]
  },
  {
   "cell_type": "markdown",
   "metadata": {},
   "source": [
    "#### Optimizer"
   ]
  },
  {
   "cell_type": "code",
   "execution_count": 11,
   "metadata": {},
   "outputs": [],
   "source": [
    "generator = Generator().to(device)\n",
    "discriminator = Discriminator().to(device)\n",
    "\n",
    "\n",
    "discriminator_optimizer = torch.optim.SGD(\n",
    "    discriminator.parameters(),\n",
    "    lr=0.003,\n",
    "    momentum=0.5\n",
    "#     dampening=0.0001\n",
    ")\n",
    "\n",
    "generator_optimizer = torch.optim.SGD(\n",
    "    generator.parameters(),\n",
    "    lr=0.001,\n",
    "    momentum=0.5\n",
    "#     dampening=0.0001\n",
    ")\n",
    "\n",
    "criterion = torch.nn.BCELoss()"
   ]
  },
  {
   "cell_type": "markdown",
   "metadata": {},
   "source": [
    "#### Optimizer Scheduler"
   ]
  },
  {
   "cell_type": "code",
   "execution_count": 12,
   "metadata": {},
   "outputs": [
    {
     "data": {
      "text/plain": [
       "'\\ndiscriminator_scheduler = torch.optim.lr_scheduler.StepLR(\\n    optimizer=discriminator_optimizer,\\n    step_size=1,\\n    gamma=0.99,\\n    last_epoch=-1\\n)\\n\\ngenerator_scheduler = torch.optim.lr_scheduler.StepLR(\\n    optimizer=generator_optimizer,\\n    step_size=1,\\n    gamma=0.99,\\n    last_epoch=-1\\n)\\n'"
      ]
     },
     "execution_count": 12,
     "metadata": {},
     "output_type": "execute_result"
    }
   ],
   "source": [
    "'''\n",
    "discriminator_scheduler = torch.optim.lr_scheduler.StepLR(\n",
    "    optimizer=discriminator_optimizer,\n",
    "    step_size=1,\n",
    "    gamma=0.99,\n",
    "    last_epoch=-1\n",
    ")\n",
    "\n",
    "generator_scheduler = torch.optim.lr_scheduler.StepLR(\n",
    "    optimizer=generator_optimizer,\n",
    "    step_size=1,\n",
    "    gamma=0.99,\n",
    "    last_epoch=-1\n",
    ")\n",
    "'''"
   ]
  },
  {
   "cell_type": "markdown",
   "metadata": {},
   "source": [
    "#### Lambda Learning Rate"
   ]
  },
  {
   "cell_type": "code",
   "execution_count": 13,
   "metadata": {},
   "outputs": [],
   "source": [
    "def decayLR(e):\n",
    "    if e < 200:\n",
    "        return 1\n",
    "    elif e < 400:\n",
    "        return 1 / (1 + e * 0.1)\n",
    "    elif e < 600:\n",
    "        return 1 / (1 + e * 0.001)\n",
    "    elif e < 800:\n",
    "        return 1 / (1 + e * 0.00001)\n",
    "    elif e < 1000:\n",
    "        return 1 / (1 + e * 0.0000001)\n",
    "    else:\n",
    "        return 1 / (1 + e * 0.000000001)\n",
    "\n",
    "\n",
    "discriminator_scheduler = torch.optim.lr_scheduler.LambdaLR(\n",
    "    discriminator_optimizer,\n",
    "    decayLR\n",
    ")\n",
    "\n",
    "generator_scheduler = torch.optim.lr_scheduler.LambdaLR(\n",
    "    generator_optimizer,\n",
    "    decayLR\n",
    ")"
   ]
  },
  {
   "cell_type": "markdown",
   "metadata": {},
   "source": [
    "#### Visualize Function"
   ]
  },
  {
   "cell_type": "code",
   "execution_count": 14,
   "metadata": {},
   "outputs": [],
   "source": [
    "def visualizeGAN(tgt_pth, images, labels, epoch):\n",
    "\n",
    "    categories = [\n",
    "        'T-shirt/top',\n",
    "        'Trouser',\n",
    "        'Pullover',\n",
    "        'Dress',\n",
    "        'Coat',\n",
    "        'Sandal',\n",
    "        'Shirt',\n",
    "        'Sneaker',\n",
    "        'Bag',\n",
    "        'Ankle boot'\n",
    "    ]\n",
    "\n",
    "    fig, axes = plt.subplots(2, 5, figsize=(20, 18))\n",
    "    \n",
    "    fig.suptitle('Epoch {}'.format(str(epoch).zfill(4)))\n",
    "\n",
    "    for row, axe in enumerate(axes):\n",
    "        for col, cell in enumerate(axe):\n",
    "            cell.imshow(\n",
    "                images[row * 5 + col],\n",
    "                cmap='gray'\n",
    "            )\n",
    "            \n",
    "            cell.set_title('{}'.format(\n",
    "                categories[torch.argmax(labels[row * 5 + col])]\n",
    "            ))\n",
    "\n",
    "            cell.axis(\"off\")\n",
    "\n",
    "\n",
    "    plt.axis(\"off\")\n",
    "    plt.tight_layout()\n",
    "\n",
    "    fig.savefig(os.path.join(tgt_pth, '{}.jpg'.format(str(epoch).zfill(3))))\n",
    "    \n",
    "    plt.close()"
   ]
  },
  {
   "cell_type": "markdown",
   "metadata": {},
   "source": [
    "#### Onehot Encoding"
   ]
  },
  {
   "cell_type": "code",
   "execution_count": 15,
   "metadata": {},
   "outputs": [],
   "source": [
    "def encodeOneHot(labels):\n",
    "    ret = torch.FloatTensor(labels.shape[0], label_dim)\n",
    "    ret.zero_()\n",
    "    ret.scatter_(dim=1, index=labels.view(-1, 1), value=1)\n",
    "    return ret"
   ]
  },
  {
   "cell_type": "markdown",
   "metadata": {},
   "source": [
    "#### Train GANs"
   ]
  },
  {
   "cell_type": "code",
   "execution_count": 16,
   "metadata": {},
   "outputs": [],
   "source": [
    "real_labels = torch.ones(BATCH_SIZE, 1).to(device)\n",
    "fake_labels = torch.zeros(BATCH_SIZE, 1).to(device)\n",
    "\n",
    "test_z = (2 * torch.randn(10, noise_dim) - 1).to(device)\n",
    "test_y = encodeOneHot(torch.tensor(np.arange(0, 10))).to(device)\n",
    "\n",
    "num_epochs = 2048\n",
    "num_steps = len(train_loader) // BATCH_SIZE"
   ]
  },
  {
   "cell_type": "code",
   "execution_count": 17,
   "metadata": {},
   "outputs": [],
   "source": [
    "import os\n",
    "\n",
    "visuals_dir = 'visuals-section-3-lecture-2-fashion-mnist-exercise-b'\n",
    "\n",
    "if not os.path.exists(visuals_dir):\n",
    "    os.mkdir(visuals_dir)"
   ]
  },
  {
   "cell_type": "code",
   "execution_count": 18,
   "metadata": {
    "scrolled": true
   },
   "outputs": [
    {
     "name": "stdout",
     "output_type": "stream",
     "text": [
      "e:0, G:1.010, D:0.019, G_LR:[0.001], D_LR:[0.003]\n",
      "e:10, G:6.352, D:0.001, G_LR:[0.001], D_LR:[0.003]\n",
      "e:20, G:7.312, D:0.001, G_LR:[3.289473684210526e-05], D_LR:[9.868421052631579e-05]\n",
      "e:30, G:7.733, D:0.001, G_LR:[0.0006973500697350071], D_LR:[0.002092050209205021]\n",
      "e:40, G:8.401, D:0.000, G_LR:[0.0006353240152477764], D_LR:[0.0019059720457433292]\n",
      "e:50, G:9.105, D:0.000, G_LR:[0.000992910618186151], D_LR:[0.002978731854558453]\n",
      "e:60, G:3.836, D:0.005, G_LR:[0.0009999146072925374], D_LR:[0.002999743821877612]\n",
      "e:70, G:3.070, D:0.004, G_LR:[0.0009999006098793779], D_LR:[0.002999701829638134]\n",
      "e:80, G:2.862, D:0.006, G_LR:[0.000999998866001286], D_LR:[0.0029999965980038582]\n",
      "e:90, G:3.798, D:0.003, G_LR:[0.0009999987260016232], D_LR:[0.0029999961780048695]\n",
      "e:100, G:4.046, D:0.003, G_LR:[0.0009999985860019995], D_LR:[0.0029999957580059983]\n",
      "e:110, G:4.222, D:0.003, G_LR:[0.000999998446002415], D_LR:[0.0029999953380072447]\n",
      "e:120, G:4.521, D:0.002, G_LR:[0.0009999983060028695], D_LR:[0.0029999949180086086]\n",
      "e:130, G:4.653, D:0.002, G_LR:[0.0009999981660033634], D_LR:[0.0029999944980100904]\n",
      "e:140, G:4.804, D:0.003, G_LR:[0.0009999980260038967], D_LR:[0.00299999407801169]\n",
      "e:150, G:4.729, D:0.003, G_LR:[0.000999997886004469], D_LR:[0.002999993658013407]\n",
      "e:160, G:4.913, D:0.003, G_LR:[0.0009999977460050805], D_LR:[0.0029999932380152415]\n",
      "e:170, G:4.881, D:0.005, G_LR:[0.0009999976060057311], D_LR:[0.0029999928180171934]\n",
      "e:180, G:5.189, D:0.002, G_LR:[0.000999997466006421], D_LR:[0.0029999923980192633]\n",
      "e:190, G:5.223, D:0.003, G_LR:[0.0009999973260071502], D_LR:[0.0029999919780214507]\n",
      "e:200, G:5.380, D:0.002, G_LR:[0.0009999971860079186], D_LR:[0.002999991558023756]\n",
      "e:210, G:5.515, D:0.003, G_LR:[0.0009999970460087262], D_LR:[0.0029999911380261786]\n",
      "e:220, G:5.695, D:0.002, G_LR:[0.0009999969060095729], D_LR:[0.0029999907180287186]\n",
      "e:230, G:5.684, D:0.002, G_LR:[0.0009999967660104588], D_LR:[0.002999990298031376]\n",
      "e:240, G:5.993, D:0.002, G_LR:[0.0009999966260113837], D_LR:[0.0029999898780341512]\n",
      "e:250, G:5.997, D:0.002, G_LR:[0.000999996486012348], D_LR:[0.0029999894580370443]\n",
      "e:260, G:6.102, D:0.002, G_LR:[0.0009999963460133518], D_LR:[0.0029999890380400553]\n",
      "e:270, G:6.114, D:0.006, G_LR:[0.0009999962060143945], D_LR:[0.0029999886180431833]\n",
      "e:280, G:5.717, D:0.004, G_LR:[0.0009999960660154762], D_LR:[0.002999988198046429]\n",
      "e:290, G:4.987, D:0.003, G_LR:[0.0009999959260165974], D_LR:[0.002999987778049792]\n",
      "e:300, G:5.253, D:0.003, G_LR:[0.0009999957860177577], D_LR:[0.0029999873580532728]\n",
      "e:310, G:5.686, D:0.003, G_LR:[0.0009999956460189571], D_LR:[0.002999986938056872]\n",
      "e:320, G:5.707, D:0.003, G_LR:[0.000999995506020196], D_LR:[0.0029999865180605884]\n",
      "e:330, G:5.772, D:0.003, G_LR:[0.0009999953660214738], D_LR:[0.0029999860980644217]\n",
      "e:340, G:5.931, D:0.005, G_LR:[0.000999995226022791], D_LR:[0.002999985678068373]\n",
      "e:350, G:5.591, D:0.002, G_LR:[0.0009999950860241473], D_LR:[0.0029999852580724416]\n",
      "e:360, G:5.696, D:0.005, G_LR:[0.0009999949460255428], D_LR:[0.0029999848380766283]\n",
      "e:370, G:5.863, D:0.004, G_LR:[0.0009999948060269775], D_LR:[0.0029999844180809325]\n",
      "e:380, G:5.592, D:0.005, G_LR:[0.0009999946660284515], D_LR:[0.0029999839980853543]\n",
      "e:390, G:6.285, D:0.004, G_LR:[0.0009999945260299645], D_LR:[0.0029999835780898936]\n",
      "e:400, G:5.834, D:0.003, G_LR:[0.0009999943860315168], D_LR:[0.0029999831580945504]\n",
      "e:410, G:5.901, D:0.006, G_LR:[0.0009999942460331083], D_LR:[0.0029999827380993247]\n",
      "e:420, G:5.672, D:0.002, G_LR:[0.0009999941060347389], D_LR:[0.002999982318104217]\n",
      "e:430, G:5.902, D:0.004, G_LR:[0.0009999939660364089], D_LR:[0.002999981898109227]\n",
      "e:440, G:5.269, D:0.003, G_LR:[0.0009999938260381181], D_LR:[0.0029999814781143546]\n",
      "e:450, G:5.299, D:0.003, G_LR:[0.0009999936860398664], D_LR:[0.002999981058119599]\n",
      "e:460, G:5.868, D:0.003, G_LR:[0.000999993546041654], D_LR:[0.002999980638124962]\n",
      "e:470, G:6.180, D:0.003, G_LR:[0.0009999934060434805], D_LR:[0.002999980218130442]\n",
      "e:480, G:5.464, D:0.007, G_LR:[0.0009999932660453464], D_LR:[0.0029999797981360393]\n",
      "e:490, G:5.911, D:0.003, G_LR:[0.0009999931260472514], D_LR:[0.0029999793781417543]\n",
      "e:500, G:5.447, D:0.002, G_LR:[0.000999992986049196], D_LR:[0.002999978958147588]\n",
      "e:510, G:5.612, D:0.003, G_LR:[0.0009999928460511795], D_LR:[0.0029999785381535386]\n",
      "e:520, G:5.814, D:0.003, G_LR:[0.0009999927060532021], D_LR:[0.002999978118159606]\n",
      "e:530, G:5.787, D:0.005, G_LR:[0.000999992566055264], D_LR:[0.0029999776981657917]\n",
      "e:540, G:6.045, D:0.005, G_LR:[0.000999992426057365], D_LR:[0.0029999772781720948]\n",
      "e:550, G:6.091, D:0.004, G_LR:[0.0009999922860595052], D_LR:[0.0029999768581785158]\n",
      "e:560, G:6.037, D:0.002, G_LR:[0.000999992146061685], D_LR:[0.0029999764381850548]\n",
      "e:570, G:6.030, D:0.004, G_LR:[0.0009999920060639036], D_LR:[0.002999976018191711]\n",
      "e:580, G:5.937, D:0.003, G_LR:[0.0009999918660661615], D_LR:[0.0029999755981984844]\n",
      "e:590, G:5.700, D:0.003, G_LR:[0.0009999917260684584], D_LR:[0.002999975178205375]\n",
      "e:600, G:5.332, D:0.003, G_LR:[0.0009999915860707947], D_LR:[0.0029999747582123842]\n",
      "e:610, G:5.142, D:0.003, G_LR:[0.0009999914460731701], D_LR:[0.0029999743382195104]\n",
      "e:620, G:5.526, D:0.004, G_LR:[0.000999991306075585], D_LR:[0.0029999739182267554]\n",
      "e:630, G:5.566, D:0.005, G_LR:[0.000999991166078039], D_LR:[0.002999973498234117]\n",
      "e:640, G:5.606, D:0.004, G_LR:[0.000999991026080532], D_LR:[0.002999973078241596]\n",
      "e:650, G:5.808, D:0.004, G_LR:[0.0009999908860830642], D_LR:[0.0029999726582491926]\n",
      "e:660, G:6.038, D:0.002, G_LR:[0.0009999907460856356], D_LR:[0.002999972238256907]\n",
      "e:670, G:5.584, D:0.003, G_LR:[0.0009999906060882463], D_LR:[0.002999971818264739]\n",
      "e:680, G:5.293, D:0.003, G_LR:[0.0009999904660908964], D_LR:[0.0029999713982726893]\n",
      "e:690, G:5.614, D:0.005, G_LR:[0.0009999903260935854], D_LR:[0.002999970978280756]\n",
      "e:700, G:5.356, D:0.003, G_LR:[0.0009999901860963136], D_LR:[0.002999970558288941]\n",
      "e:710, G:5.569, D:0.005, G_LR:[0.000999990046099081], D_LR:[0.0029999701382972433]\n",
      "e:720, G:5.082, D:0.009, G_LR:[0.0009999899061018877], D_LR:[0.0029999697183056635]\n",
      "e:730, G:5.427, D:0.005, G_LR:[0.0009999897661047336], D_LR:[0.002999969298314201]\n",
      "e:740, G:5.128, D:0.006, G_LR:[0.0009999896261076188], D_LR:[0.0029999688783228567]\n",
      "e:750, G:5.137, D:0.004, G_LR:[0.000999989486110543], D_LR:[0.002999968458331629]\n",
      "e:760, G:5.279, D:0.007, G_LR:[0.0009999893461135065], D_LR:[0.0029999680383405196]\n",
      "e:770, G:4.931, D:0.004, G_LR:[0.000999989206116509], D_LR:[0.0029999676183495275]\n",
      "e:780, G:5.381, D:0.004, G_LR:[0.000999989066119551], D_LR:[0.002999967198358653]\n",
      "e:790, G:5.613, D:0.004, G_LR:[0.000999988926122632], D_LR:[0.002999966778367896]\n",
      "e:800, G:5.273, D:0.004, G_LR:[0.0009999887861257524], D_LR:[0.0029999663583772573]\n",
      "e:810, G:5.457, D:0.004, G_LR:[0.000999988646128912], D_LR:[0.0029999659383867358]\n",
      "e:820, G:5.293, D:0.005, G_LR:[0.0009999885061321107], D_LR:[0.0029999655183963318]\n",
      "e:830, G:5.152, D:0.006, G_LR:[0.0009999883661353484], D_LR:[0.0029999650984060453]\n",
      "e:840, G:5.076, D:0.005, G_LR:[0.0009999882261386255], D_LR:[0.0029999646784158764]\n",
      "e:850, G:5.064, D:0.005, G_LR:[0.0009999880861419417], D_LR:[0.0029999642584258254]\n",
      "e:860, G:5.365, D:0.002, G_LR:[0.0009999879461452972], D_LR:[0.002999963838435892]\n",
      "e:870, G:5.208, D:0.005, G_LR:[0.000999987806148692], D_LR:[0.0029999634184460756]\n",
      "e:880, G:5.273, D:0.003, G_LR:[0.0009999876661521256], D_LR:[0.002999962998456377]\n",
      "e:890, G:5.238, D:0.009, G_LR:[0.0009999875261555988], D_LR:[0.0029999625784667963]\n",
      "e:900, G:5.166, D:0.003, G_LR:[0.000999987386159111], D_LR:[0.0029999621584773325]\n",
      "e:910, G:5.191, D:0.008, G_LR:[0.0009999872461626627], D_LR:[0.0029999617384879875]\n",
      "e:920, G:5.439, D:0.005, G_LR:[0.0009999871061662532], D_LR:[0.0029999613184987597]\n",
      "e:930, G:5.192, D:0.003, G_LR:[0.000999986966169883], D_LR:[0.0029999608985096494]\n",
      "e:940, G:5.081, D:0.004, G_LR:[0.000999986826173552], D_LR:[0.0029999604785206557]\n",
      "e:950, G:5.246, D:0.003, G_LR:[0.0009999866861772602], D_LR:[0.0029999600585317804]\n",
      "e:960, G:5.146, D:0.005, G_LR:[0.0009999865461810076], D_LR:[0.0029999596385430227]\n",
      "e:970, G:5.240, D:0.003, G_LR:[0.0009999864061847944], D_LR:[0.0029999592185543833]\n",
      "e:980, G:5.543, D:0.003, G_LR:[0.0009999862661886202], D_LR:[0.0029999587985658606]\n",
      "e:990, G:5.531, D:0.002, G_LR:[0.0009999861261924853], D_LR:[0.002999958378577456]\n"
     ]
    },
    {
     "name": "stdout",
     "output_type": "stream",
     "text": [
      "e:1000, G:5.227, D:0.004, G_LR:[0.0009999859861963894], D_LR:[0.0029999579585891683]\n",
      "e:1010, G:5.101, D:0.004, G_LR:[0.0009999858462003328], D_LR:[0.0029999575386009986]\n",
      "e:1020, G:5.262, D:0.007, G_LR:[0.0009999857062043154], D_LR:[0.0029999571186129464]\n",
      "e:1030, G:4.991, D:0.003, G_LR:[0.0009999855662083375], D_LR:[0.0029999566986250122]\n",
      "e:1040, G:5.321, D:0.004, G_LR:[0.0009999854262123986], D_LR:[0.0029999562786371956]\n",
      "e:1050, G:5.076, D:0.004, G_LR:[0.0009999852862164987], D_LR:[0.002999955858649496]\n",
      "e:1060, G:5.151, D:0.004, G_LR:[0.0009999851462206381], D_LR:[0.0029999554386619144]\n",
      "e:1070, G:5.170, D:0.003, G_LR:[0.0009999850062248166], D_LR:[0.00299995501867445]\n",
      "e:1080, G:5.314, D:0.006, G_LR:[0.0009999848662290345], D_LR:[0.0029999545986871034]\n",
      "e:1090, G:5.154, D:0.003, G_LR:[0.0009999847262332916], D_LR:[0.0029999541786998748]\n",
      "e:1100, G:5.092, D:0.004, G_LR:[0.0009999845862375878], D_LR:[0.0029999537587127633]\n",
      "e:1110, G:5.117, D:0.005, G_LR:[0.0009999844462419232], D_LR:[0.0029999533387257697]\n",
      "e:1120, G:4.912, D:0.005, G_LR:[0.0009999843062462978], D_LR:[0.0029999529187388933]\n",
      "e:1130, G:5.029, D:0.004, G_LR:[0.0009999841662507115], D_LR:[0.002999952498752135]\n",
      "e:1140, G:5.424, D:0.005, G_LR:[0.0009999840262551645], D_LR:[0.0029999520787654934]\n",
      "e:1150, G:5.219, D:0.004, G_LR:[0.0009999838862596569], D_LR:[0.002999951658778971]\n",
      "e:1160, G:5.336, D:0.004, G_LR:[0.0009999837462641883], D_LR:[0.002999951238792565]\n",
      "e:1170, G:5.257, D:0.006, G_LR:[0.0009999836062687588], D_LR:[0.0029999508188062766]\n",
      "e:1180, G:5.626, D:0.005, G_LR:[0.0009999834662733687], D_LR:[0.002999950398820106]\n",
      "e:1190, G:4.863, D:0.004, G_LR:[0.0009999833262780175], D_LR:[0.002999949978834053]\n",
      "e:1200, G:5.387, D:0.003, G_LR:[0.0009999831862827057], D_LR:[0.0029999495588481175]\n",
      "e:1210, G:5.486, D:0.003, G_LR:[0.0009999830462874334], D_LR:[0.0029999491388622997]\n",
      "e:1220, G:5.294, D:0.004, G_LR:[0.0009999829062921999], D_LR:[0.0029999487188766]\n",
      "e:1230, G:5.071, D:0.007, G_LR:[0.0009999827662970056], D_LR:[0.002999948298891017]\n",
      "e:1240, G:5.038, D:0.004, G_LR:[0.0009999826263018506], D_LR:[0.002999947878905552]\n",
      "e:1250, G:4.991, D:0.003, G_LR:[0.0009999824863067349], D_LR:[0.0029999474589202046]\n",
      "e:1260, G:5.000, D:0.005, G_LR:[0.0009999823463116581], D_LR:[0.0029999470389349744]\n",
      "e:1270, G:4.983, D:0.003, G_LR:[0.0009999822063166209], D_LR:[0.002999946618949863]\n",
      "e:1280, G:4.845, D:0.005, G_LR:[0.0009999820663216226], D_LR:[0.002999946198964868]\n",
      "e:1290, G:5.063, D:0.005, G_LR:[0.0009999819263266636], D_LR:[0.0029999457789799907]\n",
      "e:1300, G:5.294, D:0.005, G_LR:[0.0009999817863317437], D_LR:[0.002999945358995231]\n",
      "e:1310, G:5.339, D:0.004, G_LR:[0.000999981646336863], D_LR:[0.0029999449390105894]\n",
      "e:1320, G:5.151, D:0.005, G_LR:[0.0009999815063420217], D_LR:[0.0029999445190260652]\n",
      "e:1330, G:5.218, D:0.005, G_LR:[0.0009999813663472195], D_LR:[0.0029999440990416586]\n",
      "e:1340, G:4.795, D:0.006, G_LR:[0.0009999812263524566], D_LR:[0.00299994367905737]\n",
      "e:1350, G:5.086, D:0.005, G_LR:[0.0009999810863577326], D_LR:[0.002999943259073198]\n",
      "e:1360, G:5.103, D:0.005, G_LR:[0.000999980946363048], D_LR:[0.0029999428390891443]\n",
      "e:1370, G:5.239, D:0.002, G_LR:[0.0009999808063684025], D_LR:[0.0029999424191052074]\n",
      "e:1380, G:5.445, D:0.006, G_LR:[0.0009999806663737963], D_LR:[0.002999941999121389]\n",
      "e:1390, G:5.061, D:0.005, G_LR:[0.0009999805263792294], D_LR:[0.0029999415791376882]\n",
      "e:1400, G:5.280, D:0.002, G_LR:[0.0009999803863847015], D_LR:[0.0029999411591541047]\n",
      "e:1410, G:5.278, D:0.004, G_LR:[0.0009999802463902128], D_LR:[0.0029999407391706387]\n",
      "e:1420, G:5.271, D:0.003, G_LR:[0.0009999801063957632], D_LR:[0.00299994031918729]\n",
      "e:1430, G:5.412, D:0.007, G_LR:[0.000999979966401353], D_LR:[0.002999939899204059]\n",
      "e:1440, G:5.228, D:0.005, G_LR:[0.0009999798264069821], D_LR:[0.002999939479220946]\n",
      "e:1450, G:5.201, D:0.006, G_LR:[0.0009999796864126503], D_LR:[0.002999939059237951]\n",
      "e:1460, G:5.376, D:0.004, G_LR:[0.0009999795464183576], D_LR:[0.002999938639255073]\n",
      "e:1470, G:5.503, D:0.005, G_LR:[0.000999979406424104], D_LR:[0.0029999382192723123]\n",
      "e:1480, G:5.126, D:0.008, G_LR:[0.0009999792664298899], D_LR:[0.0029999377992896694]\n",
      "e:1490, G:5.252, D:0.006, G_LR:[0.0009999791264357148], D_LR:[0.002999937379307144]\n",
      "e:1500, G:5.193, D:0.007, G_LR:[0.0009999789864415787], D_LR:[0.0029999369593247363]\n",
      "e:1510, G:5.188, D:0.003, G_LR:[0.0009999788464474823], D_LR:[0.0029999365393424474]\n",
      "e:1520, G:5.153, D:0.003, G_LR:[0.0009999787064534247], D_LR:[0.0029999361193602746]\n",
      "e:1530, G:5.192, D:0.004, G_LR:[0.0009999785664594066], D_LR:[0.00299993569937822]\n",
      "e:1540, G:5.363, D:0.005, G_LR:[0.0009999784264654275], D_LR:[0.0029999352793962826]\n",
      "e:1550, G:5.298, D:0.003, G_LR:[0.0009999782864714875], D_LR:[0.0029999348594144624]\n",
      "e:1560, G:5.213, D:0.006, G_LR:[0.0009999781464775867], D_LR:[0.0029999344394327603]\n",
      "e:1570, G:5.576, D:0.004, G_LR:[0.0009999780064837256], D_LR:[0.0029999340194511765]\n",
      "e:1580, G:5.148, D:0.004, G_LR:[0.0009999778664899032], D_LR:[0.0029999335994697097]\n",
      "e:1590, G:5.169, D:0.003, G_LR:[0.00099997772649612], D_LR:[0.00299993317948836]\n",
      "e:1600, G:4.908, D:0.006, G_LR:[0.0009999775865023762], D_LR:[0.0029999327595071285]\n",
      "e:1610, G:5.155, D:0.008, G_LR:[0.0009999774465086714], D_LR:[0.0029999323395260144]\n",
      "e:1620, G:5.442, D:0.007, G_LR:[0.0009999773065150059], D_LR:[0.0029999319195450173]\n",
      "e:1630, G:5.697, D:0.005, G_LR:[0.0009999771665213798], D_LR:[0.002999931499564139]\n",
      "e:1640, G:5.509, D:0.004, G_LR:[0.0009999770265277928], D_LR:[0.002999931079583378]\n",
      "e:1650, G:5.211, D:0.007, G_LR:[0.0009999768865342447], D_LR:[0.002999930659602734]\n",
      "e:1660, G:5.294, D:0.005, G_LR:[0.000999976746540736], D_LR:[0.0029999302396222075]\n",
      "e:1670, G:5.510, D:0.005, G_LR:[0.0009999766065472665], D_LR:[0.002999929819641799]\n",
      "e:1680, G:5.726, D:0.003, G_LR:[0.000999976466553836], D_LR:[0.002999929399661508]\n",
      "e:1690, G:5.664, D:0.003, G_LR:[0.0009999763265604452], D_LR:[0.0029999289796813354]\n",
      "e:1700, G:5.191, D:0.005, G_LR:[0.000999976186567093], D_LR:[0.0029999285597012795]\n",
      "e:1710, G:5.500, D:0.004, G_LR:[0.0009999760465737803], D_LR:[0.002999928139721341]\n",
      "e:1720, G:5.188, D:0.007, G_LR:[0.0009999759065805068], D_LR:[0.0029999277197415206]\n",
      "e:1730, G:5.764, D:0.003, G_LR:[0.0009999757665872726], D_LR:[0.0029999272997618177]\n",
      "e:1740, G:5.303, D:0.006, G_LR:[0.0009999756265940774], D_LR:[0.002999926879782232]\n",
      "e:1750, G:5.356, D:0.004, G_LR:[0.0009999754866009216], D_LR:[0.0029999264598027644]\n",
      "e:1760, G:5.500, D:0.005, G_LR:[0.0009999753466078047], D_LR:[0.002999926039823414]\n",
      "e:1770, G:5.287, D:0.003, G_LR:[0.0009999752066147272], D_LR:[0.0029999256198441817]\n",
      "e:1780, G:5.589, D:0.006, G_LR:[0.0009999750666216888], D_LR:[0.0029999251998650664]\n",
      "e:1790, G:5.395, D:0.005, G_LR:[0.0009999749266286896], D_LR:[0.002999924779886069]\n",
      "e:1800, G:5.502, D:0.004, G_LR:[0.0009999747866357297], D_LR:[0.0029999243599071893]\n",
      "e:1810, G:5.430, D:0.003, G_LR:[0.0009999746466428092], D_LR:[0.0029999239399284275]\n",
      "e:1820, G:5.590, D:0.003, G_LR:[0.0009999745066499276], D_LR:[0.0029999235199497827]\n",
      "e:1830, G:5.153, D:0.003, G_LR:[0.0009999743666570852], D_LR:[0.0029999230999712555]\n",
      "e:1840, G:5.300, D:0.006, G_LR:[0.000999974226664282], D_LR:[0.002999922679992846]\n",
      "e:1850, G:5.464, D:0.003, G_LR:[0.0009999740866715179], D_LR:[0.0029999222600145536]\n",
      "e:1860, G:5.628, D:0.005, G_LR:[0.0009999739466787932], D_LR:[0.0029999218400363794]\n",
      "e:1870, G:5.650, D:0.002, G_LR:[0.0009999738066861078], D_LR:[0.002999921420058323]\n",
      "e:1880, G:5.535, D:0.004, G_LR:[0.0009999736666934614], D_LR:[0.002999921000080384]\n",
      "e:1890, G:5.641, D:0.005, G_LR:[0.000999973526700854], D_LR:[0.0029999205801025624]\n",
      "e:1900, G:5.526, D:0.003, G_LR:[0.000999973386708286], D_LR:[0.0029999201601248584]\n",
      "e:1910, G:5.564, D:0.003, G_LR:[0.0009999732467157573], D_LR:[0.002999919740147272]\n",
      "e:1920, G:5.285, D:0.004, G_LR:[0.0009999731067232677], D_LR:[0.002999919320169803]\n",
      "e:1930, G:5.372, D:0.008, G_LR:[0.0009999729667308176], D_LR:[0.0029999189001924526]\n",
      "e:1940, G:5.386, D:0.005, G_LR:[0.0009999728267384063], D_LR:[0.002999918480215219]\n",
      "e:1950, G:5.462, D:0.003, G_LR:[0.0009999726867460342], D_LR:[0.0029999180602381026]\n",
      "e:1960, G:5.402, D:0.003, G_LR:[0.0009999725467537014], D_LR:[0.002999917640261104]\n",
      "e:1970, G:5.402, D:0.003, G_LR:[0.0009999724067614078], D_LR:[0.002999917220284223]\n"
     ]
    },
    {
     "name": "stdout",
     "output_type": "stream",
     "text": [
      "e:1980, G:5.805, D:0.006, G_LR:[0.0009999722667691534], D_LR:[0.0029999168003074605]\n",
      "e:1990, G:5.158, D:0.005, G_LR:[0.0009999721267769384], D_LR:[0.0029999163803308146]\n",
      "e:2000, G:5.394, D:0.003, G_LR:[0.0009999719867847623], D_LR:[0.002999915960354287]\n",
      "e:2010, G:5.352, D:0.002, G_LR:[0.0009999718467926255], D_LR:[0.0029999155403778763]\n",
      "e:2020, G:4.975, D:0.002, G_LR:[0.0009999717068005277], D_LR:[0.0029999151204015834]\n",
      "e:2030, G:5.368, D:0.003, G_LR:[0.0009999715668084694], D_LR:[0.002999914700425408]\n",
      "e:2040, G:5.464, D:0.005, G_LR:[0.0009999714268164503], D_LR:[0.0029999142804493506]\n"
     ]
    }
   ],
   "source": [
    "d_loss_ls = []\n",
    "g_loss_ls = []\n",
    "d_lr_ls = []\n",
    "g_lr_ls = []\n",
    "\n",
    "\n",
    "for epoch in range(num_epochs):\n",
    "    \n",
    "    # Loss Log\n",
    "    d_counter = 0\n",
    "    g_counter = 0\n",
    "    d_loss = 0\n",
    "    g_loss = 0\n",
    "\n",
    "    for i, (images, labels) in enumerate(train_loader):\n",
    "\n",
    "        if i == num_steps:\n",
    "            break\n",
    "\n",
    "        # Train Discriminator\n",
    "        for _ in range(4):\n",
    "        \n",
    "            real_images = images.to(device)\n",
    "            real_conditions = encodeOneHot(labels).to(device)\n",
    "\n",
    "            fake_conditions = encodeOneHot(torch.randint(0, 10, (BATCH_SIZE,))).to(device)\n",
    "\n",
    "            fake_images = generator(\n",
    "                (2 * torch.randn(BATCH_SIZE, noise_dim) - 1).to(device),\n",
    "                fake_conditions\n",
    "            )\n",
    "\n",
    "            discriminator_optimizer.zero_grad()\n",
    "\n",
    "            real_outputs = discriminator(real_images, real_conditions)\n",
    "            fake_outputs = discriminator(fake_images, fake_conditions)\n",
    "\n",
    "            d_x = criterion(real_outputs, real_labels)\n",
    "            d_g_z = criterion(fake_outputs, fake_labels)\n",
    "\n",
    "            d_x.backward()\n",
    "            d_g_z.backward()\n",
    "\n",
    "            discriminator_optimizer.step()\n",
    "            \n",
    "            # Loss Log\n",
    "            d_counter += 1\n",
    "            d_loss = d_x.item() + d_g_z.item()\n",
    "\n",
    "\n",
    "        # Train Generator\n",
    "        z = (2 * torch.randn(BATCH_SIZE, noise_dim) - 1).to(device)\n",
    "        y = encodeOneHot(torch.randint(0, 10, (BATCH_SIZE,))).to(device)\n",
    "\n",
    "        generator.zero_grad()\n",
    "\n",
    "        outputs = discriminator(generator(z, y), y)\n",
    "\n",
    "        loss = criterion(outputs, real_labels)\n",
    "\n",
    "        loss.backward()\n",
    "\n",
    "        generator_optimizer.step()\n",
    "        \n",
    "        # LR Decay\n",
    "        discriminator_scheduler.step()\n",
    "        generator_scheduler.step()\n",
    "        \n",
    "        # Loss Log\n",
    "        g_counter += 1\n",
    "        g_loss += loss.item()\n",
    "\n",
    "    # Loss Log\n",
    "    if epoch % 10 == 0:\n",
    "        print(\n",
    "            'e:{}, G:{:.3f}, D:{:.3f}, G_LR:{}, D_LR:{}'.format(\n",
    "                epoch,\n",
    "                g_loss / g_counter,\n",
    "                d_loss / d_counter,\n",
    "                generator_scheduler.get_lr(),\n",
    "                discriminator_scheduler.get_lr()\n",
    "            )\n",
    "        )\n",
    "    \n",
    "    # Loss Log for Plot\n",
    "    g_loss_ls.append(g_loss / g_counter)\n",
    "    d_loss_ls.append(d_loss / d_counter)\n",
    "    \n",
    "    # Learning Rate Decay Log\n",
    "    g_lr_ls.append(generator_scheduler.get_lr())\n",
    "    d_lr_ls.append(discriminator_scheduler.get_lr())\n",
    "\n",
    "\n",
    "    # Visualize Results\n",
    "    if epoch % 5 == 0:\n",
    "\n",
    "        generated = generator(test_z, test_y).detach().cpu().view(-1, 28, 28)\n",
    "\n",
    "        visualizeGAN(visuals_dir, generated, test_y, epoch)"
   ]
  },
  {
   "cell_type": "code",
   "execution_count": 19,
   "metadata": {},
   "outputs": [],
   "source": [
    "# Visualize Results\n",
    "generated = generator(test_z, test_y).detach().cpu().view(-1, 28, 28)\n",
    "\n",
    "visualizeGAN(visuals_dir, generated, test_y, epoch)"
   ]
  },
  {
   "cell_type": "markdown",
   "metadata": {},
   "source": [
    "#### Visualize Loss"
   ]
  },
  {
   "cell_type": "code",
   "execution_count": 20,
   "metadata": {},
   "outputs": [
    {
     "data": {
      "image/png": "[encoded data removed]",
      "text/plain": [
       "<Figure size 1152x720 with 1 Axes>"
      ]
     },
     "metadata": {
      "needs_background": "light"
     },
     "output_type": "display_data"
    }
   ],
   "source": [
    "fig = plt.figure(figsize=(16, 10))\n",
    "plt.plot(d_loss_ls, label='D Loss')\n",
    "plt.plot(g_loss_ls, label='G Loss')\n",
    "plt.legend()\n",
    "plt.show();"
   ]
  },
  {
   "cell_type": "markdown",
   "metadata": {},
   "source": [
    "#### Visualize Learning Rate Decay"
   ]
  },
  {
   "cell_type": "code",
   "execution_count": 21,
   "metadata": {
    "scrolled": true
   },
   "outputs": [
    {
     "data": {
      "image/png": "[encoded data removed]",
      "text/plain": [
       "<Figure size 1152x720 with 1 Axes>"
      ]
     },
     "metadata": {
      "needs_background": "light"
     },
     "output_type": "display_data"
    }
   ],
   "source": [
    "fig = plt.figure(figsize=(16, 10))\n",
    "plt.plot(d_lr_ls, label='D LR')\n",
    "plt.plot(g_lr_ls, label='G LR')\n",
    "plt.legend()\n",
    "plt.show();"
   ]
  },
  {
   "cell_type": "markdown",
   "metadata": {},
   "source": [
    "#### Google Collaboratory\n",
    "\n",
    "Notebook: https://colab.research.google.com/drive/17A_Ecl2sZdXra_YSnt7F-F4Z8vCa2U2J"
   ]
  }
 ],
 "metadata": {
  "kernelspec": {
   "display_name": "Python 3",
   "language": "python",
   "name": "python3"
  },
  "language_info": {
   "codemirror_mode": {
    "name": "ipython",
    "version": 3
   },
   "file_extension": ".py",
   "mimetype": "text/x-python",
   "name": "python",
   "nbconvert_exporter": "python",
   "pygments_lexer": "ipython3",
   "version": "3.7.3"
  }
 },
 "nbformat": 4,
 "nbformat_minor": 2
}
