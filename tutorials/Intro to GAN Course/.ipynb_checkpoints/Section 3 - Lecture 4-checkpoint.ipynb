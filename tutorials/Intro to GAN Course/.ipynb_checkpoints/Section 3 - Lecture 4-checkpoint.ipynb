{
 "cells": [
  {
   "cell_type": "markdown",
   "metadata": {},
   "source": [
    "### Lecture 4"
   ]
  },
  {
   "cell_type": "code",
   "execution_count": 1,
   "metadata": {},
   "outputs": [
    {
     "name": "stdout",
     "output_type": "stream",
     "text": [
      "Requirement already satisfied: tensorboard in /home/qamaruddin/.local/lib/python3.7/site-packages (1.14.0)\r\n",
      "Requirement already satisfied: future in /home/qamaruddin/.local/lib/python3.7/site-packages (0.17.1)\r\n",
      "Requirement already satisfied: protobuf>=3.6.0 in /usr/lib/python3/dist-packages (from tensorboard) (3.6.1)\r\n",
      "Requirement already satisfied: setuptools>=41.0.0 in /home/qamaruddin/.local/lib/python3.7/site-packages (from tensorboard) (41.0.1)\r\n",
      "Requirement already satisfied: absl-py>=0.4 in /home/qamaruddin/.local/lib/python3.7/site-packages (from tensorboard) (0.7.1)\r\n",
      "Requirement already satisfied: wheel>=0.26; python_version >= \"3\" in /usr/lib/python3/dist-packages (from tensorboard) (0.32.3)\r\n",
      "Requirement already satisfied: numpy>=1.12.0 in /usr/lib/python3/dist-packages (from tensorboard) (1.16.2)\r\n",
      "Requirement already satisfied: grpcio>=1.6.3 in /home/qamaruddin/.local/lib/python3.7/site-packages (from tensorboard) (1.22.0)\r\n",
      "Requirement already satisfied: werkzeug>=0.11.15 in /usr/lib/python3/dist-packages (from tensorboard) (0.14.1)\r\n",
      "Requirement already satisfied: markdown>=2.6.8 in /home/qamaruddin/.local/lib/python3.7/site-packages (from tensorboard) (3.1.1)\r\n",
      "Requirement already satisfied: six>=1.10.0 in /usr/lib/python3/dist-packages (from tensorboard) (1.12.0)\r\n"
     ]
    }
   ],
   "source": [
    "! pip3 install tensorboard future"
   ]
  },
  {
   "cell_type": "code",
   "execution_count": 2,
   "metadata": {},
   "outputs": [],
   "source": [
    "import torch\n",
    "import numpy as np\n",
    "from matplotlib import pyplot as plt\n",
    "% matplotlib inline"
   ]
  },
  {
   "cell_type": "code",
   "execution_count": 3,
   "metadata": {},
   "outputs": [],
   "source": [
    "# Tensorboard\n",
    "# https://pytorch.org/docs/stable/tensorboard.html\n",
    "from torch.utils.tensorboard import SummaryWriter\n",
    "\n",
    "\n",
    "# Writer will output to ./runs/ directory by default\n",
    "tb_writer = SummaryWriter()\n",
    "\n",
    "tb_writer.add_text(\n",
    "    'WGAN',\n",
    "    'Init',\n",
    "    0\n",
    ")"
   ]
  },
  {
   "cell_type": "code",
   "execution_count": 4,
   "metadata": {},
   "outputs": [
    {
     "data": {
      "text/plain": [
       "True"
      ]
     },
     "execution_count": 4,
     "metadata": {},
     "output_type": "execute_result"
    }
   ],
   "source": [
    "torch.cuda.is_available()"
   ]
  },
  {
   "cell_type": "code",
   "execution_count": 5,
   "metadata": {},
   "outputs": [
    {
     "data": {
      "text/plain": [
       "device(type='cuda')"
      ]
     },
     "execution_count": 5,
     "metadata": {},
     "output_type": "execute_result"
    }
   ],
   "source": [
    "device = torch.device('cpu')\n",
    "if torch.cuda.is_available():\n",
    "    device = torch.device('cuda')\n",
    "\n",
    "\n",
    "device"
   ]
  },
  {
   "cell_type": "code",
   "execution_count": 6,
   "metadata": {},
   "outputs": [],
   "source": [
    "noise_dim = 100"
   ]
  },
  {
   "cell_type": "markdown",
   "metadata": {},
   "source": [
    "#### Generator Model"
   ]
  },
  {
   "cell_type": "code",
   "execution_count": 7,
   "metadata": {},
   "outputs": [],
   "source": [
    "class Generator(torch.nn.Module):\n",
    "    \n",
    "    def __init__(self):\n",
    "        \n",
    "        super(Generator, self).__init__()\n",
    "        \n",
    "        self.fcn = torch.nn.Sequential(\n",
    "            # Fully Connected Layer 1\n",
    "            torch.nn.Linear(\n",
    "                in_features=noise_dim,\n",
    "                out_features=240,\n",
    "                bias=True\n",
    "            ),\n",
    "            torch.nn.ReLU(),\n",
    "            torch.nn.Dropout(),\n",
    "            # Fully Connected Layer 2\n",
    "            torch.nn.Linear(\n",
    "                in_features=240,\n",
    "                out_features=240,\n",
    "                bias=True\n",
    "            ),\n",
    "            torch.nn.ReLU(),\n",
    "            torch.nn.Dropout(),\n",
    "            # Fully Connected Layer 3\n",
    "            torch.nn.Linear(\n",
    "                in_features=240,\n",
    "                out_features=240,\n",
    "                bias=True\n",
    "            ),\n",
    "            torch.nn.ReLU(),\n",
    "            torch.nn.Dropout(),\n",
    "            # Fully Connected Layer 4\n",
    "            torch.nn.Linear(\n",
    "                in_features=240,\n",
    "                out_features=784,\n",
    "                bias=True\n",
    "            ),\n",
    "            torch.nn.Sigmoid()\n",
    "        )\n",
    "\n",
    "    def forward(self, batch):\n",
    "        ret = batch.view(batch.size(0), -1)\n",
    "        ret = self.fcn(ret)\n",
    "        return ret"
   ]
  },
  {
   "cell_type": "markdown",
   "metadata": {},
   "source": [
    "#### Maxout Activation\n",
    "\n",
    "##### Source: https://github.com/pytorch/pytorch/issues/805"
   ]
  },
  {
   "cell_type": "code",
   "execution_count": 8,
   "metadata": {},
   "outputs": [],
   "source": [
    "class Maxout(torch.nn.Module):\n",
    "\n",
    "    def __init__(self, num_pieces):\n",
    "\n",
    "        super(Maxout, self).__init__()\n",
    "\n",
    "        self.num_pieces = num_pieces\n",
    "\n",
    "    def forward(self, x):\n",
    "\n",
    "        # x.shape = (batch_size? x 625)\n",
    "\n",
    "        assert x.shape[1] % self.num_pieces == 0  # 625 % 5 = 0\n",
    "\n",
    "        ret = x.view(\n",
    "            *x.shape[:1],  # batch_size\n",
    "            x.shape[1] // self.num_pieces,  # piece-wise linear\n",
    "            self.num_pieces,  # num_pieces\n",
    "            *x.shape[2:]  # remaining dimensions if any\n",
    "        )\n",
    "        \n",
    "        # ret.shape = (batch_size? x 125 x 5)\n",
    "\n",
    "        # https://pytorch.org/docs/stable/torch.html#torch.max        \n",
    "        ret, _ = ret.max(dim=2)\n",
    "\n",
    "        # ret.shape = (batch_size? x 125)\n",
    "\n",
    "        return ret"
   ]
  },
  {
   "cell_type": "markdown",
   "metadata": {},
   "source": [
    "#### Discriminator Model"
   ]
  },
  {
   "cell_type": "code",
   "execution_count": 9,
   "metadata": {},
   "outputs": [],
   "source": [
    "class Discriminator(torch.nn.Module):\n",
    "    \n",
    "    def __init__(self):\n",
    "        \n",
    "        super(Discriminator, self).__init__()\n",
    "        \n",
    "        self.fcn = torch.nn.Sequential(\n",
    "            # Fully Connected Layer 1\n",
    "            torch.nn.Linear(\n",
    "                in_features=784,\n",
    "                out_features=240,\n",
    "                bias=True\n",
    "            ),\n",
    "            Maxout(5),\n",
    "            # Fully Connected Layer 2\n",
    "            torch.nn.Linear(\n",
    "                in_features=48,\n",
    "                out_features=240,\n",
    "                bias=True\n",
    "            ),\n",
    "            Maxout(5),\n",
    "            # Fully Connected Layer 3\n",
    "            torch.nn.Linear(\n",
    "                in_features=48,\n",
    "                out_features=1,\n",
    "                bias=True\n",
    "            )\n",
    "        )\n",
    "\n",
    "    def forward(self, batch):\n",
    "        inputs = batch.view(batch.size(0), -1)\n",
    "        outputs = self.fcn(inputs)\n",
    "        outputs = outputs.mean(0)\n",
    "        return outputs.view(1)"
   ]
  },
  {
   "cell_type": "markdown",
   "metadata": {},
   "source": [
    "#### MNIST Dataset"
   ]
  },
  {
   "cell_type": "code",
   "execution_count": 10,
   "metadata": {},
   "outputs": [],
   "source": [
    "import torchvision"
   ]
  },
  {
   "cell_type": "code",
   "execution_count": 11,
   "metadata": {},
   "outputs": [],
   "source": [
    "class FlattenTransform:\n",
    "    \n",
    "    def __call__(self, inputs):\n",
    "        return inputs.view(inputs.shape[0], -1)\n",
    "        \n",
    "\n",
    "data_train = torchvision.datasets.MNIST(\n",
    "    './data/mnist',\n",
    "    train=True,\n",
    "    download=True,\n",
    "    transform=torchvision.transforms.Compose([\n",
    "        torchvision.transforms.ToTensor(),\n",
    "        FlattenTransform()\n",
    "    ])\n",
    ")"
   ]
  },
  {
   "cell_type": "code",
   "execution_count": 12,
   "metadata": {},
   "outputs": [],
   "source": [
    "BATCH_SIZE = 64\n",
    "\n",
    "train_loader = torch.utils.data.DataLoader(\n",
    "    data_train,\n",
    "    batch_size=BATCH_SIZE,\n",
    "    shuffle=True,\n",
    "    num_workers=4\n",
    ")"
   ]
  },
  {
   "cell_type": "markdown",
   "metadata": {},
   "source": [
    "#### GAN Optimizer"
   ]
  },
  {
   "cell_type": "code",
   "execution_count": 13,
   "metadata": {},
   "outputs": [],
   "source": [
    "generator = Generator().to(device)\n",
    "discriminator = Discriminator().to(device)\n",
    "\n",
    "\n",
    "discriminator_optimizer = torch.optim.RMSprop(\n",
    "    discriminator.parameters(),\n",
    "    lr=0.00005,\n",
    "    momentum=0\n",
    ")\n",
    "\n",
    "generator_optimizer = torch.optim.RMSprop(\n",
    "    generator.parameters(),\n",
    "    lr=0.00005,\n",
    "    momentum=0\n",
    ")"
   ]
  },
  {
   "cell_type": "markdown",
   "metadata": {},
   "source": [
    "#### Earth-Mover distance"
   ]
  },
  {
   "cell_type": "code",
   "execution_count": 14,
   "metadata": {},
   "outputs": [],
   "source": [
    "is_emd = True  # switch between KL & EMD"
   ]
  },
  {
   "cell_type": "code",
   "execution_count": 15,
   "metadata": {},
   "outputs": [],
   "source": [
    "criterion = torch.nn.KLDivLoss()"
   ]
  },
  {
   "cell_type": "markdown",
   "metadata": {},
   "source": [
    "#### Visualize Output"
   ]
  },
  {
   "cell_type": "code",
   "execution_count": 16,
   "metadata": {},
   "outputs": [],
   "source": [
    "def visualizeGAN(tgt_pth, images, epoch):\n",
    "\n",
    "    fig, axes = plt.subplots(2, 5, figsize=(20, 18))\n",
    "    \n",
    "    fig.suptitle('Epoch {}'.format(str(epoch).zfill(4)))\n",
    "\n",
    "    for row, axe in enumerate(axes):\n",
    "        for col, cell in enumerate(axe):\n",
    "            cell.imshow(\n",
    "                images[row * 5 + col],\n",
    "                cmap='gray'\n",
    "            )\n",
    "\n",
    "            cell.axis(\"off\")\n",
    "\n",
    "\n",
    "    plt.axis(\"off\")\n",
    "    plt.tight_layout()\n",
    "\n",
    "    fig.savefig(os.path.join(tgt_pth, '{}.jpg'.format(str(epoch).zfill(3))))\n",
    "    \n",
    "    plt.close()"
   ]
  },
  {
   "cell_type": "code",
   "execution_count": 17,
   "metadata": {},
   "outputs": [],
   "source": [
    "import os\n",
    "\n",
    "visuals_dir = 'visual-setion-3-lecture-4'\n",
    "\n",
    "if not os.path.exists(visuals_dir):\n",
    "    os.mkdir(visuals_dir)"
   ]
  },
  {
   "cell_type": "markdown",
   "metadata": {},
   "source": [
    "#### GAN Training"
   ]
  },
  {
   "cell_type": "code",
   "execution_count": 18,
   "metadata": {},
   "outputs": [],
   "source": [
    "real_labels = torch.ones(BATCH_SIZE, 1).to(device)\n",
    "fake_labels = ( -1 * torch.ones(BATCH_SIZE, 1) ).to(device)\n",
    "\n",
    "test_set = torch.randn(25, noise_dim).to(device)\n",
    "\n",
    "num_epochs = 1024  # @todo while not converged...\n",
    "num_steps = len(train_loader) // BATCH_SIZE"
   ]
  },
  {
   "cell_type": "code",
   "execution_count": 19,
   "metadata": {},
   "outputs": [
    {
     "name": "stderr",
     "output_type": "stream",
     "text": [
      "/usr/lib/python3/dist-packages/ipykernel_launcher.py:13: TracerWarning: Converting a tensor to a Python boolean might cause the trace to be incorrect. We can't record the data flow of Python values, so this value will be treated as a constant in the future. This means that the trace might not generalize to other inputs!\n",
      "  del sys.path[0]\n"
     ]
    }
   ],
   "source": [
    "for epoch in range(num_epochs):\n",
    "\n",
    "    for i, (images, _) in enumerate(train_loader):\n",
    "\n",
    "        if i == num_steps:\n",
    "            break\n",
    "\n",
    "        # Train Discriminator\n",
    "        discriminator_loss = 0\n",
    "        for k in range(5):\n",
    "        \n",
    "            real_images = images.to(device)\n",
    "\n",
    "            fake_images = generator(\n",
    "                torch.randn(BATCH_SIZE, noise_dim).to(device)\n",
    "            )\n",
    "\n",
    "            # clamp parameters to a cube\n",
    "            for p in discriminator.parameters():\n",
    "                p.data.clamp_(-0.01, 0.01)\n",
    "            \n",
    "            discriminator_optimizer.zero_grad()\n",
    "\n",
    "            real_outputs = discriminator(real_images)\n",
    "            fake_outputs = discriminator(fake_images)\n",
    "\n",
    "            if is_emd:\n",
    "                # perform Earth-Mover\n",
    "                real_outputs.backward(real_labels)\n",
    "                fake_outputs.backward(fake_labels)\n",
    "                \n",
    "                discriminator_loss += real_outputs - fake_outputs\n",
    "            else:\n",
    "                # perform criterion\n",
    "                d_x = criterion(real_outputs, real_labels)\n",
    "                d_g_z = criterion(fake_outputs, fake_labels)\n",
    "\n",
    "                d_x.backward()\n",
    "                d_g_z.backward()\n",
    "                \n",
    "                discriminator_loss += d_x + d_g_z\n",
    "\n",
    "            tb_writer.add_scalar(\n",
    "                'discriminator/gradients',\n",
    "                discriminator.fcn[-1].weight.grad.abs().mean().item(),\n",
    "                int('{}{}'.format(epoch, k))\n",
    "            )\n",
    "            \n",
    "            tb_writer.add_graph(\n",
    "                discriminator,\n",
    "                real_images\n",
    "            )\n",
    "            \n",
    "            tb_writer.add_graph(\n",
    "                discriminator,\n",
    "                fake_images\n",
    "            )\n",
    "\n",
    "            discriminator_optimizer.step()\n",
    "        \n",
    "        # log loss for criterion\n",
    "        tb_writer.add_scalar(\n",
    "            'discriminator/loss',\n",
    "            discriminator_loss.item() / 5,\n",
    "            epoch\n",
    "        )\n",
    "\n",
    "\n",
    "        # Train Generator\n",
    "        z = torch.randn(BATCH_SIZE, noise_dim).to(device)\n",
    "\n",
    "        generator.zero_grad()\n",
    "\n",
    "        outputs = discriminator(generator(z))\n",
    "\n",
    "        if is_emd:\n",
    "            # perform Earth-Mover\n",
    "            outputs.backward(real_labels)\n",
    "            \n",
    "            tb_writer.add_scalar(\n",
    "                'generator/loss',\n",
    "                -1 * outputs.item(),\n",
    "                epoch\n",
    "            )\n",
    "        else:\n",
    "            # perform criterion\n",
    "            loss = criterion(outputs, real_labels)\n",
    "\n",
    "            loss.backward()\n",
    "            \n",
    "            tb_writer.add_scalar(\n",
    "                'generator/loss',\n",
    "                loss.item(),\n",
    "                epoch\n",
    "            )\n",
    "\n",
    "        tb_writer.add_scalar(\n",
    "            'generator/gradients',\n",
    "            generator.fcn[-2].weight.grad.abs().mean().item(),\n",
    "            epoch\n",
    "        )\n",
    "        \n",
    "        tb_writer.add_graph(\n",
    "            generator,\n",
    "            z\n",
    "        )\n",
    "\n",
    "        generator_optimizer.step()\n",
    "        \n",
    "\n",
    "\n",
    "    # Visualize Results\n",
    "    if epoch % 10 == 0:\n",
    "\n",
    "        generated = generator(test_set).detach().cpu().view(-1, 1, 28, 28)\n",
    "\n",
    "#         visualizeGAN(visuals_dir, generated, epoch)\n",
    "        \n",
    "        grid = torchvision.utils.make_grid(\n",
    "            generated,\n",
    "            nrow=5,\n",
    "            padding=10,\n",
    "            pad_value=1\n",
    "        )\n",
    "        \n",
    "        tb_writer.add_image('generator/outputs', grid, epoch)"
   ]
  },
  {
   "cell_type": "code",
   "execution_count": 20,
   "metadata": {},
   "outputs": [
    {
     "data": {
      "image/png": "[encoded data removed]",
      "text/plain": [
       "<Figure size 1152x1152 with 1 Axes>"
      ]
     },
     "metadata": {
      "needs_background": "light"
     },
     "output_type": "display_data"
    }
   ],
   "source": [
    "# Visualize Results\n",
    "generated = generator(test_set).detach().cpu().view(-1, 1, 28, 28)\n",
    "\n",
    "grid = torchvision.utils.make_grid(\n",
    "    generated,\n",
    "    nrow=5,\n",
    "    padding=10,\n",
    "    pad_value=1\n",
    ")\n",
    "\n",
    "img = np.transpose(\n",
    "    grid.numpy(),\n",
    "    (1, 2, 0)\n",
    ")\n",
    "\n",
    "fig = plt.figure(figsize=(16, 16))\n",
    "plt.axis(\"off\")\n",
    "plt.imshow(img);"
   ]
  },
  {
   "cell_type": "markdown",
   "metadata": {},
   "source": [
    "#### Google Collaboratory\n",
    "\n",
    "Notebook: https://colab.research.google.com/drive/13oGV5GNcnZVKw1zzsAEAH9nvms04uYnT"
   ]
  },
  {
   "cell_type": "markdown",
   "metadata": {},
   "source": [
    "#### Original Paper Code"
   ]
  },
  {
   "cell_type": "markdown",
   "metadata": {},
   "source": [
    "Github: https://github.com/martinarjovsky/WassersteinGAN"
   ]
  },
  {
   "cell_type": "markdown",
   "metadata": {},
   "source": [
    "#### Bonus Tip"
   ]
  },
  {
   "cell_type": "markdown",
   "metadata": {},
   "source": [
    "<i> Weight Update </i>\n",
    "\n",
    "$$ \\omega_{t+1} = \\omega_{t} + \\alpha \\quad \\frac{\\partial \\quad J(\\theta) }{\\partial \\omega}$$\n",
    "\n",
    "<i> Chain Rule </i>\n",
    "\n",
    "$$ \\frac{\\partial \\quad J(\\theta) }{\\partial \\omega} = \\frac{\\partial \\quad J(\\theta)}{\\partial \\quad output} \\frac{\\partial \\quad output}{\\partial \\omega} $$\n",
    "\n",
    "<i> Derivative of Linear </i>\n",
    "\n",
    "$$ \\frac{\\partial \\quad output}{\\partial \\omega} = \\frac{\\partial \\quad (\\omega x + b )}{\\partial \\omega} = x $$\n",
    "\n",
    "<i> PyTorch Autograd </i>\n",
    "\n",
    "<pre>\n",
    "    ''' Instead of '''\n",
    "    loss.backward()\n",
    "\n",
    "    ''' We did '''\n",
    "    output.backward(grad)\n",
    "    \n",
    "    # fake\n",
    "    output.backward(-1)\n",
    "    \n",
    "    # real\n",
    "    output.backward(+1)\n",
    "</pre>"
   ]
  },
  {
   "cell_type": "code",
   "execution_count": null,
   "metadata": {},
   "outputs": [],
   "source": []
  }
 ],
 "metadata": {
  "kernelspec": {
   "display_name": "Python 3",
   "language": "python",
   "name": "python3"
  },
  "language_info": {
   "codemirror_mode": {
    "name": "ipython",
    "version": 3
   },
   "file_extension": ".py",
   "mimetype": "text/x-python",
   "name": "python",
   "nbconvert_exporter": "python",
   "pygments_lexer": "ipython3",
   "version": "3.7.3"
  }
 },
 "nbformat": 4,
 "nbformat_minor": 2
}
