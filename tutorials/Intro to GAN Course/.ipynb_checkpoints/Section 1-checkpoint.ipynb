{
 "cells": [
  {
   "cell_type": "markdown",
   "metadata": {
    "id": "0bAAzQQxvW8I"
   },
   "source": [
    "### Lecture 1"
   ]
  },
  {
   "cell_type": "markdown",
   "metadata": {
    "id": "ubVM8mrmvW8J"
   },
   "source": [
    "#### Environment Setup"
   ]
  },
  {
   "cell_type": "code",
   "execution_count": null,
   "metadata": {
    "colab": {
     "base_uri": "https://localhost:8080/",
     "height": 34
    },
    "id": "geC4h5qcvW8L",
    "outputId": "7c62fc2e-0cc7-4e07-8551-eee4afb7d426"
   },
   "outputs": [
    {
     "name": "stdout",
     "output_type": "stream",
     "text": [
      "Python 3.6.9\n"
     ]
    }
   ],
   "source": [
    "!python -V"
   ]
  },
  {
   "cell_type": "code",
   "execution_count": null,
   "metadata": {
    "colab": {
     "base_uri": "https://localhost:8080/",
     "height": 34
    },
    "id": "gNoHxhSyvW8S",
    "outputId": "a2d5a670-4340-4f7c-8e74-e28a899c461a"
   },
   "outputs": [
    {
     "name": "stdout",
     "output_type": "stream",
     "text": [
      "Python 3.6.9\n"
     ]
    }
   ],
   "source": [
    "!python3 -V"
   ]
  },
  {
   "cell_type": "code",
   "execution_count": null,
   "metadata": {
    "colab": {
     "base_uri": "https://localhost:8080/",
     "height": 68
    },
    "id": "4hwKJrNavW8e",
    "outputId": "da19a74d-fba4-40c5-d5e4-8c6bbf844ad5"
   },
   "outputs": [
    {
     "name": "stdout",
     "output_type": "stream",
     "text": [
      "1.6.0+cu101\n",
      "0.7.0+cu101\n",
      "True\n"
     ]
    }
   ],
   "source": [
    "import torch\n",
    "import torchvision\n",
    "\n",
    "\n",
    "print(torch.__version__)\n",
    "print(torchvision.__version__)\n",
    "print(torch.cuda.is_available())"
   ]
  },
  {
   "cell_type": "markdown",
   "metadata": {
    "id": "n0iZVkhVvW8i"
   },
   "source": [
    "#### Bonus Tip\n",
    "\n",
    "\n",
    "##### Jupyter Notebook Remote Server"
   ]
  },
  {
   "cell_type": "markdown",
   "metadata": {
    "id": "5KVSb0NIvW8j"
   },
   "source": [
    "##### Terminal Only\n",
    "`\n",
    "$ jupyter notebook --port 8888 --no-browser --ip 0.0.0.0\n",
    "`"
   ]
  },
  {
   "cell_type": "markdown",
   "metadata": {
    "id": "PHNfukdVvW8k"
   },
   "source": [
    "#### Windows Troubleshooting\n",
    "\n",
    "Reference: <a href=\"https://pytorch.org/docs/stable/notes/windows.html\" target=\"_BLANK\">WINDOWS FAQ</a>"
   ]
  },
  {
   "cell_type": "markdown",
   "metadata": {
    "id": "BjzRnQfivW8l"
   },
   "source": [
    "#### LeNet-5 Architecture"
   ]
  },
  {
   "cell_type": "code",
   "execution_count": null,
   "metadata": {
    "id": "u8_w7IxCvW8m"
   },
   "outputs": [],
   "source": [
    "import torch\n",
    "\n",
    "\n",
    "class LeNet5(torch.nn.Module):\n",
    "    \n",
    "    def __init__(self):\n",
    "        \n",
    "        super(LeNet5, self).__init__()\n",
    "        \n",
    "        self.convnet = torch.nn.Sequential(\n",
    "            # Conv Block 1\n",
    "            torch.nn.Conv2d(\n",
    "                in_channels=1,\n",
    "                out_channels=6,\n",
    "                kernel_size=(5, 5),\n",
    "                stride=1,\n",
    "                bias=True\n",
    "            ),\n",
    "            torch.nn.ReLU(),\n",
    "            torch.nn.MaxPool2d(\n",
    "                kernel_size=(2, 2),\n",
    "                stride=1\n",
    "            ),\n",
    "            # Conv Block 2\n",
    "            torch.nn.Conv2d(\n",
    "                in_channels=6,\n",
    "                out_channels=16,\n",
    "                kernel_size=(5, 5),\n",
    "                stride=1,\n",
    "                bias=True\n",
    "            ),\n",
    "            torch.nn.ReLU(),\n",
    "            torch.nn.MaxPool2d(\n",
    "                kernel_size=(2, 2),\n",
    "                stride=1\n",
    "            ),\n",
    "            # Conv Block 3\n",
    "            torch.nn.Conv2d(\n",
    "                in_channels=16,\n",
    "                out_channels=32,\n",
    "                kernel_size=(5, 5),\n",
    "                stride=1,\n",
    "                bias=True\n",
    "            ),\n",
    "            torch.nn.ReLU(),\n",
    "            torch.nn.MaxPool2d(\n",
    "                kernel_size=(2, 2),\n",
    "                stride=1\n",
    "            )\n",
    "        )\n",
    "        \n",
    "        self.fcn = torch.nn.Sequential(\n",
    "            # Fully Connected Layer 1\n",
    "            torch.nn.Linear(\n",
    "                in_features=9248,\n",
    "                out_features=84,\n",
    "                bias=True\n",
    "            ),\n",
    "            torch.nn.ReLU(),\n",
    "            # Classifier Layer 2\n",
    "            torch.nn.Linear(\n",
    "                in_features=84,\n",
    "                out_features=10,\n",
    "                bias=True\n",
    "            ),\n",
    "            torch.nn.Softmax(dim=1)\n",
    "        )\n",
    "\n",
    "    def forward(self, batch):\n",
    "        ret = self.convnet(batch)\n",
    "        ret = ret.view(batch.size(0), -1)\n",
    "        ret = self.fcn(ret)\n",
    "        return ret"
   ]
  },
  {
   "cell_type": "markdown",
   "metadata": {
    "id": "Z1sr6Ym_vW8p"
   },
   "source": [
    "#### Visualize Network ( Bonus )"
   ]
  },
  {
   "cell_type": "code",
   "execution_count": null,
   "metadata": {
    "colab": {
     "base_uri": "https://localhost:8080/",
     "height": 51
    },
    "id": "BvOno9_9vW8q",
    "outputId": "a019c471-a99b-4325-fb66-03297a5e6c6f"
   },
   "outputs": [
    {
     "name": "stdout",
     "output_type": "stream",
     "text": [
      "Requirement already satisfied: graphviz in /usr/local/lib/python3.6/dist-packages (0.10.1)\n",
      "Requirement already satisfied: hiddenlayer in /usr/local/lib/python3.6/dist-packages (0.2)\n"
     ]
    }
   ],
   "source": [
    "! python3 -m pip install graphviz hiddenlayer --user"
   ]
  },
  {
   "cell_type": "code",
   "execution_count": null,
   "metadata": {
    "colab": {
     "base_uri": "https://localhost:8080/",
     "height": 170
    },
    "id": "6KbkSEgafPI3",
    "outputId": "afa3d7cc-e3d4-4dda-c1e0-ccb37f2c8c53"
   },
   "outputs": [
    {
     "name": "stdout",
     "output_type": "stream",
     "text": [
      "Collecting git+https://github.com/waleedka/hiddenlayer.git\n",
      "  Cloning https://github.com/waleedka/hiddenlayer.git to /tmp/pip-req-build-9481lv5a\n",
      "  Running command git clone -q https://github.com/waleedka/hiddenlayer.git /tmp/pip-req-build-9481lv5a\n",
      "Requirement already satisfied (use --upgrade to upgrade): hiddenlayer==0.2 from git+https://github.com/waleedka/hiddenlayer.git in /usr/local/lib/python3.6/dist-packages\n",
      "Building wheels for collected packages: hiddenlayer\n",
      "  Building wheel for hiddenlayer (setup.py) ... \u001b[?25l\u001b[?25hdone\n",
      "  Created wheel for hiddenlayer: filename=hiddenlayer-0.2-cp36-none-any.whl size=19775 sha256=359fe9de1b9bfbbb4f702b1ac86d0566fa4006ae3239e4c2c14a0998845f6b6e\n",
      "  Stored in directory: /tmp/pip-ephem-wheel-cache-_bctg_e_/wheels/49/bc/d1/938073704abdd049b3e4cdc6811c8f468d69fb5eecc6e01748\n",
      "Successfully built hiddenlayer\n"
     ]
    }
   ],
   "source": [
    "! pip3 install git+https://github.com/waleedka/hiddenlayer.git\n"
   ]
  },
  {
   "cell_type": "code",
   "execution_count": null,
   "metadata": {
    "colab": {
     "base_uri": "https://localhost:8080/",
     "height": 34
    },
    "id": "QBvfX6atfgX-",
    "outputId": "a3dab4c5-2fc8-493e-dc39-aaf8c8660096"
   },
   "outputs": [
    {
     "name": "stdout",
     "output_type": "stream",
     "text": [
      "Requirement already satisfied: hiddenlayer in /usr/local/lib/python3.6/dist-packages (0.2)\n"
     ]
    }
   ],
   "source": [
    "! pip install hiddenlayer\n"
   ]
  },
  {
   "cell_type": "code",
   "execution_count": null,
   "metadata": {
    "colab": {
     "base_uri": "https://localhost:8080/",
     "height": 345
    },
    "id": "1Ts45c9IvW8t",
    "outputId": "d8451146-3df3-4f7a-c459-feb63f105d18"
   },
   "outputs": [
    {
     "data": {
      "image/svg+xml": [
       "<?xml version=\"1.0\" encoding=\"UTF-8\" standalone=\"no\"?>\n",
       "<!DOCTYPE svg PUBLIC \"-//W3C//DTD SVG 1.1//EN\"\n",
       " \"http://www.w3.org/Graphics/SVG/1.1/DTD/svg11.dtd\">\n",
       "<!-- Generated by graphviz version 2.40.1 (20161225.0304)\n",
       " -->\n",
       "<!-- Title: %3 Pages: 1 -->\n",
       "<svg width=\"1164pt\" height=\"243pt\"\n",
       " viewBox=\"0.00 0.00 1164.00 243.00\" xmlns=\"http://www.w3.org/2000/svg\" xmlns:xlink=\"http://www.w3.org/1999/xlink\">\n",
       "<g id=\"graph0\" class=\"graph\" transform=\"scale(1 1) rotate(0) translate(72 207)\">\n",
       "<title>%3</title>\n",
       "<polygon fill=\"#ffffff\" stroke=\"transparent\" points=\"-72,36 -72,-207 1092,-207 1092,36 -72,36\"/>\n",
       "<!-- /outputs/13 -->\n",
       "<g id=\"node1\" class=\"node\">\n",
       "<title>/outputs/13</title>\n",
       "<polygon fill=\"#e8e8e8\" stroke=\"#000000\" points=\"190,-36 120,-36 120,0 190,0 190,-36\"/>\n",
       "<text text-anchor=\"start\" x=\"128\" y=\"-15\" font-family=\"Times\" font-size=\"10.00\" fill=\"#000000\">MaxPool2x2</text>\n",
       "</g>\n",
       "<!-- 9912598968280422070 -->\n",
       "<g id=\"node15\" class=\"node\">\n",
       "<title>9912598968280422070</title>\n",
       "<polygon fill=\"#e8e8e8\" stroke=\"#000000\" points=\"310,-36 226,-36 226,0 310,0 310,-36\"/>\n",
       "<text text-anchor=\"start\" x=\"234\" y=\"-15\" font-family=\"Times\" font-size=\"10.00\" fill=\"#000000\">Conv5x5 &gt; Relu</text>\n",
       "</g>\n",
       "<!-- /outputs/13&#45;&gt;9912598968280422070 -->\n",
       "<g id=\"edge11\" class=\"edge\">\n",
       "<title>/outputs/13&#45;&gt;9912598968280422070</title>\n",
       "<path fill=\"none\" stroke=\"#000000\" d=\"M190.1345,-18C198.237,-18 207.0271,-18 215.6853,-18\"/>\n",
       "<polygon fill=\"#000000\" stroke=\"#000000\" points=\"215.7397,-21.5001 225.7397,-18 215.7396,-14.5001 215.7397,-21.5001\"/>\n",
       "</g>\n",
       "<!-- /outputs/16 -->\n",
       "<g id=\"node2\" class=\"node\">\n",
       "<title>/outputs/16</title>\n",
       "<polygon fill=\"#e8e8e8\" stroke=\"#000000\" points=\"416,-36 346,-36 346,0 416,0 416,-36\"/>\n",
       "<text text-anchor=\"start\" x=\"354\" y=\"-15\" font-family=\"Times\" font-size=\"10.00\" fill=\"#000000\">MaxPool2x2</text>\n",
       "</g>\n",
       "<!-- 3136415385913577986 -->\n",
       "<g id=\"node16\" class=\"node\">\n",
       "<title>3136415385913577986</title>\n",
       "<polygon fill=\"#e8e8e8\" stroke=\"#000000\" points=\"536,-36 452,-36 452,0 536,0 536,-36\"/>\n",
       "<text text-anchor=\"start\" x=\"460\" y=\"-15\" font-family=\"Times\" font-size=\"10.00\" fill=\"#000000\">Conv5x5 &gt; Relu</text>\n",
       "</g>\n",
       "<!-- /outputs/16&#45;&gt;3136415385913577986 -->\n",
       "<g id=\"edge13\" class=\"edge\">\n",
       "<title>/outputs/16&#45;&gt;3136415385913577986</title>\n",
       "<path fill=\"none\" stroke=\"#000000\" d=\"M416.1345,-18C424.237,-18 433.0271,-18 441.6853,-18\"/>\n",
       "<polygon fill=\"#000000\" stroke=\"#000000\" points=\"441.7397,-21.5001 451.7397,-18 441.7396,-14.5001 441.7397,-21.5001\"/>\n",
       "</g>\n",
       "<!-- /outputs/19 -->\n",
       "<g id=\"node3\" class=\"node\">\n",
       "<title>/outputs/19</title>\n",
       "<polygon fill=\"#e8e8e8\" stroke=\"#000000\" points=\"642,-36 572,-36 572,0 642,0 642,-36\"/>\n",
       "<text text-anchor=\"start\" x=\"580\" y=\"-15\" font-family=\"Times\" font-size=\"10.00\" fill=\"#000000\">MaxPool2x2</text>\n",
       "</g>\n",
       "<!-- /outputs/27 -->\n",
       "<g id=\"node11\" class=\"node\">\n",
       "<title>/outputs/27</title>\n",
       "<polygon fill=\"#e8e8e8\" stroke=\"#000000\" points=\"732,-63 678,-63 678,-27 732,-27 732,-63\"/>\n",
       "<text text-anchor=\"start\" x=\"688\" y=\"-42\" font-family=\"Times\" font-size=\"10.00\" fill=\"#000000\">Reshape</text>\n",
       "</g>\n",
       "<!-- /outputs/19&#45;&gt;/outputs/27 -->\n",
       "<g id=\"edge1\" class=\"edge\">\n",
       "<title>/outputs/19&#45;&gt;/outputs/27</title>\n",
       "<path fill=\"none\" stroke=\"#000000\" d=\"M642.1034,-27.6714C650.5511,-29.9988 659.5996,-32.4917 668.1254,-34.8407\"/>\n",
       "<polygon fill=\"#000000\" stroke=\"#000000\" points=\"667.2561,-38.2315 677.8266,-37.5135 669.1155,-31.483 667.2561,-38.2315\"/>\n",
       "</g>\n",
       "<!-- /outputs/20 -->\n",
       "<g id=\"node4\" class=\"node\">\n",
       "<title>/outputs/20</title>\n",
       "<polygon fill=\"#e8e8e8\" stroke=\"#000000\" points=\"295,-171 241,-171 241,-135 295,-135 295,-171\"/>\n",
       "<text text-anchor=\"start\" x=\"256\" y=\"-150\" font-family=\"Times\" font-size=\"10.00\" fill=\"#000000\">Shape</text>\n",
       "</g>\n",
       "<!-- /outputs/22 -->\n",
       "<g id=\"node6\" class=\"node\">\n",
       "<title>/outputs/22</title>\n",
       "<polygon fill=\"#e8e8e8\" stroke=\"#000000\" points=\"408,-144 354,-144 354,-108 408,-108 408,-144\"/>\n",
       "<text text-anchor=\"start\" x=\"367\" y=\"-123\" font-family=\"Times\" font-size=\"10.00\" fill=\"#000000\">Gather</text>\n",
       "</g>\n",
       "<!-- /outputs/20&#45;&gt;/outputs/22 -->\n",
       "<g id=\"edge2\" class=\"edge\">\n",
       "<title>/outputs/20&#45;&gt;/outputs/22</title>\n",
       "<path fill=\"none\" stroke=\"#000000\" d=\"M295.0663,-146.5328C309.6348,-143.0519 327.8257,-138.7054 343.7149,-134.9088\"/>\n",
       "<polygon fill=\"#000000\" stroke=\"#000000\" points=\"344.8501,-138.2362 353.7629,-132.508 343.2233,-131.4278 344.8501,-138.2362\"/>\n",
       "</g>\n",
       "<!-- /outputs/21 -->\n",
       "<g id=\"node5\" class=\"node\">\n",
       "<title>/outputs/21</title>\n",
       "<polygon fill=\"#e8e8e8\" stroke=\"#000000\" points=\"295,-117 241,-117 241,-81 295,-81 295,-117\"/>\n",
       "<text text-anchor=\"start\" x=\"250\" y=\"-96\" font-family=\"Times\" font-size=\"10.00\" fill=\"#000000\">Constant</text>\n",
       "</g>\n",
       "<!-- /outputs/21&#45;&gt;/outputs/22 -->\n",
       "<g id=\"edge3\" class=\"edge\">\n",
       "<title>/outputs/21&#45;&gt;/outputs/22</title>\n",
       "<path fill=\"none\" stroke=\"#000000\" d=\"M295.0663,-105.4672C309.6348,-108.9481 327.8257,-113.2946 343.7149,-117.0912\"/>\n",
       "<polygon fill=\"#000000\" stroke=\"#000000\" points=\"343.2233,-120.5722 353.7629,-119.492 344.8501,-113.7638 343.2233,-120.5722\"/>\n",
       "</g>\n",
       "<!-- /outputs/24 -->\n",
       "<g id=\"node8\" class=\"node\">\n",
       "<title>/outputs/24</title>\n",
       "<polygon fill=\"#e8e8e8\" stroke=\"#000000\" points=\"524.5,-144 463.5,-144 463.5,-108 524.5,-108 524.5,-144\"/>\n",
       "<text text-anchor=\"start\" x=\"472\" y=\"-123\" font-family=\"Times\" font-size=\"10.00\" fill=\"#000000\">Unsqueeze</text>\n",
       "</g>\n",
       "<!-- /outputs/22&#45;&gt;/outputs/24 -->\n",
       "<g id=\"edge4\" class=\"edge\">\n",
       "<title>/outputs/22&#45;&gt;/outputs/24</title>\n",
       "<path fill=\"none\" stroke=\"#000000\" d=\"M408.0663,-126C421.5412,-126 438.1149,-126 453.1001,-126\"/>\n",
       "<polygon fill=\"#000000\" stroke=\"#000000\" points=\"453.1631,-129.5001 463.1631,-126 453.1631,-122.5001 453.1631,-129.5001\"/>\n",
       "</g>\n",
       "<!-- /outputs/23 -->\n",
       "<g id=\"node7\" class=\"node\">\n",
       "<title>/outputs/23</title>\n",
       "<polygon fill=\"#e8e8e8\" stroke=\"#000000\" points=\"408,-90 354,-90 354,-54 408,-54 408,-90\"/>\n",
       "<text text-anchor=\"start\" x=\"363\" y=\"-69\" font-family=\"Times\" font-size=\"10.00\" fill=\"#000000\">Constant</text>\n",
       "</g>\n",
       "<!-- /outputs/25 -->\n",
       "<g id=\"node9\" class=\"node\">\n",
       "<title>/outputs/25</title>\n",
       "<polygon fill=\"#e8e8e8\" stroke=\"#000000\" points=\"524.5,-90 463.5,-90 463.5,-54 524.5,-54 524.5,-90\"/>\n",
       "<text text-anchor=\"start\" x=\"472\" y=\"-69\" font-family=\"Times\" font-size=\"10.00\" fill=\"#000000\">Unsqueeze</text>\n",
       "</g>\n",
       "<!-- /outputs/23&#45;&gt;/outputs/25 -->\n",
       "<g id=\"edge5\" class=\"edge\">\n",
       "<title>/outputs/23&#45;&gt;/outputs/25</title>\n",
       "<path fill=\"none\" stroke=\"#000000\" d=\"M408.0663,-72C421.5412,-72 438.1149,-72 453.1001,-72\"/>\n",
       "<polygon fill=\"#000000\" stroke=\"#000000\" points=\"453.1631,-75.5001 463.1631,-72 453.1631,-68.5001 453.1631,-75.5001\"/>\n",
       "</g>\n",
       "<!-- /outputs/26 -->\n",
       "<g id=\"node10\" class=\"node\">\n",
       "<title>/outputs/26</title>\n",
       "<polygon fill=\"#e8e8e8\" stroke=\"#000000\" points=\"634,-90 580,-90 580,-54 634,-54 634,-90\"/>\n",
       "<text text-anchor=\"start\" x=\"592\" y=\"-69\" font-family=\"Times\" font-size=\"10.00\" fill=\"#000000\">Concat</text>\n",
       "</g>\n",
       "<!-- /outputs/24&#45;&gt;/outputs/26 -->\n",
       "<g id=\"edge6\" class=\"edge\">\n",
       "<title>/outputs/24&#45;&gt;/outputs/26</title>\n",
       "<path fill=\"none\" stroke=\"#000000\" d=\"M524.5794,-111.3868C538.7344,-104.6225 555.6606,-96.5339 570.4813,-89.4514\"/>\n",
       "<polygon fill=\"#000000\" stroke=\"#000000\" points=\"572.3527,-92.4363 579.8663,-84.9665 569.3345,-86.1204 572.3527,-92.4363\"/>\n",
       "</g>\n",
       "<!-- /outputs/25&#45;&gt;/outputs/26 -->\n",
       "<g id=\"edge7\" class=\"edge\">\n",
       "<title>/outputs/25&#45;&gt;/outputs/26</title>\n",
       "<path fill=\"none\" stroke=\"#000000\" d=\"M524.5794,-72C538.4648,-72 555.0168,-72 569.6322,-72\"/>\n",
       "<polygon fill=\"#000000\" stroke=\"#000000\" points=\"569.8663,-75.5001 579.8663,-72 569.8663,-68.5001 569.8663,-75.5001\"/>\n",
       "</g>\n",
       "<!-- /outputs/26&#45;&gt;/outputs/27 -->\n",
       "<g id=\"edge8\" class=\"edge\">\n",
       "<title>/outputs/26&#45;&gt;/outputs/27</title>\n",
       "<path fill=\"none\" stroke=\"#000000\" d=\"M634.0384,-64.5507C644.4487,-61.6825 656.5267,-58.3549 667.7343,-55.2671\"/>\n",
       "<polygon fill=\"#000000\" stroke=\"#000000\" points=\"668.9985,-58.5493 677.7097,-52.5188 667.1392,-51.8007 668.9985,-58.5493\"/>\n",
       "</g>\n",
       "<!-- 12185251019446966294 -->\n",
       "<g id=\"node17\" class=\"node\">\n",
       "<title>12185251019446966294</title>\n",
       "<polygon fill=\"#e8e8e8\" stroke=\"#000000\" points=\"840,-63 768,-63 768,-27 840,-27 840,-63\"/>\n",
       "<text text-anchor=\"start\" x=\"776\" y=\"-42\" font-family=\"Times\" font-size=\"10.00\" fill=\"#000000\">Linear &gt; Relu</text>\n",
       "</g>\n",
       "<!-- /outputs/27&#45;&gt;12185251019446966294 -->\n",
       "<g id=\"edge15\" class=\"edge\">\n",
       "<title>/outputs/27&#45;&gt;12185251019446966294</title>\n",
       "<path fill=\"none\" stroke=\"#000000\" d=\"M732.0522,-45C739.9527,-45 748.8212,-45 757.5618,-45\"/>\n",
       "<polygon fill=\"#000000\" stroke=\"#000000\" points=\"757.6982,-48.5001 767.6982,-45 757.6982,-41.5001 757.6982,-48.5001\"/>\n",
       "</g>\n",
       "<!-- /outputs/30 -->\n",
       "<g id=\"node12\" class=\"node\">\n",
       "<title>/outputs/30</title>\n",
       "<polygon fill=\"#e8e8e8\" stroke=\"#000000\" points=\"930,-63 876,-63 876,-27 930,-27 930,-63\"/>\n",
       "<text text-anchor=\"start\" x=\"890\" y=\"-42\" font-family=\"Times\" font-size=\"10.00\" fill=\"#000000\">Linear</text>\n",
       "</g>\n",
       "<!-- /outputs/31 -->\n",
       "<g id=\"node13\" class=\"node\">\n",
       "<title>/outputs/31</title>\n",
       "<polygon fill=\"#e8e8e8\" stroke=\"#000000\" points=\"1020,-63 966,-63 966,-27 1020,-27 1020,-63\"/>\n",
       "<text text-anchor=\"start\" x=\"976\" y=\"-42\" font-family=\"Times\" font-size=\"10.00\" fill=\"#000000\">Softmax</text>\n",
       "</g>\n",
       "<!-- /outputs/30&#45;&gt;/outputs/31 -->\n",
       "<g id=\"edge9\" class=\"edge\">\n",
       "<title>/outputs/30&#45;&gt;/outputs/31</title>\n",
       "<path fill=\"none\" stroke=\"#000000\" d=\"M930.003,-45C938.0277,-45 946.9665,-45 955.5309,-45\"/>\n",
       "<polygon fill=\"#000000\" stroke=\"#000000\" points=\"955.7051,-48.5001 965.705,-45 955.705,-41.5001 955.7051,-48.5001\"/>\n",
       "</g>\n",
       "<!-- 8833668749350999235 -->\n",
       "<g id=\"node14\" class=\"node\">\n",
       "<title>8833668749350999235</title>\n",
       "<polygon fill=\"#e8e8e8\" stroke=\"#000000\" points=\"84,-36 0,-36 0,0 84,0 84,-36\"/>\n",
       "<text text-anchor=\"start\" x=\"8\" y=\"-15\" font-family=\"Times\" font-size=\"10.00\" fill=\"#000000\">Conv5x5 &gt; Relu</text>\n",
       "</g>\n",
       "<!-- 8833668749350999235&#45;&gt;/outputs/13 -->\n",
       "<g id=\"edge10\" class=\"edge\">\n",
       "<title>8833668749350999235&#45;&gt;/outputs/13</title>\n",
       "<path fill=\"none\" stroke=\"#000000\" d=\"M84.077,-18C92.4638,-18 101.305,-18 109.7918,-18\"/>\n",
       "<polygon fill=\"#000000\" stroke=\"#000000\" points=\"109.9138,-21.5001 119.9138,-18 109.9138,-14.5001 109.9138,-21.5001\"/>\n",
       "</g>\n",
       "<!-- 9912598968280422070&#45;&gt;/outputs/16 -->\n",
       "<g id=\"edge12\" class=\"edge\">\n",
       "<title>9912598968280422070&#45;&gt;/outputs/16</title>\n",
       "<path fill=\"none\" stroke=\"#000000\" d=\"M310.077,-18C318.4638,-18 327.305,-18 335.7918,-18\"/>\n",
       "<polygon fill=\"#000000\" stroke=\"#000000\" points=\"335.9138,-21.5001 345.9138,-18 335.9138,-14.5001 335.9138,-21.5001\"/>\n",
       "</g>\n",
       "<!-- 3136415385913577986&#45;&gt;/outputs/19 -->\n",
       "<g id=\"edge14\" class=\"edge\">\n",
       "<title>3136415385913577986&#45;&gt;/outputs/19</title>\n",
       "<path fill=\"none\" stroke=\"#000000\" d=\"M536.077,-18C544.4638,-18 553.305,-18 561.7918,-18\"/>\n",
       "<polygon fill=\"#000000\" stroke=\"#000000\" points=\"561.9138,-21.5001 571.9138,-18 561.9138,-14.5001 561.9138,-21.5001\"/>\n",
       "</g>\n",
       "<!-- 12185251019446966294&#45;&gt;/outputs/30 -->\n",
       "<g id=\"edge16\" class=\"edge\">\n",
       "<title>12185251019446966294&#45;&gt;/outputs/30</title>\n",
       "<path fill=\"none\" stroke=\"#000000\" d=\"M840.0213,-45C848.3402,-45 857.2088,-45 865.5856,-45\"/>\n",
       "<polygon fill=\"#000000\" stroke=\"#000000\" points=\"865.8548,-48.5001 875.8547,-45 865.8547,-41.5001 865.8548,-48.5001\"/>\n",
       "</g>\n",
       "</g>\n",
       "</svg>\n"
      ],
      "text/plain": [
       "<hiddenlayer.graph.Graph at 0x7faa6b528550>"
      ]
     },
     "execution_count": 8,
     "metadata": {
      "tags": []
     },
     "output_type": "execute_result"
    }
   ],
   "source": [
    "import hiddenlayer as hl\n",
    "\n",
    "hl.build_graph(LeNet5(), torch.zeros(1, 1, 32, 32))"
   ]
  },
  {
   "cell_type": "markdown",
   "metadata": {
    "id": "9_1X2OIGvW8y"
   },
   "source": [
    "<i>Reference</i>: <a href=\"https://github.com/waleedka/hiddenlayer\">HiddenLayer Documentation</a>"
   ]
  },
  {
   "cell_type": "markdown",
   "metadata": {
    "id": "NLUr1AkQvW8z"
   },
   "source": [
    "### Lecture 2"
   ]
  },
  {
   "cell_type": "code",
   "execution_count": null,
   "metadata": {
    "id": "OhNGcn52vW8z"
   },
   "outputs": [],
   "source": [
    "import numpy as np\n",
    "import torch.nn.functional as F"
   ]
  },
  {
   "cell_type": "code",
   "execution_count": null,
   "metadata": {
    "id": "45TI7GJovW82"
   },
   "outputs": [],
   "source": [
    "inputs = torch.from_numpy(\n",
    "            np.array(\n",
    "                [\n",
    "                    [0, 0],\n",
    "                    [0, 1],\n",
    "                    [1, 0],\n",
    "                    [1, 1]\n",
    "                ],\n",
    "                dtype=np.float32\n",
    "            )\n",
    "        )\n",
    "\n",
    "outputs = torch.from_numpy(\n",
    "            np.array(\n",
    "                [\n",
    "                    0,\n",
    "                    1,\n",
    "                    1,\n",
    "                    0\n",
    "                ],\n",
    "                dtype=np.float32\n",
    "            )\n",
    "        )\n",
    "\n",
    "weights = torch.randn(1, 2)\n",
    "weights.requires_grad = True\n",
    "\n",
    "bias = torch.randn(1, requires_grad=True)"
   ]
  },
  {
   "cell_type": "code",
   "execution_count": null,
   "metadata": {
    "colab": {
     "base_uri": "https://localhost:8080/",
     "height": 85
    },
    "id": "hM-_Mos_vW85",
    "outputId": "6754497c-bf67-4cc4-adec-a1cf6acba4fb"
   },
   "outputs": [
    {
     "data": {
      "text/plain": [
       "tensor([[0.5279],\n",
       "        [0.5173],\n",
       "        [0.1476],\n",
       "        [0.1369]], grad_fn=<AddmmBackward>)"
      ]
     },
     "execution_count": 11,
     "metadata": {
      "tags": []
     },
     "output_type": "execute_result"
    }
   ],
   "source": [
    "F.linear(inputs, weights, bias)"
   ]
  },
  {
   "cell_type": "code",
   "execution_count": null,
   "metadata": {
    "id": "ZaNMesN4vW89"
   },
   "outputs": [],
   "source": [
    "preds = F.linear(inputs, weights, bias)\n",
    "loss = (outputs - preds).mean()"
   ]
  },
  {
   "cell_type": "code",
   "execution_count": null,
   "metadata": {
    "colab": {
     "base_uri": "https://localhost:8080/",
     "height": 34
    },
    "id": "1c0t6XB4vW9A",
    "outputId": "bc5acdc7-7114-435d-a780-ed90d96c7beb"
   },
   "outputs": [
    {
     "data": {
      "text/plain": [
       "<AddmmBackward at 0x7faa7312f828>"
      ]
     },
     "execution_count": 13,
     "metadata": {
      "tags": []
     },
     "output_type": "execute_result"
    }
   ],
   "source": [
    "preds.grad_fn"
   ]
  },
  {
   "cell_type": "code",
   "execution_count": null,
   "metadata": {
    "colab": {
     "base_uri": "https://localhost:8080/",
     "height": 34
    },
    "id": "Kx2Zjy3ivW9G",
    "outputId": "c228a10a-e1d8-4857-c229-97e3ad734a13"
   },
   "outputs": [
    {
     "data": {
      "text/plain": [
       "<MeanBackward0 at 0x7faa7312f400>"
      ]
     },
     "execution_count": 14,
     "metadata": {
      "tags": []
     },
     "output_type": "execute_result"
    }
   ],
   "source": [
    "loss.grad_fn"
   ]
  },
  {
   "cell_type": "code",
   "execution_count": null,
   "metadata": {
    "id": "skj-tUiEvW9L"
   },
   "outputs": [],
   "source": [
    "weights.grad"
   ]
  },
  {
   "cell_type": "code",
   "execution_count": null,
   "metadata": {
    "id": "8vTHsM5XvW9P"
   },
   "outputs": [],
   "source": [
    "loss.backward()"
   ]
  },
  {
   "cell_type": "code",
   "execution_count": null,
   "metadata": {
    "colab": {
     "base_uri": "https://localhost:8080/",
     "height": 34
    },
    "id": "pwIiD2rhvW9T",
    "outputId": "624c628b-95e0-44e8-8b4f-c19af467275c"
   },
   "outputs": [
    {
     "data": {
      "text/plain": [
       "tensor([[-0.5000, -0.5000]])"
      ]
     },
     "execution_count": 17,
     "metadata": {
      "tags": []
     },
     "output_type": "execute_result"
    }
   ],
   "source": [
    "weights.grad"
   ]
  },
  {
   "cell_type": "markdown",
   "metadata": {
    "id": "pRTA86ZqvW9X"
   },
   "source": [
    "### Lecture 3"
   ]
  },
  {
   "cell_type": "markdown",
   "metadata": {
    "id": "SNfCIhOEvW9Y"
   },
   "source": [
    "#### MNIST Dataset"
   ]
  },
  {
   "cell_type": "code",
   "execution_count": null,
   "metadata": {
    "id": "Ahl3O5pcvW9Z"
   },
   "outputs": [],
   "source": [
    "import torchvision"
   ]
  },
  {
   "cell_type": "code",
   "execution_count": null,
   "metadata": {
    "colab": {
     "base_uri": "https://localhost:8080/",
     "height": 369,
     "referenced_widgets": [
      "b5957e6c47784031880bd7e8dbda91f9",
      "ea1400a678034c81b5f7a93b447049be",
      "32456af8fc4a4c33a824a4ac0bacc3c7",
      "8f7d52c0a0fa4e08b07fe1a947229071",
      "b7ac99866bce4cca90aa0fa6f54b7874",
      "85a8fa41446d40dba9159488f424967d",
      "35753359238748a98691be403043b430",
      "48bd60aa3db94c57a6dfa8e9617d60a5",
      "cb6b04c12e3c42b48a09b3091892c224",
      "b03c952d4a8448d584d68bf2c3aa4c8d",
      "78d0f60f92d74ba0a972ffa13eec15a5",
      "c0a194adb27941c0836ae152f9d5409d",
      "9634940d63a549cb99361de3b25df03c",
      "0f0ea93ee43b4c819dc0c60ef9caebb3",
      "b05330fb318d4250a125373195bd193a",
      "be615ca18f0c4b7cae238202453cd91a",
      "dfacd4d60c01417691ef3c90dd46bf7b",
      "976e8183bc92492a9ecc3f3c9e14786c",
      "5dc681a575da46d7b61df444a8897e69",
      "44abb2bdf30040038187fdb07f27075a",
      "5e03bcf795d8401e9ff93f9c4aa0b55d",
      "94f600029f164202984ab80818dfc4bf",
      "ec21ca3b39704b7184dae960a1bcdeca",
      "2c242857029f466585bb4daf83917034",
      "f55aee434422410d97a6548d466619f8",
      "f7df158f9f48456db6882b8d052fc879",
      "4bac56281ef94d8ab404e1f39d7a1ea1",
      "4cea4fa1a2b1423a9d912e42d6be383e",
      "f0f5538776244374b8a02b7dafba4ff9",
      "f0324e51cce24f3a8997218dd405fed2",
      "c9e477d6ae5c4ebfaae0fe84f3628e22",
      "344845ccc8434f27b31ab1b032676300"
     ]
    },
    "id": "jai-YJmLvW9b",
    "outputId": "c9a1cd5c-e369-4ee8-9f3e-347cd42f074c"
   },
   "outputs": [
    {
     "name": "stdout",
     "output_type": "stream",
     "text": [
      "Downloading http://yann.lecun.com/exdb/mnist/train-images-idx3-ubyte.gz to ./data/mnist/MNIST/raw/train-images-idx3-ubyte.gz\n"
     ]
    },
    {
     "data": {
      "application/vnd.jupyter.widget-view+json": {
       "model_id": "b5957e6c47784031880bd7e8dbda91f9",
       "version_major": 2,
       "version_minor": 0
      },
      "text/plain": [
       "HBox(children=(FloatProgress(value=1.0, bar_style='info', max=1.0), HTML(value='')))"
      ]
     },
     "metadata": {
      "tags": []
     },
     "output_type": "display_data"
    },
    {
     "name": "stdout",
     "output_type": "stream",
     "text": [
      "Extracting ./data/mnist/MNIST/raw/train-images-idx3-ubyte.gz to ./data/mnist/MNIST/raw\n",
      "Downloading http://yann.lecun.com/exdb/mnist/train-labels-idx1-ubyte.gz to ./data/mnist/MNIST/raw/train-labels-idx1-ubyte.gz\n"
     ]
    },
    {
     "data": {
      "application/vnd.jupyter.widget-view+json": {
       "model_id": "cb6b04c12e3c42b48a09b3091892c224",
       "version_major": 2,
       "version_minor": 0
      },
      "text/plain": [
       "HBox(children=(FloatProgress(value=1.0, bar_style='info', max=1.0), HTML(value='')))"
      ]
     },
     "metadata": {
      "tags": []
     },
     "output_type": "display_data"
    },
    {
     "name": "stdout",
     "output_type": "stream",
     "text": [
      "Extracting ./data/mnist/MNIST/raw/train-labels-idx1-ubyte.gz to ./data/mnist/MNIST/raw\n",
      "Downloading http://yann.lecun.com/exdb/mnist/t10k-images-idx3-ubyte.gz to ./data/mnist/MNIST/raw/t10k-images-idx3-ubyte.gz\n"
     ]
    },
    {
     "data": {
      "application/vnd.jupyter.widget-view+json": {
       "model_id": "dfacd4d60c01417691ef3c90dd46bf7b",
       "version_major": 2,
       "version_minor": 0
      },
      "text/plain": [
       "HBox(children=(FloatProgress(value=1.0, bar_style='info', max=1.0), HTML(value='')))"
      ]
     },
     "metadata": {
      "tags": []
     },
     "output_type": "display_data"
    },
    {
     "name": "stdout",
     "output_type": "stream",
     "text": [
      "Extracting ./data/mnist/MNIST/raw/t10k-images-idx3-ubyte.gz to ./data/mnist/MNIST/raw\n",
      "Downloading http://yann.lecun.com/exdb/mnist/t10k-labels-idx1-ubyte.gz to ./data/mnist/MNIST/raw/t10k-labels-idx1-ubyte.gz\n"
     ]
    },
    {
     "data": {
      "application/vnd.jupyter.widget-view+json": {
       "model_id": "f55aee434422410d97a6548d466619f8",
       "version_major": 2,
       "version_minor": 0
      },
      "text/plain": [
       "HBox(children=(FloatProgress(value=1.0, bar_style='info', max=1.0), HTML(value='')))"
      ]
     },
     "metadata": {
      "tags": []
     },
     "output_type": "display_data"
    },
    {
     "name": "stdout",
     "output_type": "stream",
     "text": [
      "Extracting ./data/mnist/MNIST/raw/t10k-labels-idx1-ubyte.gz to ./data/mnist/MNIST/raw\n",
      "Processing...\n",
      "Done!\n"
     ]
    },
    {
     "name": "stderr",
     "output_type": "stream",
     "text": [
      "/usr/local/lib/python3.6/dist-packages/torchvision/datasets/mnist.py:469: UserWarning: The given NumPy array is not writeable, and PyTorch does not support non-writeable tensors. This means you can write to the underlying (supposedly non-writeable) NumPy array using the tensor. You may want to copy the array to protect its data or make it writeable before converting it to a tensor. This type of warning will be suppressed for the rest of this program. (Triggered internally at  /pytorch/torch/csrc/utils/tensor_numpy.cpp:141.)\n",
      "  return torch.from_numpy(parsed.astype(m[2], copy=False)).view(*s)\n"
     ]
    }
   ],
   "source": [
    "data_train = torchvision.datasets.MNIST(\n",
    "    './data/mnist',\n",
    "    train=True,\n",
    "    download=True,\n",
    "    transform=torchvision.transforms.Compose([\n",
    "        torchvision.transforms.Pad(2),\n",
    "        torchvision.transforms.ToTensor()\n",
    "    ])\n",
    ")\n",
    "\n",
    "data_test = torchvision.datasets.MNIST(\n",
    "    './data/mnist',\n",
    "    train=False,\n",
    "    download=True,\n",
    "    transform=torchvision.transforms.Compose([\n",
    "        torchvision.transforms.Pad(2),\n",
    "        torchvision.transforms.ToTensor()\n",
    "    ])\n",
    ")"
   ]
  },
  {
   "cell_type": "code",
   "execution_count": null,
   "metadata": {
    "id": "lTMWMEaYvW9e"
   },
   "outputs": [],
   "source": [
    "BATCH_SIZE = 32\n",
    "train_loader = torch.utils.data.DataLoader(data_train, batch_size=BATCH_SIZE, shuffle=True, num_workers=4)\n",
    "test_loader = torch.utils.data.DataLoader(data_test, batch_size=BATCH_SIZE, shuffle=False, num_workers=4)"
   ]
  },
  {
   "cell_type": "markdown",
   "metadata": {
    "id": "16fDoKuqvW9k"
   },
   "source": [
    "#### GPU Support"
   ]
  },
  {
   "cell_type": "code",
   "execution_count": null,
   "metadata": {
    "colab": {
     "base_uri": "https://localhost:8080/",
     "height": 34
    },
    "id": "DguEgMJJvW9k",
    "outputId": "6f49bcea-504f-4f65-84e1-bb2cfe509925"
   },
   "outputs": [
    {
     "data": {
      "text/plain": [
       "device(type='cuda')"
      ]
     },
     "execution_count": 21,
     "metadata": {
      "tags": []
     },
     "output_type": "execute_result"
    }
   ],
   "source": [
    "device = torch.device('cpu')\n",
    "if torch.cuda.is_available():\n",
    "    device = torch.device('cuda')\n",
    "\n",
    "\n",
    "device"
   ]
  },
  {
   "cell_type": "markdown",
   "metadata": {
    "id": "FH2gHpyevW9o"
   },
   "source": [
    "#### Cauchy-Schwarz Divergence"
   ]
  },
  {
   "cell_type": "code",
   "execution_count": null,
   "metadata": {
    "colab": {
     "base_uri": "https://localhost:8080/",
     "height": 51
    },
    "id": "wM6rKH3IvW9p",
    "outputId": "265814bd-2656-4c12-b020-d26dbeb466d7"
   },
   "outputs": [
    {
     "name": "stdout",
     "output_type": "stream",
     "text": [
      "\n",
      "\n"
     ]
    }
   ],
   "source": [
    "def encodeOneHot(torch_tensor):\n",
    "    a = torch_tensor.cpu().numpy()\n",
    "    \n",
    "    b = np.zeros( ( a.size, 10 ) )\n",
    "    \n",
    "    b[ np.arange(a.size), a ] = 1\n",
    "\n",
    "    return torch.from_numpy(b).float().to(device)\n",
    "\n",
    "\n",
    "class CSD(torch.nn.Module):\n",
    "    \n",
    "    def __init__(self):\n",
    "        \n",
    "        super(CSD, self).__init__()\n",
    "    \n",
    "    def forward(self, outputs, target):\n",
    "        \n",
    "        y = encodeOneHot(target)\n",
    "                \n",
    "        nom = torch.sum(torch.mm(outputs, y.t()), dim=1)\n",
    "        \n",
    "        denom = torch.norm(outputs, 2) * torch.norm(y, 2)\n",
    "        \n",
    "        return torch.mean(-1 * torch.log(nom / denom))"
   ]
  },
  {
   "cell_type": "markdown",
   "metadata": {
    "id": "iGFkdezJvW9r"
   },
   "source": [
    "#### Model Training"
   ]
  },
  {
   "cell_type": "code",
   "execution_count": null,
   "metadata": {
    "id": "1jwq2IGvvW9s"
   },
   "outputs": [],
   "source": [
    "network = LeNet5().to(device)\n",
    "optimizer = torch.optim.Adam(network.parameters(), lr=0.0005)\n",
    "criterion = CSD()"
   ]
  },
  {
   "cell_type": "code",
   "execution_count": null,
   "metadata": {
    "colab": {
     "base_uri": "https://localhost:8080/",
     "height": 561
    },
    "id": "H8i-XfUkvW9w",
    "outputId": "b2f091ba-1a3a-4201-d911-83ce3faf09b8"
   },
   "outputs": [
    {
     "name": "stdout",
     "output_type": "stream",
     "text": [
      "Epoch: 1, Loss: 1.1568\n",
      "Epoch: 2, Loss: 1.1522\n",
      "Epoch: 3, Loss: 1.1532\n",
      "Epoch: 4, Loss: 1.1502\n",
      "Epoch: 5, Loss: 1.1520\n",
      "Epoch: 6, Loss: 1.1508\n",
      "Epoch: 7, Loss: 1.1526\n",
      "Epoch: 8, Loss: 1.1508\n",
      "Epoch: 9, Loss: 1.1497\n",
      "Epoch: 10, Loss: 1.1513\n",
      "Epoch: 11, Loss: 1.1499\n",
      "Epoch: 12, Loss: 1.1495\n",
      "Epoch: 13, Loss: 1.1478\n",
      "Epoch: 14, Loss: 1.1507\n",
      "Epoch: 15, Loss: 1.1521\n",
      "Epoch: 16, Loss: 1.1498\n",
      "Epoch: 17, Loss: 1.1506\n",
      "Epoch: 18, Loss: 1.1493\n",
      "Epoch: 19, Loss: 1.1514\n",
      "Epoch: 20, Loss: 1.1515\n",
      "Epoch: 21, Loss: 1.1510\n",
      "Epoch: 22, Loss: 1.1510\n",
      "Epoch: 23, Loss: 1.1501\n",
      "Epoch: 24, Loss: 1.1498\n",
      "Epoch: 25, Loss: 1.1513\n",
      "Epoch: 26, Loss: 1.1492\n",
      "Epoch: 27, Loss: 1.1466\n",
      "Epoch: 28, Loss: 1.1495\n",
      "Epoch: 29, Loss: 1.1505\n",
      "Epoch: 30, Loss: 1.1490\n",
      "Epoch: 31, Loss: 1.1490\n",
      "Epoch: 32, Loss: 1.1502\n"
     ]
    }
   ],
   "source": [
    "epochs = 32\n",
    "steps = len(train_loader) // BATCH_SIZE\n",
    "\n",
    "network.train(True)\n",
    "\n",
    "for e in range(epochs):\n",
    "    \n",
    "    epoch_loss = 0\n",
    "\n",
    "    performed_steps = 0\n",
    "    \n",
    "    for i, (images, labels) in enumerate(train_loader):\n",
    "        \n",
    "        if i == steps:\n",
    "            break\n",
    "        \n",
    "        images, labels = images.to(device), labels.to(device)\n",
    "        \n",
    "        optimizer.zero_grad()\n",
    "        \n",
    "        outputs = network(images)\n",
    "        \n",
    "        loss = criterion(outputs, labels)\n",
    "        \n",
    "        loss.backward()\n",
    "        \n",
    "        optimizer.step()\n",
    "        \n",
    "        epoch_loss += loss\n",
    "        \n",
    "        performed_steps += 1\n",
    "    \n",
    "    assert performed_steps == steps, \"steps: {} != {}\".format(steps, performed_steps)\n",
    "    \n",
    "    print(\"Epoch: {}, Loss: {:0.4f}\".format(\n",
    "        e + 1,\n",
    "        epoch_loss / steps\n",
    "    ))\n"
   ]
  },
  {
   "cell_type": "markdown",
   "metadata": {
    "id": "LETYJALRvW93"
   },
   "source": [
    "#### Model Evaluation"
   ]
  },
  {
   "cell_type": "code",
   "execution_count": null,
   "metadata": {
    "colab": {
     "base_uri": "https://localhost:8080/",
     "height": 34
    },
    "id": "LAWx5rC1vW95",
    "outputId": "d3abf646-6bc9-468a-f5d5-c8e0f43960af"
   },
   "outputs": [
    {
     "name": "stdout",
     "output_type": "stream",
     "text": [
      "Loss: 1.15, Acc: 11.33%\n"
     ]
    }
   ],
   "source": [
    "avg_loss = 0\n",
    "avg_acc = 0\n",
    "\n",
    "network.train(False)\n",
    "\n",
    "with torch.no_grad():\n",
    "    \n",
    "    steps = 0\n",
    "\n",
    "    for images, labels in test_loader:\n",
    "        \n",
    "        images, labels = images.to(device), labels.to(device)\n",
    "\n",
    "        outputs = network(images)\n",
    "\n",
    "        avg_loss += criterion(outputs, labels)\n",
    "\n",
    "        _, preds = torch.max(outputs, 1)\n",
    "        avg_acc += preds.eq(labels).sum().item()\n",
    "        \n",
    "        steps += 1\n",
    "\n",
    "\n",
    "print(\"Loss: {:0.2f}, Acc: {:.2%}\".format(\n",
    "    avg_loss / steps,\n",
    "    avg_acc / (steps * BATCH_SIZE)\n",
    "))"
   ]
  },
  {
   "cell_type": "markdown",
   "metadata": {
    "id": "ubAUFeaNvW98"
   },
   "source": [
    "### Read More\n",
    "\n",
    "<ul>\n",
    "    <li>Robert Jenssen, Jose C. Principe, Deniz Erdogmus, Torbjørn Eltoft, The Cauchy–Schwarz divergence and Parzen windowing: Connections to graph theory and Mercer kernels, Journal of the Franklin Institute, Volume 343, Issue 6, 2006, Pages 614-629, ISSN 0016-0032, https://doi.org/10.1016/j.jfranklin.2006.03.018.</li>\n",
    "    <li>Jenssen, R., Eltoft, T., Erdogmus, D. et al. J VLSI Sign Process Syst Sign Image Video Technol (2006) 45: 49. https://doi.org/10.1007/s11265-006-9771-8</li>\n",
    "    <li>Janocha, K., & Czarnecki, W. (2017). On Loss Functions for Deep Neural Networks in Classification. CoRR, abs/1702.05659.</li>\n",
    "    <li>Lecun, Yann & Bottou, Leon & Bengio, Y & Haffner, Patrick. (1998). Gradient-Based Learning Applied to Document Recognition. Proceedings of the IEEE. 86. 2278 - 2324. 10.1109/5.726791. http://yann.lecun.com/exdb/publis/pdf/lecun-01a.pdf </li>\n",
    "</ul>"
   ]
  }
 ],
 "metadata": {
  "accelerator": "GPU",
  "colab": {
   "name": "Test Bug in Section 1.ipynb",
   "provenance": []
  },
  "kernelspec": {
   "display_name": "Python 3",
   "language": "python",
   "name": "python3"
  },
  "language_info": {
   "codemirror_mode": {
    "name": "ipython",
    "version": 3
   },
   "file_extension": ".py",
   "mimetype": "text/x-python",
   "name": "python",
   "nbconvert_exporter": "python",
   "pygments_lexer": "ipython3",
   "version": "3.8.5"
  },
  "widgets": {
   "application/vnd.jupyter.widget-state+json": {
    "0f0ea93ee43b4c819dc0c60ef9caebb3": {
     "model_module": "@jupyter-widgets/base",
     "model_name": "LayoutModel",
     "state": {
      "_model_module": "@jupyter-widgets/base",
      "_model_module_version": "1.2.0",
      "_model_name": "LayoutModel",
      "_view_count": null,
      "_view_module": "@jupyter-widgets/base",
      "_view_module_version": "1.2.0",
      "_view_name": "LayoutView",
      "align_content": null,
      "align_items": null,
      "align_self": null,
      "border": null,
      "bottom": null,
      "display": null,
      "flex": null,
      "flex_flow": null,
      "grid_area": null,
      "grid_auto_columns": null,
      "grid_auto_flow": null,
      "grid_auto_rows": null,
      "grid_column": null,
      "grid_gap": null,
      "grid_row": null,
      "grid_template_areas": null,
      "grid_template_columns": null,
      "grid_template_rows": null,
      "height": null,
      "justify_content": null,
      "justify_items": null,
      "left": null,
      "margin": null,
      "max_height": null,
      "max_width": null,
      "min_height": null,
      "min_width": null,
      "object_fit": null,
      "object_position": null,
      "order": null,
      "overflow": null,
      "overflow_x": null,
      "overflow_y": null,
      "padding": null,
      "right": null,
      "top": null,
      "visibility": null,
      "width": null
     }
    },
    "2c242857029f466585bb4daf83917034": {
     "model_module": "@jupyter-widgets/base",
     "model_name": "LayoutModel",
     "state": {
      "_model_module": "@jupyter-widgets/base",
      "_model_module_version": "1.2.0",
      "_model_name": "LayoutModel",
      "_view_count": null,
      "_view_module": "@jupyter-widgets/base",
      "_view_module_version": "1.2.0",
      "_view_name": "LayoutView",
      "align_content": null,
      "align_items": null,
      "align_self": null,
      "border": null,
      "bottom": null,
      "display": null,
      "flex": null,
      "flex_flow": null,
      "grid_area": null,
      "grid_auto_columns": null,
      "grid_auto_flow": null,
      "grid_auto_rows": null,
      "grid_column": null,
      "grid_gap": null,
      "grid_row": null,
      "grid_template_areas": null,
      "grid_template_columns": null,
      "grid_template_rows": null,
      "height": null,
      "justify_content": null,
      "justify_items": null,
      "left": null,
      "margin": null,
      "max_height": null,
      "max_width": null,
      "min_height": null,
      "min_width": null,
      "object_fit": null,
      "object_position": null,
      "order": null,
      "overflow": null,
      "overflow_x": null,
      "overflow_y": null,
      "padding": null,
      "right": null,
      "top": null,
      "visibility": null,
      "width": null
     }
    },
    "32456af8fc4a4c33a824a4ac0bacc3c7": {
     "model_module": "@jupyter-widgets/controls",
     "model_name": "FloatProgressModel",
     "state": {
      "_dom_classes": [],
      "_model_module": "@jupyter-widgets/controls",
      "_model_module_version": "1.5.0",
      "_model_name": "FloatProgressModel",
      "_view_count": null,
      "_view_module": "@jupyter-widgets/controls",
      "_view_module_version": "1.5.0",
      "_view_name": "ProgressView",
      "bar_style": "info",
      "description": "",
      "description_tooltip": null,
      "layout": "IPY_MODEL_85a8fa41446d40dba9159488f424967d",
      "max": 1,
      "min": 0,
      "orientation": "horizontal",
      "style": "IPY_MODEL_b7ac99866bce4cca90aa0fa6f54b7874",
      "value": 1
     }
    },
    "344845ccc8434f27b31ab1b032676300": {
     "model_module": "@jupyter-widgets/base",
     "model_name": "LayoutModel",
     "state": {
      "_model_module": "@jupyter-widgets/base",
      "_model_module_version": "1.2.0",
      "_model_name": "LayoutModel",
      "_view_count": null,
      "_view_module": "@jupyter-widgets/base",
      "_view_module_version": "1.2.0",
      "_view_name": "LayoutView",
      "align_content": null,
      "align_items": null,
      "align_self": null,
      "border": null,
      "bottom": null,
      "display": null,
      "flex": null,
      "flex_flow": null,
      "grid_area": null,
      "grid_auto_columns": null,
      "grid_auto_flow": null,
      "grid_auto_rows": null,
      "grid_column": null,
      "grid_gap": null,
      "grid_row": null,
      "grid_template_areas": null,
      "grid_template_columns": null,
      "grid_template_rows": null,
      "height": null,
      "justify_content": null,
      "justify_items": null,
      "left": null,
      "margin": null,
      "max_height": null,
      "max_width": null,
      "min_height": null,
      "min_width": null,
      "object_fit": null,
      "object_position": null,
      "order": null,
      "overflow": null,
      "overflow_x": null,
      "overflow_y": null,
      "padding": null,
      "right": null,
      "top": null,
      "visibility": null,
      "width": null
     }
    },
    "35753359238748a98691be403043b430": {
     "model_module": "@jupyter-widgets/controls",
     "model_name": "DescriptionStyleModel",
     "state": {
      "_model_module": "@jupyter-widgets/controls",
      "_model_module_version": "1.5.0",
      "_model_name": "DescriptionStyleModel",
      "_view_count": null,
      "_view_module": "@jupyter-widgets/base",
      "_view_module_version": "1.2.0",
      "_view_name": "StyleView",
      "description_width": ""
     }
    },
    "44abb2bdf30040038187fdb07f27075a": {
     "model_module": "@jupyter-widgets/controls",
     "model_name": "HTMLModel",
     "state": {
      "_dom_classes": [],
      "_model_module": "@jupyter-widgets/controls",
      "_model_module_version": "1.5.0",
      "_model_name": "HTMLModel",
      "_view_count": null,
      "_view_module": "@jupyter-widgets/controls",
      "_view_module_version": "1.5.0",
      "_view_name": "HTMLView",
      "description": "",
      "description_tooltip": null,
      "layout": "IPY_MODEL_2c242857029f466585bb4daf83917034",
      "placeholder": "​",
      "style": "IPY_MODEL_ec21ca3b39704b7184dae960a1bcdeca",
      "value": " 1654784/? [00:01&lt;00:00, 1420855.16it/s]"
     }
    },
    "48bd60aa3db94c57a6dfa8e9617d60a5": {
     "model_module": "@jupyter-widgets/base",
     "model_name": "LayoutModel",
     "state": {
      "_model_module": "@jupyter-widgets/base",
      "_model_module_version": "1.2.0",
      "_model_name": "LayoutModel",
      "_view_count": null,
      "_view_module": "@jupyter-widgets/base",
      "_view_module_version": "1.2.0",
      "_view_name": "LayoutView",
      "align_content": null,
      "align_items": null,
      "align_self": null,
      "border": null,
      "bottom": null,
      "display": null,
      "flex": null,
      "flex_flow": null,
      "grid_area": null,
      "grid_auto_columns": null,
      "grid_auto_flow": null,
      "grid_auto_rows": null,
      "grid_column": null,
      "grid_gap": null,
      "grid_row": null,
      "grid_template_areas": null,
      "grid_template_columns": null,
      "grid_template_rows": null,
      "height": null,
      "justify_content": null,
      "justify_items": null,
      "left": null,
      "margin": null,
      "max_height": null,
      "max_width": null,
      "min_height": null,
      "min_width": null,
      "object_fit": null,
      "object_position": null,
      "order": null,
      "overflow": null,
      "overflow_x": null,
      "overflow_y": null,
      "padding": null,
      "right": null,
      "top": null,
      "visibility": null,
      "width": null
     }
    },
    "4bac56281ef94d8ab404e1f39d7a1ea1": {
     "model_module": "@jupyter-widgets/controls",
     "model_name": "FloatProgressModel",
     "state": {
      "_dom_classes": [],
      "_model_module": "@jupyter-widgets/controls",
      "_model_module_version": "1.5.0",
      "_model_name": "FloatProgressModel",
      "_view_count": null,
      "_view_module": "@jupyter-widgets/controls",
      "_view_module_version": "1.5.0",
      "_view_name": "ProgressView",
      "bar_style": "success",
      "description": "",
      "description_tooltip": null,
      "layout": "IPY_MODEL_f0324e51cce24f3a8997218dd405fed2",
      "max": 1,
      "min": 0,
      "orientation": "horizontal",
      "style": "IPY_MODEL_f0f5538776244374b8a02b7dafba4ff9",
      "value": 1
     }
    },
    "4cea4fa1a2b1423a9d912e42d6be383e": {
     "model_module": "@jupyter-widgets/controls",
     "model_name": "HTMLModel",
     "state": {
      "_dom_classes": [],
      "_model_module": "@jupyter-widgets/controls",
      "_model_module_version": "1.5.0",
      "_model_name": "HTMLModel",
      "_view_count": null,
      "_view_module": "@jupyter-widgets/controls",
      "_view_module_version": "1.5.0",
      "_view_name": "HTMLView",
      "description": "",
      "description_tooltip": null,
      "layout": "IPY_MODEL_344845ccc8434f27b31ab1b032676300",
      "placeholder": "​",
      "style": "IPY_MODEL_c9e477d6ae5c4ebfaae0fe84f3628e22",
      "value": " 8192/? [00:00&lt;00:00, 19209.83it/s]"
     }
    },
    "5dc681a575da46d7b61df444a8897e69": {
     "model_module": "@jupyter-widgets/controls",
     "model_name": "FloatProgressModel",
     "state": {
      "_dom_classes": [],
      "_model_module": "@jupyter-widgets/controls",
      "_model_module_version": "1.5.0",
      "_model_name": "FloatProgressModel",
      "_view_count": null,
      "_view_module": "@jupyter-widgets/controls",
      "_view_module_version": "1.5.0",
      "_view_name": "ProgressView",
      "bar_style": "success",
      "description": "",
      "description_tooltip": null,
      "layout": "IPY_MODEL_94f600029f164202984ab80818dfc4bf",
      "max": 1,
      "min": 0,
      "orientation": "horizontal",
      "style": "IPY_MODEL_5e03bcf795d8401e9ff93f9c4aa0b55d",
      "value": 1
     }
    },
    "5e03bcf795d8401e9ff93f9c4aa0b55d": {
     "model_module": "@jupyter-widgets/controls",
     "model_name": "ProgressStyleModel",
     "state": {
      "_model_module": "@jupyter-widgets/controls",
      "_model_module_version": "1.5.0",
      "_model_name": "ProgressStyleModel",
      "_view_count": null,
      "_view_module": "@jupyter-widgets/base",
      "_view_module_version": "1.2.0",
      "_view_name": "StyleView",
      "bar_color": null,
      "description_width": "initial"
     }
    },
    "78d0f60f92d74ba0a972ffa13eec15a5": {
     "model_module": "@jupyter-widgets/controls",
     "model_name": "FloatProgressModel",
     "state": {
      "_dom_classes": [],
      "_model_module": "@jupyter-widgets/controls",
      "_model_module_version": "1.5.0",
      "_model_name": "FloatProgressModel",
      "_view_count": null,
      "_view_module": "@jupyter-widgets/controls",
      "_view_module_version": "1.5.0",
      "_view_name": "ProgressView",
      "bar_style": "info",
      "description": "  0%",
      "description_tooltip": null,
      "layout": "IPY_MODEL_0f0ea93ee43b4c819dc0c60ef9caebb3",
      "max": 1,
      "min": 0,
      "orientation": "horizontal",
      "style": "IPY_MODEL_9634940d63a549cb99361de3b25df03c",
      "value": 0
     }
    },
    "85a8fa41446d40dba9159488f424967d": {
     "model_module": "@jupyter-widgets/base",
     "model_name": "LayoutModel",
     "state": {
      "_model_module": "@jupyter-widgets/base",
      "_model_module_version": "1.2.0",
      "_model_name": "LayoutModel",
      "_view_count": null,
      "_view_module": "@jupyter-widgets/base",
      "_view_module_version": "1.2.0",
      "_view_name": "LayoutView",
      "align_content": null,
      "align_items": null,
      "align_self": null,
      "border": null,
      "bottom": null,
      "display": null,
      "flex": null,
      "flex_flow": null,
      "grid_area": null,
      "grid_auto_columns": null,
      "grid_auto_flow": null,
      "grid_auto_rows": null,
      "grid_column": null,
      "grid_gap": null,
      "grid_row": null,
      "grid_template_areas": null,
      "grid_template_columns": null,
      "grid_template_rows": null,
      "height": null,
      "justify_content": null,
      "justify_items": null,
      "left": null,
      "margin": null,
      "max_height": null,
      "max_width": null,
      "min_height": null,
      "min_width": null,
      "object_fit": null,
      "object_position": null,
      "order": null,
      "overflow": null,
      "overflow_x": null,
      "overflow_y": null,
      "padding": null,
      "right": null,
      "top": null,
      "visibility": null,
      "width": null
     }
    },
    "8f7d52c0a0fa4e08b07fe1a947229071": {
     "model_module": "@jupyter-widgets/controls",
     "model_name": "HTMLModel",
     "state": {
      "_dom_classes": [],
      "_model_module": "@jupyter-widgets/controls",
      "_model_module_version": "1.5.0",
      "_model_name": "HTMLModel",
      "_view_count": null,
      "_view_module": "@jupyter-widgets/controls",
      "_view_module_version": "1.5.0",
      "_view_name": "HTMLView",
      "description": "",
      "description_tooltip": null,
      "layout": "IPY_MODEL_48bd60aa3db94c57a6dfa8e9617d60a5",
      "placeholder": "​",
      "style": "IPY_MODEL_35753359238748a98691be403043b430",
      "value": " 9920512/? [00:20&lt;00:00, 1442137.47it/s]"
     }
    },
    "94f600029f164202984ab80818dfc4bf": {
     "model_module": "@jupyter-widgets/base",
     "model_name": "LayoutModel",
     "state": {
      "_model_module": "@jupyter-widgets/base",
      "_model_module_version": "1.2.0",
      "_model_name": "LayoutModel",
      "_view_count": null,
      "_view_module": "@jupyter-widgets/base",
      "_view_module_version": "1.2.0",
      "_view_name": "LayoutView",
      "align_content": null,
      "align_items": null,
      "align_self": null,
      "border": null,
      "bottom": null,
      "display": null,
      "flex": null,
      "flex_flow": null,
      "grid_area": null,
      "grid_auto_columns": null,
      "grid_auto_flow": null,
      "grid_auto_rows": null,
      "grid_column": null,
      "grid_gap": null,
      "grid_row": null,
      "grid_template_areas": null,
      "grid_template_columns": null,
      "grid_template_rows": null,
      "height": null,
      "justify_content": null,
      "justify_items": null,
      "left": null,
      "margin": null,
      "max_height": null,
      "max_width": null,
      "min_height": null,
      "min_width": null,
      "object_fit": null,
      "object_position": null,
      "order": null,
      "overflow": null,
      "overflow_x": null,
      "overflow_y": null,
      "padding": null,
      "right": null,
      "top": null,
      "visibility": null,
      "width": null
     }
    },
    "9634940d63a549cb99361de3b25df03c": {
     "model_module": "@jupyter-widgets/controls",
     "model_name": "ProgressStyleModel",
     "state": {
      "_model_module": "@jupyter-widgets/controls",
      "_model_module_version": "1.5.0",
      "_model_name": "ProgressStyleModel",
      "_view_count": null,
      "_view_module": "@jupyter-widgets/base",
      "_view_module_version": "1.2.0",
      "_view_name": "StyleView",
      "bar_color": null,
      "description_width": "initial"
     }
    },
    "976e8183bc92492a9ecc3f3c9e14786c": {
     "model_module": "@jupyter-widgets/base",
     "model_name": "LayoutModel",
     "state": {
      "_model_module": "@jupyter-widgets/base",
      "_model_module_version": "1.2.0",
      "_model_name": "LayoutModel",
      "_view_count": null,
      "_view_module": "@jupyter-widgets/base",
      "_view_module_version": "1.2.0",
      "_view_name": "LayoutView",
      "align_content": null,
      "align_items": null,
      "align_self": null,
      "border": null,
      "bottom": null,
      "display": null,
      "flex": null,
      "flex_flow": null,
      "grid_area": null,
      "grid_auto_columns": null,
      "grid_auto_flow": null,
      "grid_auto_rows": null,
      "grid_column": null,
      "grid_gap": null,
      "grid_row": null,
      "grid_template_areas": null,
      "grid_template_columns": null,
      "grid_template_rows": null,
      "height": null,
      "justify_content": null,
      "justify_items": null,
      "left": null,
      "margin": null,
      "max_height": null,
      "max_width": null,
      "min_height": null,
      "min_width": null,
      "object_fit": null,
      "object_position": null,
      "order": null,
      "overflow": null,
      "overflow_x": null,
      "overflow_y": null,
      "padding": null,
      "right": null,
      "top": null,
      "visibility": null,
      "width": null
     }
    },
    "b03c952d4a8448d584d68bf2c3aa4c8d": {
     "model_module": "@jupyter-widgets/base",
     "model_name": "LayoutModel",
     "state": {
      "_model_module": "@jupyter-widgets/base",
      "_model_module_version": "1.2.0",
      "_model_name": "LayoutModel",
      "_view_count": null,
      "_view_module": "@jupyter-widgets/base",
      "_view_module_version": "1.2.0",
      "_view_name": "LayoutView",
      "align_content": null,
      "align_items": null,
      "align_self": null,
      "border": null,
      "bottom": null,
      "display": null,
      "flex": null,
      "flex_flow": null,
      "grid_area": null,
      "grid_auto_columns": null,
      "grid_auto_flow": null,
      "grid_auto_rows": null,
      "grid_column": null,
      "grid_gap": null,
      "grid_row": null,
      "grid_template_areas": null,
      "grid_template_columns": null,
      "grid_template_rows": null,
      "height": null,
      "justify_content": null,
      "justify_items": null,
      "left": null,
      "margin": null,
      "max_height": null,
      "max_width": null,
      "min_height": null,
      "min_width": null,
      "object_fit": null,
      "object_position": null,
      "order": null,
      "overflow": null,
      "overflow_x": null,
      "overflow_y": null,
      "padding": null,
      "right": null,
      "top": null,
      "visibility": null,
      "width": null
     }
    },
    "b05330fb318d4250a125373195bd193a": {
     "model_module": "@jupyter-widgets/controls",
     "model_name": "DescriptionStyleModel",
     "state": {
      "_model_module": "@jupyter-widgets/controls",
      "_model_module_version": "1.5.0",
      "_model_name": "DescriptionStyleModel",
      "_view_count": null,
      "_view_module": "@jupyter-widgets/base",
      "_view_module_version": "1.2.0",
      "_view_name": "StyleView",
      "description_width": ""
     }
    },
    "b5957e6c47784031880bd7e8dbda91f9": {
     "model_module": "@jupyter-widgets/controls",
     "model_name": "HBoxModel",
     "state": {
      "_dom_classes": [],
      "_model_module": "@jupyter-widgets/controls",
      "_model_module_version": "1.5.0",
      "_model_name": "HBoxModel",
      "_view_count": null,
      "_view_module": "@jupyter-widgets/controls",
      "_view_module_version": "1.5.0",
      "_view_name": "HBoxView",
      "box_style": "",
      "children": [
       "IPY_MODEL_32456af8fc4a4c33a824a4ac0bacc3c7",
       "IPY_MODEL_8f7d52c0a0fa4e08b07fe1a947229071"
      ],
      "layout": "IPY_MODEL_ea1400a678034c81b5f7a93b447049be"
     }
    },
    "b7ac99866bce4cca90aa0fa6f54b7874": {
     "model_module": "@jupyter-widgets/controls",
     "model_name": "ProgressStyleModel",
     "state": {
      "_model_module": "@jupyter-widgets/controls",
      "_model_module_version": "1.5.0",
      "_model_name": "ProgressStyleModel",
      "_view_count": null,
      "_view_module": "@jupyter-widgets/base",
      "_view_module_version": "1.2.0",
      "_view_name": "StyleView",
      "bar_color": null,
      "description_width": "initial"
     }
    },
    "be615ca18f0c4b7cae238202453cd91a": {
     "model_module": "@jupyter-widgets/base",
     "model_name": "LayoutModel",
     "state": {
      "_model_module": "@jupyter-widgets/base",
      "_model_module_version": "1.2.0",
      "_model_name": "LayoutModel",
      "_view_count": null,
      "_view_module": "@jupyter-widgets/base",
      "_view_module_version": "1.2.0",
      "_view_name": "LayoutView",
      "align_content": null,
      "align_items": null,
      "align_self": null,
      "border": null,
      "bottom": null,
      "display": null,
      "flex": null,
      "flex_flow": null,
      "grid_area": null,
      "grid_auto_columns": null,
      "grid_auto_flow": null,
      "grid_auto_rows": null,
      "grid_column": null,
      "grid_gap": null,
      "grid_row": null,
      "grid_template_areas": null,
      "grid_template_columns": null,
      "grid_template_rows": null,
      "height": null,
      "justify_content": null,
      "justify_items": null,
      "left": null,
      "margin": null,
      "max_height": null,
      "max_width": null,
      "min_height": null,
      "min_width": null,
      "object_fit": null,
      "object_position": null,
      "order": null,
      "overflow": null,
      "overflow_x": null,
      "overflow_y": null,
      "padding": null,
      "right": null,
      "top": null,
      "visibility": null,
      "width": null
     }
    },
    "c0a194adb27941c0836ae152f9d5409d": {
     "model_module": "@jupyter-widgets/controls",
     "model_name": "HTMLModel",
     "state": {
      "_dom_classes": [],
      "_model_module": "@jupyter-widgets/controls",
      "_model_module_version": "1.5.0",
      "_model_name": "HTMLModel",
      "_view_count": null,
      "_view_module": "@jupyter-widgets/controls",
      "_view_module_version": "1.5.0",
      "_view_name": "HTMLView",
      "description": "",
      "description_tooltip": null,
      "layout": "IPY_MODEL_be615ca18f0c4b7cae238202453cd91a",
      "placeholder": "​",
      "style": "IPY_MODEL_b05330fb318d4250a125373195bd193a",
      "value": " 0/28881 [00:00&lt;?, ?it/s]"
     }
    },
    "c9e477d6ae5c4ebfaae0fe84f3628e22": {
     "model_module": "@jupyter-widgets/controls",
     "model_name": "DescriptionStyleModel",
     "state": {
      "_model_module": "@jupyter-widgets/controls",
      "_model_module_version": "1.5.0",
      "_model_name": "DescriptionStyleModel",
      "_view_count": null,
      "_view_module": "@jupyter-widgets/base",
      "_view_module_version": "1.2.0",
      "_view_name": "StyleView",
      "description_width": ""
     }
    },
    "cb6b04c12e3c42b48a09b3091892c224": {
     "model_module": "@jupyter-widgets/controls",
     "model_name": "HBoxModel",
     "state": {
      "_dom_classes": [],
      "_model_module": "@jupyter-widgets/controls",
      "_model_module_version": "1.5.0",
      "_model_name": "HBoxModel",
      "_view_count": null,
      "_view_module": "@jupyter-widgets/controls",
      "_view_module_version": "1.5.0",
      "_view_name": "HBoxView",
      "box_style": "",
      "children": [
       "IPY_MODEL_78d0f60f92d74ba0a972ffa13eec15a5",
       "IPY_MODEL_c0a194adb27941c0836ae152f9d5409d"
      ],
      "layout": "IPY_MODEL_b03c952d4a8448d584d68bf2c3aa4c8d"
     }
    },
    "dfacd4d60c01417691ef3c90dd46bf7b": {
     "model_module": "@jupyter-widgets/controls",
     "model_name": "HBoxModel",
     "state": {
      "_dom_classes": [],
      "_model_module": "@jupyter-widgets/controls",
      "_model_module_version": "1.5.0",
      "_model_name": "HBoxModel",
      "_view_count": null,
      "_view_module": "@jupyter-widgets/controls",
      "_view_module_version": "1.5.0",
      "_view_name": "HBoxView",
      "box_style": "",
      "children": [
       "IPY_MODEL_5dc681a575da46d7b61df444a8897e69",
       "IPY_MODEL_44abb2bdf30040038187fdb07f27075a"
      ],
      "layout": "IPY_MODEL_976e8183bc92492a9ecc3f3c9e14786c"
     }
    },
    "ea1400a678034c81b5f7a93b447049be": {
     "model_module": "@jupyter-widgets/base",
     "model_name": "LayoutModel",
     "state": {
      "_model_module": "@jupyter-widgets/base",
      "_model_module_version": "1.2.0",
      "_model_name": "LayoutModel",
      "_view_count": null,
      "_view_module": "@jupyter-widgets/base",
      "_view_module_version": "1.2.0",
      "_view_name": "LayoutView",
      "align_content": null,
      "align_items": null,
      "align_self": null,
      "border": null,
      "bottom": null,
      "display": null,
      "flex": null,
      "flex_flow": null,
      "grid_area": null,
      "grid_auto_columns": null,
      "grid_auto_flow": null,
      "grid_auto_rows": null,
      "grid_column": null,
      "grid_gap": null,
      "grid_row": null,
      "grid_template_areas": null,
      "grid_template_columns": null,
      "grid_template_rows": null,
      "height": null,
      "justify_content": null,
      "justify_items": null,
      "left": null,
      "margin": null,
      "max_height": null,
      "max_width": null,
      "min_height": null,
      "min_width": null,
      "object_fit": null,
      "object_position": null,
      "order": null,
      "overflow": null,
      "overflow_x": null,
      "overflow_y": null,
      "padding": null,
      "right": null,
      "top": null,
      "visibility": null,
      "width": null
     }
    },
    "ec21ca3b39704b7184dae960a1bcdeca": {
     "model_module": "@jupyter-widgets/controls",
     "model_name": "DescriptionStyleModel",
     "state": {
      "_model_module": "@jupyter-widgets/controls",
      "_model_module_version": "1.5.0",
      "_model_name": "DescriptionStyleModel",
      "_view_count": null,
      "_view_module": "@jupyter-widgets/base",
      "_view_module_version": "1.2.0",
      "_view_name": "StyleView",
      "description_width": ""
     }
    },
    "f0324e51cce24f3a8997218dd405fed2": {
     "model_module": "@jupyter-widgets/base",
     "model_name": "LayoutModel",
     "state": {
      "_model_module": "@jupyter-widgets/base",
      "_model_module_version": "1.2.0",
      "_model_name": "LayoutModel",
      "_view_count": null,
      "_view_module": "@jupyter-widgets/base",
      "_view_module_version": "1.2.0",
      "_view_name": "LayoutView",
      "align_content": null,
      "align_items": null,
      "align_self": null,
      "border": null,
      "bottom": null,
      "display": null,
      "flex": null,
      "flex_flow": null,
      "grid_area": null,
      "grid_auto_columns": null,
      "grid_auto_flow": null,
      "grid_auto_rows": null,
      "grid_column": null,
      "grid_gap": null,
      "grid_row": null,
      "grid_template_areas": null,
      "grid_template_columns": null,
      "grid_template_rows": null,
      "height": null,
      "justify_content": null,
      "justify_items": null,
      "left": null,
      "margin": null,
      "max_height": null,
      "max_width": null,
      "min_height": null,
      "min_width": null,
      "object_fit": null,
      "object_position": null,
      "order": null,
      "overflow": null,
      "overflow_x": null,
      "overflow_y": null,
      "padding": null,
      "right": null,
      "top": null,
      "visibility": null,
      "width": null
     }
    },
    "f0f5538776244374b8a02b7dafba4ff9": {
     "model_module": "@jupyter-widgets/controls",
     "model_name": "ProgressStyleModel",
     "state": {
      "_model_module": "@jupyter-widgets/controls",
      "_model_module_version": "1.5.0",
      "_model_name": "ProgressStyleModel",
      "_view_count": null,
      "_view_module": "@jupyter-widgets/base",
      "_view_module_version": "1.2.0",
      "_view_name": "StyleView",
      "bar_color": null,
      "description_width": "initial"
     }
    },
    "f55aee434422410d97a6548d466619f8": {
     "model_module": "@jupyter-widgets/controls",
     "model_name": "HBoxModel",
     "state": {
      "_dom_classes": [],
      "_model_module": "@jupyter-widgets/controls",
      "_model_module_version": "1.5.0",
      "_model_name": "HBoxModel",
      "_view_count": null,
      "_view_module": "@jupyter-widgets/controls",
      "_view_module_version": "1.5.0",
      "_view_name": "HBoxView",
      "box_style": "",
      "children": [
       "IPY_MODEL_4bac56281ef94d8ab404e1f39d7a1ea1",
       "IPY_MODEL_4cea4fa1a2b1423a9d912e42d6be383e"
      ],
      "layout": "IPY_MODEL_f7df158f9f48456db6882b8d052fc879"
     }
    },
    "f7df158f9f48456db6882b8d052fc879": {
     "model_module": "@jupyter-widgets/base",
     "model_name": "LayoutModel",
     "state": {
      "_model_module": "@jupyter-widgets/base",
      "_model_module_version": "1.2.0",
      "_model_name": "LayoutModel",
      "_view_count": null,
      "_view_module": "@jupyter-widgets/base",
      "_view_module_version": "1.2.0",
      "_view_name": "LayoutView",
      "align_content": null,
      "align_items": null,
      "align_self": null,
      "border": null,
      "bottom": null,
      "display": null,
      "flex": null,
      "flex_flow": null,
      "grid_area": null,
      "grid_auto_columns": null,
      "grid_auto_flow": null,
      "grid_auto_rows": null,
      "grid_column": null,
      "grid_gap": null,
      "grid_row": null,
      "grid_template_areas": null,
      "grid_template_columns": null,
      "grid_template_rows": null,
      "height": null,
      "justify_content": null,
      "justify_items": null,
      "left": null,
      "margin": null,
      "max_height": null,
      "max_width": null,
      "min_height": null,
      "min_width": null,
      "object_fit": null,
      "object_position": null,
      "order": null,
      "overflow": null,
      "overflow_x": null,
      "overflow_y": null,
      "padding": null,
      "right": null,
      "top": null,
      "visibility": null,
      "width": null
     }
    }
   }
  }
 },
 "nbformat": 4,
 "nbformat_minor": 1
}
