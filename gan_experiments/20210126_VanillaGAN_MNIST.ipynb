{
 "cells": [
  {
   "cell_type": "markdown",
   "metadata": {},
   "source": [
    "# VANILLA GAN - MNIST"
   ]
  },
  {
   "cell_type": "markdown",
   "metadata": {},
   "source": [
    "## IMPORTS"
   ]
  },
  {
   "cell_type": "code",
   "execution_count": 1,
   "metadata": {},
   "outputs": [],
   "source": [
    "import torch\n",
    "import torchvision\n",
    "\n",
    "import numpy as np\n",
    "import matplotlib.pyplot as plt\n",
    "\n",
    "import os\n",
    "import time"
   ]
  },
  {
   "cell_type": "code",
   "execution_count": 2,
   "metadata": {},
   "outputs": [
    {
     "data": {
      "text/plain": [
       "'cuda'"
      ]
     },
     "execution_count": 2,
     "metadata": {},
     "output_type": "execute_result"
    }
   ],
   "source": [
    "device = ('cuda' if torch.cuda.is_available() else 'cpu')\n",
    "device"
   ]
  },
  {
   "cell_type": "markdown",
   "metadata": {},
   "source": [
    "## HYPERPARAMETERS"
   ]
  },
  {
   "cell_type": "code",
   "execution_count": 3,
   "metadata": {},
   "outputs": [],
   "source": [
    "dataroot = '../storage/data/mnist_png/'\n",
    "saveroot = '../storage/GAN_Images/'\n",
    "test_number = 'Test_1'\n",
    "\n",
    "batch_size = 32\n",
    "workers = 4\n",
    "transforms = torchvision.transforms.Compose([\n",
    "    torchvision.transforms.Grayscale(1),\n",
    "    torchvision.transforms.ToTensor()\n",
    "])\n",
    "\n",
    "nz = 100\n",
    "\n",
    "lr = 0.0002\n",
    "betas = (0.1, 0.999)\n",
    "\n",
    "num_epochs = 10\n",
    "num_steps = 1000\n",
    "k = 1"
   ]
  },
  {
   "cell_type": "markdown",
   "metadata": {},
   "source": [
    "## DATASET"
   ]
  },
  {
   "cell_type": "code",
   "execution_count": 4,
   "metadata": {},
   "outputs": [],
   "source": [
    "ds = torchvision.datasets.ImageFolder(dataroot+'training', transforms)"
   ]
  },
  {
   "cell_type": "code",
   "execution_count": 5,
   "metadata": {},
   "outputs": [
    {
     "data": {
      "text/plain": [
       "60000"
      ]
     },
     "execution_count": 5,
     "metadata": {},
     "output_type": "execute_result"
    }
   ],
   "source": [
    "len(ds)"
   ]
  },
  {
   "cell_type": "code",
   "execution_count": 6,
   "metadata": {},
   "outputs": [],
   "source": [
    "dl = torch.utils.data.DataLoader(ds, batch_size, shuffle=True, num_workers=workers, pin_memory=True)"
   ]
  },
  {
   "cell_type": "markdown",
   "metadata": {},
   "source": [
    "## DATA ANALYSIS"
   ]
  },
  {
   "cell_type": "code",
   "execution_count": 7,
   "metadata": {},
   "outputs": [
    {
     "name": "stdout",
     "output_type": "stream",
     "text": [
      "torch.Size([32, 1, 28, 28]) torch.Size([32])\n"
     ]
    }
   ],
   "source": [
    "for data in (dl):\n",
    "    print(data[0].shape, data[1].shape)\n",
    "    break"
   ]
  },
  {
   "cell_type": "markdown",
   "metadata": {},
   "source": [
    "## MODEL"
   ]
  },
  {
   "cell_type": "code",
   "execution_count": 8,
   "metadata": {},
   "outputs": [],
   "source": [
    "class Generator(torch.nn.Module):\n",
    "    def __init__(self):\n",
    "        super(Generator, self).__init__()\n",
    "        \n",
    "        self.fc1 = torch.nn.Sequential(\n",
    "            torch.nn.Linear(nz, 256),\n",
    "            torch.nn.LeakyReLU(0.2)\n",
    "        )\n",
    "        self.fc2 = torch.nn.Sequential(\n",
    "            torch.nn.Linear(256, 512),\n",
    "            torch.nn.LeakyReLU(0.2)\n",
    "        )\n",
    "        self.fc3 = torch.nn.Sequential(\n",
    "            torch.nn.Linear(512, 1024),\n",
    "            torch.nn.LeakyReLU(0.2)\n",
    "        )\n",
    "        self.fc4 = torch.nn.Sequential(\n",
    "            torch.nn.Linear(1024, 784),\n",
    "            torch.nn.Tanh()\n",
    "        )\n",
    "        \n",
    "    def forward(self, x):\n",
    "        # x.shape = batch_size x nz\n",
    "        x = x.view(x.size(0), -1)\n",
    "        x = self.fc1(x)\n",
    "        x = self.fc2(x)\n",
    "        x = self.fc3(x)\n",
    "        x = self.fc4(x)\n",
    "        return x"
   ]
  },
  {
   "cell_type": "code",
   "execution_count": 9,
   "metadata": {},
   "outputs": [],
   "source": [
    "class Discriminator(torch.nn.Module):\n",
    "    def __init__(self):\n",
    "        super(Discriminator, self).__init__()\n",
    "        \n",
    "        self.fc1 = torch.nn.Sequential(\n",
    "            torch.nn.Linear(784 , 1024),\n",
    "            torch.nn.LeakyReLU(0.2),\n",
    "            torch.nn.Dropout(0.3)\n",
    "        )\n",
    "        self.fc2 = torch.nn.Sequential(\n",
    "            torch.nn.Linear(1024 , 512),\n",
    "            torch.nn.LeakyReLU(0.2),\n",
    "            torch.nn.Dropout(0.3)\n",
    "        )\n",
    "        self.fc3 = torch.nn.Sequential(\n",
    "            torch.nn.Linear(512 , 256),\n",
    "            torch.nn.LeakyReLU(0.2),\n",
    "            torch.nn.Dropout(0.3)\n",
    "        )\n",
    "        self.fc4 = torch.nn.Sequential(\n",
    "            torch.nn.Linear(256 , 1),\n",
    "            torch.nn.Sigmoid()\n",
    "        )\n",
    "        \n",
    "    def forward(self, x):\n",
    "        # (batch_size, 784) or (batch_size, 1, 28, 28)\n",
    "        x = x.view(x.size(0), -1)\n",
    "        x = self.fc1(x)\n",
    "        x = self.fc2(x)\n",
    "        x = self.fc3(x)\n",
    "        x = self.fc4(x)\n",
    "        return x"
   ]
  },
  {
   "cell_type": "code",
   "execution_count": 10,
   "metadata": {},
   "outputs": [],
   "source": [
    "discriminator = Discriminator().to(device)\n",
    "generator = Generator().to(device)"
   ]
  },
  {
   "cell_type": "code",
   "execution_count": 11,
   "metadata": {},
   "outputs": [
    {
     "name": "stdout",
     "output_type": "stream",
     "text": [
      "torch.Size([1024, 784])\n",
      "torch.Size([1024])\n",
      "torch.Size([512, 1024])\n",
      "torch.Size([512])\n",
      "torch.Size([256, 512])\n",
      "torch.Size([256])\n",
      "torch.Size([1, 256])\n",
      "torch.Size([1])\n"
     ]
    }
   ],
   "source": [
    "for params in discriminator.parameters():\n",
    "    print(params.shape)"
   ]
  },
  {
   "cell_type": "markdown",
   "metadata": {},
   "source": [
    "## LOSS AND OPTIMIZATION"
   ]
  },
  {
   "cell_type": "code",
   "execution_count": 12,
   "metadata": {},
   "outputs": [],
   "source": [
    "opt_d = torch.optim.Adam(discriminator.parameters(), lr, betas)\n",
    "opt_g = torch.optim.Adam(generator.parameters(), lr, betas)\n",
    "criterion = torch.nn.BCELoss()"
   ]
  },
  {
   "cell_type": "code",
   "execution_count": 13,
   "metadata": {},
   "outputs": [],
   "source": [
    "real_labels = torch.ones((batch_size, 1)).to(device)\n",
    "fake_labels = torch.zeros((batch_size, 1)).to(device)\n",
    "fixed_noise = torch.randn(batch_size, nz).to(device)"
   ]
  },
  {
   "cell_type": "markdown",
   "metadata": {},
   "source": [
    "## PRE-TRAIN RUN"
   ]
  },
  {
   "cell_type": "code",
   "execution_count": 14,
   "metadata": {},
   "outputs": [
    {
     "name": "stdout",
     "output_type": "stream",
     "text": [
      "torch.Size([32, 1, 28, 28])\n",
      "torch.Size([32, 1])\n",
      "tensor(0.7078, device='cuda:0')\n",
      "torch.Size([32, 784])\n",
      "torch.Size([32, 1])\n",
      "tensor(0.7029, device='cuda:0')\n"
     ]
    }
   ],
   "source": [
    "with torch.no_grad():\n",
    "    #REAL BATCH\n",
    "    for xb, _ in dl:\n",
    "        sample = xb.to(device)\n",
    "        break\n",
    "    print(sample.shape)\n",
    "    out = discriminator(sample)\n",
    "    print(out.shape)\n",
    "    loss = criterion(out, real_labels)\n",
    "    print(loss)\n",
    "    #FAKE BATCH\n",
    "    sample = generator(fixed_noise)\n",
    "    print(sample.shape)\n",
    "    out = discriminator(sample)\n",
    "    print(out.shape)\n",
    "    loss = criterion(out, real_labels)\n",
    "    print(loss)"
   ]
  },
  {
   "cell_type": "markdown",
   "metadata": {},
   "source": [
    "## TRAIN"
   ]
  },
  {
   "cell_type": "code",
   "execution_count": 15,
   "metadata": {},
   "outputs": [],
   "source": [
    "def train_discriminator(images):\n",
    "    opt_d.zero_grad()\n",
    "    \n",
    "    real_images = images.to(device)\n",
    "    fake_images = generator(torch.randn(batch_size, nz).to(device))\n",
    "    \n",
    "    real_out = discriminator(real_images)\n",
    "    fake_out = discriminator(fake_images)\n",
    "    \n",
    "    real_loss = criterion(real_out, real_labels)\n",
    "    fake_loss = criterion(fake_out, fake_labels)\n",
    "    \n",
    "    real_loss.backward()\n",
    "    fake_loss.backward()\n",
    "    opt_d.step()\n",
    "    \n",
    "    return real_loss + fake_loss"
   ]
  },
  {
   "cell_type": "code",
   "execution_count": 16,
   "metadata": {},
   "outputs": [],
   "source": [
    "def train_generator():\n",
    "    opt_g.zero_grad()\n",
    "\n",
    "    out = discriminator(generator(torch.randn(batch_size, nz).to(device)))\n",
    "    \n",
    "    loss = criterion(out, real_labels)\n",
    "    \n",
    "    loss.backward()\n",
    "    opt_g.step()\n",
    "    \n",
    "    return loss"
   ]
  },
  {
   "cell_type": "code",
   "execution_count": null,
   "metadata": {},
   "outputs": [
    {
     "name": "stdout",
     "output_type": "stream",
     "text": [
      "1/10 | loss_d: 2.38316011 | loss_g: 2.38316011 | Time: 16 sec\n",
      "2/10 | loss_d: 2.33142662 | loss_g: 2.33142662 | Time: 28 sec\n",
      "3/10 | loss_d: 1.95939195 | loss_g: 1.95939195 | Time: 38 sec\n",
      "4/10 | loss_d: 1.59533298 | loss_g: 1.59533298 | Time: 47 sec\n",
      "5/10 | loss_d: 1.70839918 | loss_g: 1.70839918 | Time: 57 sec\n",
      "6/10 | loss_d: 1.89603281 | loss_g: 1.89603281 | Time: 67 sec\n",
      "7/10 | loss_d: 2.02509904 | loss_g: 2.02509904 | Time: 77 sec\n",
      "8/10 | loss_d: 2.14785838 | loss_g: 2.14785838 | Time: 86 sec\n",
      "9/10 | loss_d: 2.27471638 | loss_g: 2.27471638 | Time: 95 sec\n"
     ]
    }
   ],
   "source": [
    "start_time = time.time()\n",
    "loss_D = []\n",
    "loss_G = []\n",
    "\n",
    "for epoch in range(num_epochs):\n",
    "    epoch += 1\n",
    "    loss_d = 0.0\n",
    "    loss_g = 0.0\n",
    "    \n",
    "    for i,(images,_) in enumerate(dl):\n",
    "        if i == num_steps:\n",
    "            break\n",
    "            \n",
    "        for _ in range(k):\n",
    "            loss_d += train_discriminator(images)\n",
    "        loss_g += train_generator()\n",
    "    \n",
    "    loss_D.append(loss_d / i)\n",
    "    loss_G.append(loss_g / i)\n",
    "    \n",
    "    print(f'{epoch}/{num_epochs} | loss_d: {loss_d/i:.8f} | loss_g: {loss_g/i:.8f} | Time: {time.time() - start_time:.0f} sec')\n",
    "    if epoch%10==0:\n",
    "        sample = generator(fixed_noise).detach()\n",
    "        grid = torchvision.utils.make_grid(sample.view(-1, 1, 28, 28), nrow=8, pad_value=1, normalize=False)   \n",
    "        torchvision.utils.save_image(grid.detach().cpu(), os.path.join(saveroot, '20210126_MNIST_VANILLA_GAN_{}_{}.jpg'.format(str(test_number), str(epoch).zfill(3))))"
   ]
  },
  {
   "cell_type": "markdown",
   "metadata": {},
   "source": [
    "## TEST"
   ]
  },
  {
   "cell_type": "markdown",
   "metadata": {},
   "source": [
    "## EVALUATE"
   ]
  },
  {
   "cell_type": "code",
   "execution_count": null,
   "metadata": {},
   "outputs": [],
   "source": [
    "plt.figure()\n",
    "\n",
    "plt.plot(loss_D, label='LOSS D')\n",
    "plt.plot(loss_G, label='LOSS G')\n",
    "plt.legend()\n",
    "plt.savefig('./MNIST_VANILLA_GAN_{}'.format(test_number))\n",
    "plt.show()"
   ]
  },
  {
   "cell_type": "markdown",
   "metadata": {},
   "source": [
    "## SAVE/ LOAD"
   ]
  },
  {
   "cell_type": "code",
   "execution_count": null,
   "metadata": {},
   "outputs": [],
   "source": [
    "torch.save(generator.state_dict(), './20210126_MNIST_VANILLA_GAN_G.pt')\n",
    "torch.save(discriminator.state_dict(), './20210126_MNIST_VANILLA_GAN_D.pt')"
   ]
  }
 ],
 "metadata": {
  "kernelspec": {
   "display_name": "Python 3",
   "language": "python",
   "name": "python3"
  },
  "language_info": {
   "codemirror_mode": {
    "name": "ipython",
    "version": 3
   },
   "file_extension": ".py",
   "mimetype": "text/x-python",
   "name": "python",
   "nbconvert_exporter": "python",
   "pygments_lexer": "ipython3",
   "version": "3.6.8"
  }
 },
 "nbformat": 4,
 "nbformat_minor": 4
}
