{
 "cells": [
  {
   "cell_type": "markdown",
   "id": "certain-liechtenstein",
   "metadata": {},
   "source": [
    "## IMPORTS"
   ]
  },
  {
   "cell_type": "code",
   "execution_count": 1,
   "id": "elementary-manual",
   "metadata": {},
   "outputs": [],
   "source": [
    "import torch\n",
    "import torchvision\n",
    "\n",
    "import numpy as np\n",
    "import matplotlib.pyplot as plt\n",
    "\n",
    "import os"
   ]
  },
  {
   "cell_type": "markdown",
   "id": "inclusive-jersey",
   "metadata": {},
   "source": [
    "## HYPERPARAMETERS"
   ]
  },
  {
   "cell_type": "code",
   "execution_count": 2,
   "id": "retained-utilization",
   "metadata": {},
   "outputs": [
    {
     "name": "stdout",
     "output_type": "stream",
     "text": [
      "cuda | Quadro P5000\n"
     ]
    }
   ],
   "source": [
    "device = 'cuda' if torch.cuda.is_available() else 'cpu'\n",
    "print(device, \"|\", torch.cuda.get_device_name())"
   ]
  },
  {
   "cell_type": "code",
   "execution_count": 3,
   "id": "plastic-damages",
   "metadata": {},
   "outputs": [],
   "source": [
    "# DATA LOADING\n",
    "batch_size = 64\n",
    "num_workers = 4\n",
    "pin_memory = True\n",
    "# DATA TRANSFORMS\n",
    "transform = torchvision.transforms.Compose([\n",
    "    torchvision.transforms.Grayscale(num_output_channels=1),\n",
    "    torchvision.transforms.ToTensor()\n",
    "])\n",
    "# LOSS FUNCTIONS\n",
    "criterion = torch.nn.CrossEntropyLoss()\n",
    "# SGD OPTIMIZER\n",
    "lr = 1e-3\n",
    "momentum = 1e-3\n",
    "betas = (0.5,0.5)\n",
    "# TRAINING LOOP\n",
    "epochs = 25"
   ]
  },
  {
   "cell_type": "markdown",
   "id": "blond-weight",
   "metadata": {},
   "source": [
    "## DATA"
   ]
  },
  {
   "cell_type": "code",
   "execution_count": 4,
   "id": "partial-filter",
   "metadata": {},
   "outputs": [],
   "source": [
    "dataroot = '/datasets/fastai/mnist_png/'\n",
    "train_dataroot = os.path.join(dataroot, 'training')\n",
    "test_dataroot = os.path.join(dataroot, 'testing')"
   ]
  },
  {
   "cell_type": "code",
   "execution_count": 5,
   "id": "electrical-canon",
   "metadata": {},
   "outputs": [],
   "source": [
    "train_ds = torchvision.datasets.ImageFolder(train_dataroot, transform)\n",
    "test_ds = torchvision.datasets.ImageFolder(test_dataroot, transform)"
   ]
  },
  {
   "cell_type": "code",
   "execution_count": 6,
   "id": "accessible-guard",
   "metadata": {},
   "outputs": [
    {
     "data": {
      "text/plain": [
       "(60000, 10000)"
      ]
     },
     "execution_count": 6,
     "metadata": {},
     "output_type": "execute_result"
    }
   ],
   "source": [
    "len(train_ds), len(test_ds)"
   ]
  },
  {
   "cell_type": "code",
   "execution_count": 7,
   "id": "conservative-asbestos",
   "metadata": {},
   "outputs": [],
   "source": [
    "train_dl = torch.utils.data.DataLoader(train_ds, batch_size, shuffle=True, num_workers=num_workers, pin_memory=pin_memory)\n",
    "test_dl = torch.utils.data.DataLoader(test_ds, batch_size, shuffle=True, num_workers=num_workers, pin_memory=pin_memory)"
   ]
  },
  {
   "cell_type": "markdown",
   "id": "returning-rating",
   "metadata": {},
   "source": [
    "## VISUALIZE DATA"
   ]
  },
  {
   "cell_type": "code",
   "execution_count": 8,
   "id": "hired-reggae",
   "metadata": {},
   "outputs": [
    {
     "name": "stdout",
     "output_type": "stream",
     "text": [
      "Label: 0\n"
     ]
    },
    {
     "data": {
      "image/png": "[encoded data removed]",
      "text/plain": [
       "<Figure size 432x288 with 1 Axes>"
      ]
     },
     "metadata": {
      "needs_background": "light"
     },
     "output_type": "display_data"
    }
   ],
   "source": [
    "_, (sample_batch, sample_labels) = next(enumerate(test_dl))\n",
    "sample_img = sample_batch[0][0]\n",
    "plt.imshow(sample_img, cmap='gray')\n",
    "print(\"Label: \"+str(sample_labels[0].item()))"
   ]
  },
  {
   "cell_type": "markdown",
   "id": "continuous-tribute",
   "metadata": {},
   "source": [
    "## MODELS"
   ]
  },
  {
   "cell_type": "code",
   "execution_count": 9,
   "id": "ready-canon",
   "metadata": {},
   "outputs": [],
   "source": [
    "class LinearClassifier_2(torch.nn.Module):\n",
    "    def __init__(self):\n",
    "        super(LinearClassifier_2, self).__init__()\n",
    "        self.linear = torch.nn.Sequential(\n",
    "            torch.nn.Linear(28*28, 512),\n",
    "            torch.nn.ReLU(),\n",
    "            torch.nn.Linear(512, 10),\n",
    "            torch.nn.Sigmoid()\n",
    "        )\n",
    "        \n",
    "    def forward(self, x):\n",
    "        x = x.reshape(x.shape[0], -1)\n",
    "        out = self.linear(x)\n",
    "        return out"
   ]
  },
  {
   "cell_type": "code",
   "execution_count": 10,
   "id": "initial-apparatus",
   "metadata": {},
   "outputs": [],
   "source": [
    "class LinearClassifier_3(torch.nn.Module):\n",
    "    def __init__(self):\n",
    "        super(LinearClassifier_3, self).__init__()\n",
    "        self.linear = torch.nn.Sequential(\n",
    "            torch.nn.Linear(28*28, 512),\n",
    "            torch.nn.ReLU(),\n",
    "            torch.nn.Linear(512, 512),\n",
    "            torch.nn.ReLU(),\n",
    "            torch.nn.Linear(512, 10),\n",
    "            torch.nn.Sigmoid()\n",
    "        )\n",
    "        \n",
    "    def forward(self, x):\n",
    "        x = x.reshape(x.shape[0], -1)\n",
    "        out = self.linear(x)\n",
    "        return out"
   ]
  },
  {
   "cell_type": "code",
   "execution_count": 11,
   "id": "homeless-excuse",
   "metadata": {},
   "outputs": [],
   "source": [
    "class CNN(torch.nn.Module):\n",
    "    def __init__(self):\n",
    "        super(CNN, self).__init__()\n",
    "        self.CNN = torch.nn.Sequential(\n",
    "            torch.nn.Conv2d(1, 32, 3, 1),\n",
    "            torch.nn.ReLU(),\n",
    "            torch.nn.Conv2d(32, 64, 3, 1),\n",
    "            torch.nn.ReLU(),\n",
    "            torch.nn.MaxPool2d(2),\n",
    "            torch.nn.Dropout(0.25)\n",
    "        )\n",
    "        self.linear = torch.nn.Sequential(\n",
    "            torch.nn.Linear(9216, 128),\n",
    "            torch.nn.ReLU(),\n",
    "            torch.nn.Dropout(0.5),\n",
    "            torch.nn.Linear(128, 10)\n",
    "        )\n",
    "        \n",
    "    def forward(self, x):\n",
    "        out = self.CNN(x)\n",
    "        out = out.reshape(out.shape[0],-1)\n",
    "        out = self.linear(out)\n",
    "        out = torch.nn.functional.log_softmax(out, dim=1)\n",
    "        return out"
   ]
  },
  {
   "cell_type": "code",
   "execution_count": 12,
   "id": "lasting-jewelry",
   "metadata": {},
   "outputs": [],
   "source": [
    "from torchvision.models.resnet import ResNet, BasicBlock, Bottleneck\n",
    "\n",
    "class MNISTResNet(ResNet):\n",
    "    def __init__(self):\n",
    "        super(MNISTResNet, self).__init__(BasicBlock, [2, 2, 2, 2], num_classes=10)\n",
    "        self.conv1 = torch.nn.Conv2d(1, 64, kernel_size=7, stride=1, padding=3,bias=False)\n",
    "\n",
    "model = MNISTResNet()"
   ]
  },
  {
   "cell_type": "code",
   "execution_count": 13,
   "id": "sorted-donna",
   "metadata": {},
   "outputs": [],
   "source": [
    "model_linear_2 = LinearClassifier_2().to(device)\n",
    "model_linear_3 = LinearClassifier_3().to(device)\n",
    "model_CNN = CNN().to(device)\n",
    "model_ResNet = MNISTResNet().to(device)"
   ]
  },
  {
   "cell_type": "code",
   "execution_count": 14,
   "id": "thousand-momentum",
   "metadata": {},
   "outputs": [],
   "source": [
    "out = model_ResNet(sample_batch.to(device))"
   ]
  },
  {
   "cell_type": "markdown",
   "id": "facial-protein",
   "metadata": {},
   "source": [
    "## OPTIMIZER"
   ]
  },
  {
   "cell_type": "code",
   "execution_count": 15,
   "id": "received-validation",
   "metadata": {},
   "outputs": [],
   "source": [
    "models = [model_linear_2, model_linear_3, model_CNN, model_ResNet]"
   ]
  },
  {
   "cell_type": "markdown",
   "id": "secondary-grammar",
   "metadata": {},
   "source": [
    "## TRAIN"
   ]
  },
  {
   "cell_type": "code",
   "execution_count": 16,
   "id": "martial-fantasy",
   "metadata": {},
   "outputs": [
    {
     "data": {
      "text/plain": [
       "60000"
      ]
     },
     "execution_count": 16,
     "metadata": {},
     "output_type": "execute_result"
    }
   ],
   "source": [
    "len(train_dl.dataset)"
   ]
  },
  {
   "cell_type": "code",
   "execution_count": 17,
   "id": "gorgeous-soundtrack",
   "metadata": {},
   "outputs": [],
   "source": [
    "def train(dataloader, model, criterion, optimizer, epoch):\n",
    "    print(f\"\\nEpoch {epoch+1}\")\n",
    "    model.train()\n",
    "    \n",
    "    running_loss = 0.0\n",
    "    correct = 0\n",
    "    total = 0\n",
    "    \n",
    "    for batch_idx, (X, y) in enumerate(dataloader):\n",
    "    \n",
    "        X = X.to(device)\n",
    "        y = y.to(device)\n",
    "    \n",
    "        optimizer.zero_grad()\n",
    "        out = model(X)\n",
    "        loss = criterion(out, y)\n",
    "        loss.backward()\n",
    "        optimizer.step()\n",
    "        \n",
    "        running_loss += loss.item()\n",
    "        _, predicted = out.max(1)\n",
    "        total += y.size(0)\n",
    "        correct += predicted.eq(y).sum().item()\n",
    "                \n",
    "    train_loss = round((running_loss/len(train_dl.dataset)), 4)\n",
    "    acc = round((100. * correct/total), 2)\n",
    "        \n",
    "    print(f\"Train Loss: {train_loss} | Accuracy: {acc}\")\n",
    "    \n",
    "    return train_loss, acc"
   ]
  },
  {
   "cell_type": "code",
   "execution_count": 18,
   "id": "prescribed-foundation",
   "metadata": {
    "collapsed": true,
    "jupyter": {
     "outputs_hidden": true
    }
   },
   "outputs": [
    {
     "name": "stdout",
     "output_type": "stream",
     "text": [
      "\n",
      "Epoch 1\n",
      "Train Loss: 0.0359 | Accuracy: 18.71\n",
      "\n",
      "Epoch 2\n",
      "Train Loss: 0.0357 | Accuracy: 41.31\n",
      "\n",
      "Epoch 3\n",
      "Train Loss: 0.0355 | Accuracy: 55.73\n",
      "\n",
      "Epoch 4\n",
      "Train Loss: 0.0352 | Accuracy: 61.81\n",
      "\n",
      "Epoch 5\n",
      "Train Loss: 0.0349 | Accuracy: 64.86\n",
      "\n",
      "Epoch 6\n",
      "Train Loss: 0.0347 | Accuracy: 67.37\n",
      "\n",
      "Epoch 7\n",
      "Train Loss: 0.0343 | Accuracy: 69.54\n",
      "\n",
      "Epoch 8\n",
      "Train Loss: 0.034 | Accuracy: 71.16\n",
      "\n",
      "Epoch 9\n",
      "Train Loss: 0.0336 | Accuracy: 72.66\n",
      "\n",
      "Epoch 10\n",
      "Train Loss: 0.0332 | Accuracy: 73.8\n",
      "\n",
      "Epoch 11\n",
      "Train Loss: 0.0328 | Accuracy: 74.72\n",
      "\n",
      "Epoch 12\n",
      "Train Loss: 0.0324 | Accuracy: 75.37\n",
      "\n",
      "Epoch 13\n",
      "Train Loss: 0.032 | Accuracy: 75.93\n",
      "\n",
      "Epoch 14\n",
      "Train Loss: 0.0316 | Accuracy: 76.42\n",
      "\n",
      "Epoch 15\n",
      "Train Loss: 0.0312 | Accuracy: 76.97\n",
      "\n",
      "Epoch 16\n",
      "Train Loss: 0.0309 | Accuracy: 77.5\n",
      "\n",
      "Epoch 17\n",
      "Train Loss: 0.0305 | Accuracy: 78.16\n",
      "\n",
      "Epoch 18\n",
      "Train Loss: 0.0302 | Accuracy: 78.64\n",
      "\n",
      "Epoch 19\n",
      "Train Loss: 0.03 | Accuracy: 79.15\n",
      "\n",
      "Epoch 20\n",
      "Train Loss: 0.0297 | Accuracy: 79.6\n",
      "\n",
      "Epoch 21\n",
      "Train Loss: 0.0295 | Accuracy: 80.06\n",
      "\n",
      "Epoch 22\n",
      "Train Loss: 0.0293 | Accuracy: 80.42\n",
      "\n",
      "Epoch 23\n",
      "Train Loss: 0.0291 | Accuracy: 80.69\n",
      "\n",
      "Epoch 24\n",
      "Train Loss: 0.0289 | Accuracy: 80.96\n",
      "\n",
      "Epoch 25\n",
      "Train Loss: 0.0287 | Accuracy: 81.17\n",
      "Done!\n",
      "\n",
      "Epoch 1\n",
      "Train Loss: 0.036 | Accuracy: 14.19\n",
      "\n",
      "Epoch 2\n",
      "Train Loss: 0.0359 | Accuracy: 24.43\n",
      "\n",
      "Epoch 3\n",
      "Train Loss: 0.0359 | Accuracy: 37.37\n",
      "\n",
      "Epoch 4\n",
      "Train Loss: 0.0358 | Accuracy: 48.99\n",
      "\n",
      "Epoch 5\n",
      "Train Loss: 0.0358 | Accuracy: 55.93\n",
      "\n",
      "Epoch 6\n",
      "Train Loss: 0.0357 | Accuracy: 60.23\n",
      "\n",
      "Epoch 7\n",
      "Train Loss: 0.0356 | Accuracy: 62.17\n",
      "\n",
      "Epoch 8\n",
      "Train Loss: 0.0355 | Accuracy: 63.16\n",
      "\n",
      "Epoch 9\n",
      "Train Loss: 0.0354 | Accuracy: 63.47\n",
      "\n",
      "Epoch 10\n",
      "Train Loss: 0.0353 | Accuracy: 63.43\n",
      "\n",
      "Epoch 11\n",
      "Train Loss: 0.0352 | Accuracy: 63.4\n",
      "\n",
      "Epoch 12\n",
      "Train Loss: 0.035 | Accuracy: 63.17\n",
      "\n",
      "Epoch 13\n",
      "Train Loss: 0.0349 | Accuracy: 63.45\n",
      "\n",
      "Epoch 14\n",
      "Train Loss: 0.0347 | Accuracy: 63.93\n",
      "\n",
      "Epoch 15\n",
      "Train Loss: 0.0344 | Accuracy: 64.72\n",
      "\n",
      "Epoch 16\n",
      "Train Loss: 0.0341 | Accuracy: 65.97\n",
      "\n",
      "Epoch 17\n",
      "Train Loss: 0.0338 | Accuracy: 67.0\n",
      "\n",
      "Epoch 18\n",
      "Train Loss: 0.0335 | Accuracy: 68.16\n",
      "\n",
      "Epoch 19\n",
      "Train Loss: 0.0331 | Accuracy: 69.28\n",
      "\n",
      "Epoch 20\n",
      "Train Loss: 0.0327 | Accuracy: 70.19\n",
      "\n",
      "Epoch 21\n",
      "Train Loss: 0.0322 | Accuracy: 71.0\n",
      "\n",
      "Epoch 22\n",
      "Train Loss: 0.0318 | Accuracy: 72.0\n",
      "\n",
      "Epoch 23\n",
      "Train Loss: 0.0313 | Accuracy: 72.81\n",
      "\n",
      "Epoch 24\n",
      "Train Loss: 0.0309 | Accuracy: 73.81\n",
      "\n",
      "Epoch 25\n",
      "Train Loss: 0.0305 | Accuracy: 74.88\n",
      "Done!\n",
      "\n",
      "Epoch 1\n",
      "Train Loss: 0.0343 | Accuracy: 33.48\n",
      "\n",
      "Epoch 2\n",
      "Train Loss: 0.0214 | Accuracy: 64.97\n",
      "\n",
      "Epoch 3\n",
      "Train Loss: 0.0111 | Accuracy: 78.81\n",
      "\n",
      "Epoch 4\n",
      "Train Loss: 0.0087 | Accuracy: 83.23\n",
      "\n",
      "Epoch 5\n",
      "Train Loss: 0.0076 | Accuracy: 85.4\n",
      "\n",
      "Epoch 6\n",
      "Train Loss: 0.007 | Accuracy: 86.58\n",
      "\n",
      "Epoch 7\n",
      "Train Loss: 0.0065 | Accuracy: 87.52\n",
      "\n",
      "Epoch 8\n",
      "Train Loss: 0.0061 | Accuracy: 88.28\n",
      "\n",
      "Epoch 9\n",
      "Train Loss: 0.0058 | Accuracy: 88.97\n",
      "\n",
      "Epoch 10\n",
      "Train Loss: 0.0055 | Accuracy: 89.61\n",
      "\n",
      "Epoch 11\n",
      "Train Loss: 0.0052 | Accuracy: 89.97\n",
      "\n",
      "Epoch 12\n",
      "Train Loss: 0.005 | Accuracy: 90.4\n",
      "\n",
      "Epoch 13\n",
      "Train Loss: 0.0049 | Accuracy: 90.73\n",
      "\n",
      "Epoch 14\n",
      "Train Loss: 0.0047 | Accuracy: 91.2\n",
      "\n",
      "Epoch 15\n",
      "Train Loss: 0.0046 | Accuracy: 91.31\n",
      "\n",
      "Epoch 16\n",
      "Train Loss: 0.0045 | Accuracy: 91.5\n",
      "\n",
      "Epoch 17\n",
      "Train Loss: 0.0043 | Accuracy: 91.7\n",
      "\n",
      "Epoch 18\n",
      "Train Loss: 0.0042 | Accuracy: 92.06\n",
      "\n",
      "Epoch 19\n",
      "Train Loss: 0.0042 | Accuracy: 92.08\n",
      "\n",
      "Epoch 20\n",
      "Train Loss: 0.004 | Accuracy: 92.42\n",
      "\n",
      "Epoch 21\n",
      "Train Loss: 0.0039 | Accuracy: 92.44\n",
      "\n",
      "Epoch 22\n",
      "Train Loss: 0.0038 | Accuracy: 92.62\n",
      "\n",
      "Epoch 23\n",
      "Train Loss: 0.0038 | Accuracy: 92.8\n",
      "\n",
      "Epoch 24\n",
      "Train Loss: 0.0037 | Accuracy: 92.97\n",
      "\n",
      "Epoch 25\n",
      "Train Loss: 0.0037 | Accuracy: 93.01\n",
      "Done!\n",
      "\n",
      "Epoch 1\n",
      "Train Loss: 0.0159 | Accuracy: 78.15\n",
      "\n",
      "Epoch 2\n",
      "Train Loss: 0.0046 | Accuracy: 93.5\n",
      "\n",
      "Epoch 3\n",
      "Train Loss: 0.0029 | Accuracy: 95.5\n",
      "\n",
      "Epoch 4\n",
      "Train Loss: 0.0021 | Accuracy: 96.49\n",
      "\n",
      "Epoch 5\n",
      "Train Loss: 0.0017 | Accuracy: 97.19\n",
      "\n",
      "Epoch 6\n",
      "Train Loss: 0.0014 | Accuracy: 97.62\n",
      "\n",
      "Epoch 7\n",
      "Train Loss: 0.0012 | Accuracy: 97.89\n",
      "\n",
      "Epoch 8\n",
      "Train Loss: 0.0011 | Accuracy: 98.21\n",
      "\n",
      "Epoch 9\n",
      "Train Loss: 0.001 | Accuracy: 98.41\n",
      "\n",
      "Epoch 10\n",
      "Train Loss: 0.0009 | Accuracy: 98.64\n",
      "\n",
      "Epoch 11\n",
      "Train Loss: 0.0008 | Accuracy: 98.76\n",
      "\n",
      "Epoch 12\n",
      "Train Loss: 0.0007 | Accuracy: 98.9\n",
      "\n",
      "Epoch 13\n",
      "Train Loss: 0.0007 | Accuracy: 98.98\n",
      "\n",
      "Epoch 14\n",
      "Train Loss: 0.0006 | Accuracy: 99.09\n",
      "\n",
      "Epoch 15\n",
      "Train Loss: 0.0005 | Accuracy: 99.2\n",
      "\n",
      "Epoch 16\n",
      "Train Loss: 0.0005 | Accuracy: 99.31\n",
      "\n",
      "Epoch 17\n",
      "Train Loss: 0.0005 | Accuracy: 99.35\n",
      "\n",
      "Epoch 18\n",
      "Train Loss: 0.0004 | Accuracy: 99.41\n",
      "\n",
      "Epoch 19\n",
      "Train Loss: 0.0004 | Accuracy: 99.47\n",
      "\n",
      "Epoch 20\n",
      "Train Loss: 0.0004 | Accuracy: 99.52\n",
      "\n",
      "Epoch 21\n",
      "Train Loss: 0.0003 | Accuracy: 99.57\n",
      "\n",
      "Epoch 22\n",
      "Train Loss: 0.0003 | Accuracy: 99.59\n",
      "\n",
      "Epoch 23\n",
      "Train Loss: 0.0003 | Accuracy: 99.67\n",
      "\n",
      "Epoch 24\n",
      "Train Loss: 0.0003 | Accuracy: 99.7\n",
      "\n",
      "Epoch 25\n",
      "Train Loss: 0.0003 | Accuracy: 99.72\n",
      "Done!\n"
     ]
    }
   ],
   "source": [
    "models_acc = []\n",
    "models_losses = []\n",
    "\n",
    "for model in models:\n",
    "    optimizer = torch.optim.SGD(model.parameters(), lr=lr , momentum=momentum)\n",
    "    train_acc = []\n",
    "    train_losses = []\n",
    "\n",
    "    for epoch in range(epochs):\n",
    "        train_loss, acc = train(train_dl, model, criterion, optimizer, epoch)\n",
    "        train_losses.append(train_loss)\n",
    "        train_acc.append(acc)\n",
    "    print(\"Done!\")\n",
    "    models_acc.append((train_acc))\n",
    "    models_losses.append((train_losses))"
   ]
  },
  {
   "cell_type": "markdown",
   "id": "incomplete-upgrade",
   "metadata": {},
   "source": [
    "## VISUALIZE TRAINING"
   ]
  },
  {
   "cell_type": "code",
   "execution_count": 20,
   "id": "south-fusion",
   "metadata": {},
   "outputs": [
    {
     "data": {
      "image/png": "[encoded data removed]",
      "text/plain": [
       "<Figure size 432x288 with 1 Axes>"
      ]
     },
     "metadata": {
      "needs_background": "light"
     },
     "output_type": "display_data"
    }
   ],
   "source": [
    "colors = ['red', 'orange', 'blue', 'green']\n",
    "for i, model in enumerate(models_acc):\n",
    "    plt.plot(model, color=colors[i])"
   ]
  },
  {
   "cell_type": "code",
   "execution_count": 21,
   "id": "upper-dylan",
   "metadata": {},
   "outputs": [
    {
     "data": {
      "image/png": "[encoded data removed]",
      "text/plain": [
       "<Figure size 432x288 with 1 Axes>"
      ]
     },
     "metadata": {
      "needs_background": "light"
     },
     "output_type": "display_data"
    }
   ],
   "source": [
    "for i, model in enumerate(models_losses):\n",
    "    plt.plot(model, color=colors[i])"
   ]
  },
  {
   "cell_type": "markdown",
   "id": "quantitative-marketing",
   "metadata": {},
   "source": [
    "## TESTING"
   ]
  },
  {
   "cell_type": "code",
   "execution_count": 27,
   "id": "native-provision",
   "metadata": {},
   "outputs": [],
   "source": [
    "def check_accuracy(loader, model):\n",
    "    num_correct = 0\n",
    "    num_samples = 0\n",
    "    model.eval()\n",
    "    \n",
    "    with torch.no_grad():\n",
    "        for X, y in loader:\n",
    "            X = X.to(device)\n",
    "            y = y.to(device)\n",
    "            \n",
    "            scores = model(X)\n",
    "            _, predictions = scores.max(1)\n",
    "            num_correct += (predictions == y).sum()\n",
    "            num_samples += predictions.size(0)\n",
    "        \n",
    "        print(f'Got {num_correct} / {num_samples} with accuracy {float(num_correct)/float(num_samples)*100:.2f}') \n",
    "        \n",
    "    model.train()"
   ]
  },
  {
   "cell_type": "code",
   "execution_count": 28,
   "id": "broken-marker",
   "metadata": {},
   "outputs": [
    {
     "name": "stdout",
     "output_type": "stream",
     "text": [
      "Got 8173 / 10000 with accuracy 81.73\n",
      "Got 7581 / 10000 with accuracy 75.81\n",
      "Got 9590 / 10000 with accuracy 95.90\n",
      "Got 9883 / 10000 with accuracy 98.83\n"
     ]
    }
   ],
   "source": [
    "for model in models:\n",
    "    check_accuracy(test_dl, model)"
   ]
  },
  {
   "cell_type": "markdown",
   "id": "painful-kidney",
   "metadata": {},
   "source": [
    "## SAVE MODELS"
   ]
  },
  {
   "cell_type": "code",
   "execution_count": 38,
   "id": "collect-mills",
   "metadata": {},
   "outputs": [],
   "source": [
    "for model in models:\n",
    "    torch.save(model.state_dict(), f'./models/{model.__class__.__name__}.pt')"
   ]
  }
 ],
 "metadata": {
  "kernelspec": {
   "display_name": "Python 3",
   "language": "python",
   "name": "python3"
  },
  "language_info": {
   "codemirror_mode": {
    "name": "ipython",
    "version": 3
   },
   "file_extension": ".py",
   "mimetype": "text/x-python",
   "name": "python",
   "nbconvert_exporter": "python",
   "pygments_lexer": "ipython3",
   "version": "3.8.5"
  }
 },
 "nbformat": 4,
 "nbformat_minor": 5
}
